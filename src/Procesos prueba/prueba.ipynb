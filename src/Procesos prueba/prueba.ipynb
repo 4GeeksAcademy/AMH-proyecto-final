{
 "cells": [
  {
   "cell_type": "code",
   "execution_count": 1,
   "metadata": {},
   "outputs": [],
   "source": [
    "#Importamos escalas\n",
    "import pickle\n",
    "with open('../data/scalers/scaler_X_ind.pkl', 'rb') as f:\n",
    "    scaler_X_ind = pickle.load(f)"
   ]
  },
  {
   "cell_type": "code",
   "execution_count": 1,
   "metadata": {},
   "outputs": [],
   "source": [
    "import streamlit as st\n",
    "from tensorflow.keras.models import load_model\n",
    "import pickle\n",
    "import datetime\n",
    "import pandas as pd\n",
    "import numpy as np\n"
   ]
  },
  {
   "cell_type": "code",
   "execution_count": 2,
   "metadata": {},
   "outputs": [
    {
     "name": "stderr",
     "output_type": "stream",
     "text": [
      "WARNING:absl:Compiled the loaded model, but the compiled metrics have yet to be built. `model.compile_metrics` will be empty until you train or evaluate the model.\n",
      "WARNING:absl:Compiled the loaded model, but the compiled metrics have yet to be built. `model.compile_metrics` will be empty until you train or evaluate the model.\n",
      "WARNING:absl:Compiled the loaded model, but the compiled metrics have yet to be built. `model.compile_metrics` will be empty until you train or evaluate the model.\n"
     ]
    }
   ],
   "source": [
    "#Importo df\n",
    "df_ind = pd.read_csv('../data/DF_modelos/df_industrial_total.csv')\n",
    "df_res = pd.read_csv('../data/DF_modelos/df_residencial_total.csv')\n",
    "df_serv = pd.read_csv('../data/DF_modelos/df_servicios_total.csv')\n",
    "\n",
    "#Importamos modelo\n",
    "modelInd = load_model('../models/modelo_industrial_def.h5')\n",
    "modelRes = load_model('../models/modelo_residencial_def.h5')\n",
    "modelSer = load_model('../models/modelo_servicios_def.h5')\n",
    "\n",
    "#Importamos escalas\n",
    "with open('../data/scalers/scaler_X_ind.pkl', 'rb') as f:\n",
    "    scaler_X_ind = pickle.load(f)\n",
    "with open('../data/scalers/scaler_y_ind.pkl', 'rb') as f:\n",
    "    scaler_y_ind = pickle.load(f)\n",
    "with open('../data/scalers/scaler_X_res.pkl', 'rb') as f:\n",
    "    scaler_X_res = pickle.load(f)\n",
    "with open('../data/scalers/scaler_y_res.pkl', 'rb') as f:\n",
    "    scaler_y_res = pickle.load(f)\n",
    "with open('../data/scalers/scaler_X_serv.pkl', 'rb') as f:\n",
    "    scaler_X_serv = pickle.load(f)\n",
    "with open('../data/scalers/scaler_y_serv.pkl', 'rb') as f:\n",
    "    scaler_y_serv = pickle.load(f)"
   ]
  },
  {
   "cell_type": "code",
   "execution_count": 6,
   "metadata": {},
   "outputs": [],
   "source": [
    "def create_sequences(X, time_steps):\n",
    "    Xs, ys = [], []\n",
    "    # Ajuste para asegurarse de que no excedamos el rango del conjunto de datos\n",
    "    for i in range(len(X) - time_steps):\n",
    "        Xs.append(X[i:i + time_steps])\n",
    "    return np.array(Xs)"
   ]
  },
  {
   "cell_type": "code",
   "execution_count": 18,
   "metadata": {},
   "outputs": [],
   "source": [
    "def predecir_industrial(datos_usuario_ind):\n",
    "    # Predecir los valores de prueba\n",
    "    datos_usuario_df_ind = pd.DataFrame([datos_usuario_ind])\n",
    "    Ultima_fila=df_ind.iloc[-1]\n",
    "    df_datos = pd.concat([Ultima_fila_df, datos_usuario_df_ind], ignore_index=True)\n",
    "    Ultima_fila_df = pd.DataFrame([Ultima_fila])\n",
    "    datos_usuario_scaled_ind= scaler_X_ind.transform(datos_usuario_df_ind)\n",
    "    time_steps = 2  # Esto significa que la predicción se basará en los últimos 2 dias\n",
    "    datos_seq, = create_sequences(datos_usuario_scaled_ind, time_steps)\n",
    "    predInd_scaled = modelInd.predict(datos_usuario_scaled_ind)\n",
    "    # Desescalar las predicciones y los valores reales para comparar\n",
    "    predInd = scaler_y_ind.inverse_transform(predInd_scaled)\n",
    "    return predInd"
   ]
  },
  {
   "cell_type": "code",
   "execution_count": 34,
   "metadata": {},
   "outputs": [],
   "source": [
    "def predecir_industrial(datos_usuario_ind):\n",
    "    # Predecir los valores de prueba\n",
    "    datos_usuario_df_ind = pd.DataFrame([datos_usuario_ind])\n",
    "    df_ind['t-1'] = df_ind['consumo'].shift(1)\n",
    "    # Obtener la última fila del DataFrame\n",
    "    Ultima_fila = df_ind.iloc[-1]\n",
    "\n",
    "    # Convertir la serie en un DataFrame de una sola fila\n",
    "    Ultima_fila_df = pd.DataFrame([Ultima_fila])  \n",
    "\n",
    "    # Concatenar la última fila con los datos del usuario\n",
    "    df_datos = pd.concat([Ultima_fila_df, datos_usuario_df_ind], ignore_index=True)\n",
    "\n",
    "    # Filtrar solo las columnas necesarias\n",
    "    columnas_necesarias = ['findesemana','festivos', 'COVID', 'tmed', 't-1']\n",
    "    \n",
    "    # Asegurarse de que solo se están usando las columnas necesarias en el orden correcto\n",
    "    df_datos_filtrados = df_datos[columnas_necesarias]\n",
    "\n",
    "    # Imprimir las columnas para verificar el orden\n",
    "    print(\"Columnas a escalar:\", df_datos_filtrados.columns.tolist())\n",
    "    print(\"Orden esperado:\", columnas_necesarias)\n",
    "\n",
    "    # Obtener las características del escalador\n",
    "    feature_names = scaler_X_ind.get_feature_names_out()\n",
    "    print(\"Características utilizadas en el ajuste del escalador:\", feature_names)\n",
    "\n",
    "    # Verificar que las columnas filtradas coincidan con las que se usaron para ajustar el escalador\n",
    "    if not df_datos_filtrados.columns.equals(pd.Index(feature_names)):\n",
    "        raise ValueError(\"Las columnas a escalar no coinciden con las características del escalador.\")\n",
    "\n",
    "    # Escalar los datos\n",
    "    datos_usuario_scaled_ind = scaler_X_ind.transform(df_datos_filtrados)\n",
    "\n",
    "    # Preparar las secuencias para la predicción\n",
    "    time_steps = 2  # Esto significa que la predicción se basará en los últimos 2 días\n",
    "    datos_seq = create_sequences(datos_usuario_scaled_ind, time_steps)\n",
    "\n",
    "    # Realizar la predicción\n",
    "    predInd_scaled = modelInd.predict(datos_seq)\n",
    "\n",
    "    # Desescalar la predicción\n",
    "    predInd = scaler_y_ind.inverse_transform(predInd_scaled)\n",
    "\n",
    "    return predInd\n"
   ]
  },
  {
   "cell_type": "code",
   "execution_count": 35,
   "metadata": {},
   "outputs": [],
   "source": [
    "temperatura_final=21\n",
    "findesemana=0\n",
    "festivos=0\n",
    "t_1=df_ind['consumo'].iloc[-1]\n",
    "\n",
    "datos_usuario = {\n",
    "    \"findesemana\": findesemana,\n",
    "    \"festivos\": festivos,\n",
    "    \"COVID\": 0,\n",
    "    \"tmed\": temperatura_final,\n",
    "    \"t-1\": t_1\n",
    "}"
   ]
  },
  {
   "cell_type": "code",
   "execution_count": 36,
   "metadata": {},
   "outputs": [
    {
     "name": "stdout",
     "output_type": "stream",
     "text": [
      "Columnas a escalar: ['findesemana', 'festivos', 'COVID', 'tmed', 't-1']\n",
      "Orden esperado: ['findesemana', 'festivos', 'COVID', 'tmed', 't-1']\n",
      "Características utilizadas en el ajuste del escalador: ['findesemana' 'festivos' 'COVID' 'tmed' 't-1']\n"
     ]
    },
    {
     "name": "stderr",
     "output_type": "stream",
     "text": [
      "C:\\Program Files\\WindowsApps\\PythonSoftwareFoundation.Python.3.11_3.11.2544.0_x64__qbz5n2kfra8p0\\Lib\\contextlib.py:158: UserWarning: Your input ran out of data; interrupting training. Make sure that your dataset or generator can generate at least `steps_per_epoch * epochs` batches. You may need to use the `.repeat()` function when building your dataset.\n",
      "  self.gen.throw(typ, value, traceback)\n"
     ]
    },
    {
     "ename": "ValueError",
     "evalue": "math domain error",
     "output_type": "error",
     "traceback": [
      "\u001b[1;31m---------------------------------------------------------------------------\u001b[0m",
      "\u001b[1;31mValueError\u001b[0m                                Traceback (most recent call last)",
      "Cell \u001b[1;32mIn[36], line 1\u001b[0m\n\u001b[1;32m----> 1\u001b[0m prediction \u001b[38;5;241m=\u001b[39m \u001b[43mpredecir_industrial\u001b[49m\u001b[43m(\u001b[49m\u001b[43mdatos_usuario\u001b[49m\u001b[43m)\u001b[49m\n\u001b[0;32m      2\u001b[0m \u001b[38;5;28mprint\u001b[39m(\u001b[38;5;124mf\u001b[39m\u001b[38;5;124m\"\u001b[39m\u001b[38;5;124mEl día 2 se prevé un consumo de \u001b[39m\u001b[38;5;132;01m{\u001b[39;00mprediction[\u001b[38;5;241m0\u001b[39m][\u001b[38;5;241m0\u001b[39m]\u001b[38;5;132;01m:\u001b[39;00m\u001b[38;5;124m.2f\u001b[39m\u001b[38;5;132;01m}\u001b[39;00m\u001b[38;5;124m\"\u001b[39m)\n",
      "Cell \u001b[1;32mIn[34], line 40\u001b[0m, in \u001b[0;36mpredecir_industrial\u001b[1;34m(datos_usuario_ind)\u001b[0m\n\u001b[0;32m     37\u001b[0m datos_seq \u001b[38;5;241m=\u001b[39m create_sequences(datos_usuario_scaled_ind, time_steps)\n\u001b[0;32m     39\u001b[0m \u001b[38;5;66;03m# Realizar la predicción\u001b[39;00m\n\u001b[1;32m---> 40\u001b[0m predInd_scaled \u001b[38;5;241m=\u001b[39m \u001b[43mmodelInd\u001b[49m\u001b[38;5;241;43m.\u001b[39;49m\u001b[43mpredict\u001b[49m\u001b[43m(\u001b[49m\u001b[43mdatos_seq\u001b[49m\u001b[43m)\u001b[49m\n\u001b[0;32m     42\u001b[0m \u001b[38;5;66;03m# Desescalar la predicción\u001b[39;00m\n\u001b[0;32m     43\u001b[0m predInd \u001b[38;5;241m=\u001b[39m scaler_y_ind\u001b[38;5;241m.\u001b[39minverse_transform(predInd_scaled)\n",
      "File \u001b[1;32m~\\AppData\\Local\\Packages\\PythonSoftwareFoundation.Python.3.11_qbz5n2kfra8p0\\LocalCache\\local-packages\\Python311\\site-packages\\keras\\src\\utils\\traceback_utils.py:122\u001b[0m, in \u001b[0;36mfilter_traceback.<locals>.error_handler\u001b[1;34m(*args, **kwargs)\u001b[0m\n\u001b[0;32m    119\u001b[0m     filtered_tb \u001b[38;5;241m=\u001b[39m _process_traceback_frames(e\u001b[38;5;241m.\u001b[39m__traceback__)\n\u001b[0;32m    120\u001b[0m     \u001b[38;5;66;03m# To get the full stack trace, call:\u001b[39;00m\n\u001b[0;32m    121\u001b[0m     \u001b[38;5;66;03m# `keras.config.disable_traceback_filtering()`\u001b[39;00m\n\u001b[1;32m--> 122\u001b[0m     \u001b[38;5;28;01mraise\u001b[39;00m e\u001b[38;5;241m.\u001b[39mwith_traceback(filtered_tb) \u001b[38;5;28;01mfrom\u001b[39;00m \u001b[38;5;28;01mNone\u001b[39;00m\n\u001b[0;32m    123\u001b[0m \u001b[38;5;28;01mfinally\u001b[39;00m:\n\u001b[0;32m    124\u001b[0m     \u001b[38;5;28;01mdel\u001b[39;00m filtered_tb\n",
      "File \u001b[1;32m~\\AppData\\Local\\Packages\\PythonSoftwareFoundation.Python.3.11_qbz5n2kfra8p0\\LocalCache\\local-packages\\Python311\\site-packages\\keras\\src\\utils\\progbar.py:119\u001b[0m, in \u001b[0;36mProgbar.update\u001b[1;34m(self, current, values, finalize)\u001b[0m\n\u001b[0;32m    116\u001b[0m     message \u001b[38;5;241m+\u001b[39m\u001b[38;5;241m=\u001b[39m \u001b[38;5;124m\"\u001b[39m\u001b[38;5;130;01m\\n\u001b[39;00m\u001b[38;5;124m\"\u001b[39m\n\u001b[0;32m    118\u001b[0m \u001b[38;5;28;01mif\u001b[39;00m \u001b[38;5;28mself\u001b[39m\u001b[38;5;241m.\u001b[39mtarget \u001b[38;5;129;01mis\u001b[39;00m \u001b[38;5;129;01mnot\u001b[39;00m \u001b[38;5;28;01mNone\u001b[39;00m:\n\u001b[1;32m--> 119\u001b[0m     numdigits \u001b[38;5;241m=\u001b[39m \u001b[38;5;28mint\u001b[39m(\u001b[43mmath\u001b[49m\u001b[38;5;241;43m.\u001b[39;49m\u001b[43mlog10\u001b[49m\u001b[43m(\u001b[49m\u001b[38;5;28;43mself\u001b[39;49m\u001b[38;5;241;43m.\u001b[39;49m\u001b[43mtarget\u001b[49m\u001b[43m)\u001b[49m) \u001b[38;5;241m+\u001b[39m \u001b[38;5;241m1\u001b[39m\n\u001b[0;32m    120\u001b[0m     bar \u001b[38;5;241m=\u001b[39m (\u001b[38;5;124m\"\u001b[39m\u001b[38;5;124m%\u001b[39m\u001b[38;5;124m\"\u001b[39m \u001b[38;5;241m+\u001b[39m \u001b[38;5;28mstr\u001b[39m(numdigits) \u001b[38;5;241m+\u001b[39m \u001b[38;5;124m\"\u001b[39m\u001b[38;5;124md/\u001b[39m\u001b[38;5;132;01m%d\u001b[39;00m\u001b[38;5;124m\"\u001b[39m) \u001b[38;5;241m%\u001b[39m (current, \u001b[38;5;28mself\u001b[39m\u001b[38;5;241m.\u001b[39mtarget)\n\u001b[0;32m    121\u001b[0m     bar \u001b[38;5;241m=\u001b[39m \u001b[38;5;124mf\u001b[39m\u001b[38;5;124m\"\u001b[39m\u001b[38;5;130;01m\\x1b\u001b[39;00m\u001b[38;5;124m[1m\u001b[39m\u001b[38;5;132;01m{\u001b[39;00mbar\u001b[38;5;132;01m}\u001b[39;00m\u001b[38;5;130;01m\\x1b\u001b[39;00m\u001b[38;5;124m[0m \u001b[39m\u001b[38;5;124m\"\u001b[39m\n",
      "\u001b[1;31mValueError\u001b[0m: math domain error"
     ]
    }
   ],
   "source": [
    "prediction = predecir_industrial(datos_usuario)\n",
    "print(f\"El día 2 se prevé un consumo de {prediction[0][0]:.2f}\")"
   ]
  },
  {
   "cell_type": "code",
   "execution_count": 3,
   "metadata": {},
   "outputs": [
    {
     "name": "stdout",
     "output_type": "stream",
     "text": [
      "Características del escalador:\n",
      "['findesemana' 'festivos' 'COVID' 'tmed' 't-1']\n",
      "Valores mínimos de las características:\n",
      "[0.00000e+00 0.00000e+00 0.00000e+00 1.47200e+00 4.44614e+05]\n",
      "Valores máximos de las características:\n",
      "[1.00000000e+00 1.00000000e+00 2.00000000e+00 3.12045455e+01\n",
      " 3.58297500e+06]\n"
     ]
    }
   ],
   "source": [
    "# Comprobar si el escalador tiene atributos relevantes\n",
    "if hasattr(scaler_X_ind, 'feature_names_in_'):\n",
    "    print(\"Características del escalador:\")\n",
    "    print(scaler_X_ind.feature_names_in_)\n",
    "\n",
    "print(\"Valores mínimos de las características:\")\n",
    "print(scaler_X_ind.data_min_)\n",
    "print(\"Valores máximos de las características:\")\n",
    "print(scaler_X_ind.data_max_)\n"
   ]
  },
  {
   "cell_type": "code",
   "execution_count": 4,
   "metadata": {},
   "outputs": [
    {
     "name": "stdout",
     "output_type": "stream",
     "text": [
      "Características del escalador:\n",
      "['findesemana' 'tmed' 'PIB' 't-1']\n",
      "Valores mínimos de las características:\n",
      "[0.00000e+00 1.47200e+00 4.93010e+04 6.11981e+05]\n",
      "Valores máximos de las características:\n",
      "[1.00000000e+00 3.12045455e+01 7.72680000e+04 1.33902900e+07]\n"
     ]
    }
   ],
   "source": [
    "# Comprobar si el escalador tiene atributos relevantes\n",
    "if hasattr(scaler_X_res, 'feature_names_in_'):\n",
    "    print(\"Características del escalador:\")\n",
    "    print(scaler_X_res.feature_names_in_)\n",
    "\n",
    "print(\"Valores mínimos de las características:\")\n",
    "print(scaler_X_res.data_min_)\n",
    "print(\"Valores máximos de las características:\")\n",
    "print(scaler_X_res.data_max_)"
   ]
  },
  {
   "cell_type": "code",
   "execution_count": 5,
   "metadata": {},
   "outputs": [
    {
     "name": "stdout",
     "output_type": "stream",
     "text": [
      "Características del escalador:\n",
      "['findesemana' 'festivos' 'pernoctaciones' 'tmed' 'poblacion' 't-1']\n",
      "Valores mínimos de las características:\n",
      "[0.000000e+00 0.000000e+00 5.100000e+04 1.472000e+00 5.628011e+06\n",
      " 4.942218e+06]\n",
      "Valores máximos de las características:\n",
      "[1.00000000e+00 1.00000000e+00 1.27000000e+06 3.12045455e+01\n",
      " 5.88487300e+06 1.99296680e+07]\n"
     ]
    }
   ],
   "source": [
    "# Comprobar si el escalador tiene atributos relevantes\n",
    "if hasattr(scaler_X_serv, 'feature_names_in_'):\n",
    "    print(\"Características del escalador:\")\n",
    "    print(scaler_X_serv.feature_names_in_)\n",
    "\n",
    "print(\"Valores mínimos de las características:\")\n",
    "print(scaler_X_serv.data_min_)\n",
    "print(\"Valores máximos de las características:\")\n",
    "print(scaler_X_serv.data_max_)"
   ]
  }
 ],
 "metadata": {
  "kernelspec": {
   "display_name": "Python 3",
   "language": "python",
   "name": "python3"
  },
  "language_info": {
   "codemirror_mode": {
    "name": "ipython",
    "version": 3
   },
   "file_extension": ".py",
   "mimetype": "text/x-python",
   "name": "python",
   "nbconvert_exporter": "python",
   "pygments_lexer": "ipython3",
   "version": "3.11.9"
  }
 },
 "nbformat": 4,
 "nbformat_minor": 2
}
