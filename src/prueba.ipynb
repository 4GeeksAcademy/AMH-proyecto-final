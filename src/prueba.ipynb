{
 "cells": [
  {
   "cell_type": "code",
   "execution_count": 1,
   "metadata": {},
   "outputs": [],
   "source": [
    "#Importamos escalas\n",
    "import pickle\n",
    "with open('../data/scalers/scaler_X_ind.pkl', 'rb') as f:\n",
    "    scaler_X_ind = pickle.load(f)"
   ]
  },
  {
   "cell_type": "code",
   "execution_count": 8,
   "metadata": {},
   "outputs": [],
   "source": [
    "import streamlit as st\n",
    "from tensorflow.keras.models import load_model\n",
    "import pickle\n",
    "import datetime\n",
    "import pandas as pd\n",
    "import numpy as np\n"
   ]
  },
  {
   "cell_type": "code",
   "execution_count": 15,
   "metadata": {},
   "outputs": [
    {
     "name": "stderr",
     "output_type": "stream",
     "text": [
      "WARNING:absl:Compiled the loaded model, but the compiled metrics have yet to be built. `model.compile_metrics` will be empty until you train or evaluate the model.\n",
      "WARNING:absl:Compiled the loaded model, but the compiled metrics have yet to be built. `model.compile_metrics` will be empty until you train or evaluate the model.\n",
      "WARNING:absl:Compiled the loaded model, but the compiled metrics have yet to be built. `model.compile_metrics` will be empty until you train or evaluate the model.\n"
     ]
    }
   ],
   "source": [
    "#Importo df\n",
    "df_ind = pd.read_csv('../data/DF_modelos/df_industrial_total.csv')\n",
    "df_res = pd.read_csv('../data/DF_modelos/df_residencial_total.csv')\n",
    "df_serv = pd.read_csv('../data/DF_modelos/df_servicios_total.csv')\n",
    "\n",
    "#Importamos modelo\n",
    "modelInd = load_model('../models/modelo_industrial_def.h5')\n",
    "modelRes = load_model('../models/modelo_residencial_def.h5')\n",
    "modelSer = load_model('../models/modelo_servicios_def.h5')\n",
    "\n",
    "#Importamos escalas\n",
    "with open('../data/scalers/scaler_X_ind.pkl', 'rb') as f:\n",
    "    scaler_X_ind = pickle.load(f)\n",
    "with open('../data/scalers/scaler_y_ind.pkl', 'rb') as f:\n",
    "    scaler_y_ind = pickle.load(f)\n",
    "with open('../data/scalers/scaler_X_res.pkl', 'rb') as f:\n",
    "    scaler_X_res = pickle.load(f)\n",
    "with open('../data/scalers/scaler_y_res.pkl', 'rb') as f:\n",
    "    scaler_y_res = pickle.load(f)\n",
    "with open('../data/scalers/scaler_X_serv.pkl', 'rb') as f:\n",
    "    scaler_X_serv = pickle.load(f)\n",
    "with open('../data/scalers/scaler_y_serv.pkl', 'rb') as f:\n",
    "    scaler_y_serv = pickle.load(f)"
   ]
  },
  {
   "cell_type": "code",
   "execution_count": 22,
   "metadata": {},
   "outputs": [],
   "source": [
    "def create_sequences(X, time_steps):\n",
    "    Xs, ys = [], []\n",
    "    # Ajuste para asegurarse de que no excedamos el rango del conjunto de datos\n",
    "    for i in range(len(X) - time_steps):\n",
    "        Xs.append(X[i:i + time_steps])\n",
    "    return np.array(Xs)"
   ]
  },
  {
   "cell_type": "code",
   "execution_count": 23,
   "metadata": {},
   "outputs": [],
   "source": [
    "def predecir_industrial(datos_usuario_ind):\n",
    "    # Predecir los valores de prueba\n",
    "    datos_usuario_df_ind = pd.DataFrame([datos_usuario_ind])\n",
    "    datos_usuario_scaled_ind= scaler_X_ind.transform(datos_usuario_df_ind)\n",
    "    time_steps = 2  # Esto significa que la predicción se basará en los últimos 2 dias\n",
    "    datos_seq, = create_sequences(datos_usuario_scaled_ind, time_steps)\n",
    "    predInd_scaled = modelInd.predict(datos_usuario_scaled_ind)\n",
    "    # Desescalar las predicciones y los valores reales para comparar\n",
    "    predInd = scaler_y_ind.inverse_transform(predInd_scaled)\n",
    "    return predInd"
   ]
  },
  {
   "cell_type": "code",
   "execution_count": 24,
   "metadata": {},
   "outputs": [],
   "source": [
    "temperatura_final=21\n",
    "findesemana=0\n",
    "festivos=0\n",
    "t_1=df_ind['consumo'].iloc[-1]\n",
    "\n",
    "datos_usuario = {\n",
    "    \"findesemana\": findesemana,\n",
    "    \"festivos\": festivos,\n",
    "    \"COVID\": 0,\n",
    "    \"tmed\": temperatura_final,\n",
    "    \"t-1\": t_1\n",
    "}"
   ]
  },
  {
   "cell_type": "code",
   "execution_count": 25,
   "metadata": {},
   "outputs": [
    {
     "ename": "ValueError",
     "evalue": "not enough values to unpack (expected 1, got 0)",
     "output_type": "error",
     "traceback": [
      "\u001b[1;31m---------------------------------------------------------------------------\u001b[0m",
      "\u001b[1;31mValueError\u001b[0m                                Traceback (most recent call last)",
      "Cell \u001b[1;32mIn[25], line 1\u001b[0m\n\u001b[1;32m----> 1\u001b[0m prediction \u001b[38;5;241m=\u001b[39m \u001b[43mpredecir_industrial\u001b[49m\u001b[43m(\u001b[49m\u001b[43mdatos_usuario\u001b[49m\u001b[43m)\u001b[49m\n\u001b[0;32m      2\u001b[0m \u001b[38;5;28mprint\u001b[39m(\u001b[38;5;124mf\u001b[39m\u001b[38;5;124m\"\u001b[39m\u001b[38;5;124mEl día 2 se prevé un consumo de \u001b[39m\u001b[38;5;132;01m{\u001b[39;00mprediction[\u001b[38;5;241m0\u001b[39m][\u001b[38;5;241m0\u001b[39m]\u001b[38;5;132;01m:\u001b[39;00m\u001b[38;5;124m.2f\u001b[39m\u001b[38;5;132;01m}\u001b[39;00m\u001b[38;5;124m\"\u001b[39m)\n",
      "Cell \u001b[1;32mIn[23], line 6\u001b[0m, in \u001b[0;36mpredecir_industrial\u001b[1;34m(datos_usuario_ind)\u001b[0m\n\u001b[0;32m      4\u001b[0m datos_usuario_scaled_ind\u001b[38;5;241m=\u001b[39m scaler_X_ind\u001b[38;5;241m.\u001b[39mtransform(datos_usuario_df_ind)\n\u001b[0;32m      5\u001b[0m time_steps \u001b[38;5;241m=\u001b[39m \u001b[38;5;241m2\u001b[39m  \u001b[38;5;66;03m# Esto significa que la predicción se basará en los últimos 2 dias\u001b[39;00m\n\u001b[1;32m----> 6\u001b[0m datos_seq, \u001b[38;5;241m=\u001b[39m create_sequences(datos_usuario_scaled_ind, time_steps)\n\u001b[0;32m      7\u001b[0m predInd_scaled \u001b[38;5;241m=\u001b[39m modelInd\u001b[38;5;241m.\u001b[39mpredict(datos_usuario_scaled_ind)\n\u001b[0;32m      8\u001b[0m \u001b[38;5;66;03m# Desescalar las predicciones y los valores reales para comparar\u001b[39;00m\n",
      "\u001b[1;31mValueError\u001b[0m: not enough values to unpack (expected 1, got 0)"
     ]
    }
   ],
   "source": [
    "prediction = predecir_industrial(datos_usuario)\n",
    "print(f\"El día 2 se prevé un consumo de {prediction[0][0]:.2f}\")"
   ]
  },
  {
   "cell_type": "code",
   "execution_count": 14,
   "metadata": {},
   "outputs": [
    {
     "name": "stdout",
     "output_type": "stream",
     "text": [
      "Características del escalador:\n",
      "['findesemana' 'festivos' 'COVID' 'tmed' 't-1']\n",
      "Valores mínimos de las características:\n",
      "[0.00000e+00 0.00000e+00 0.00000e+00 1.47200e+00 4.44614e+05]\n",
      "Valores máximos de las características:\n",
      "[1.00000000e+00 1.00000000e+00 2.00000000e+00 3.12045455e+01\n",
      " 3.58297500e+06]\n"
     ]
    }
   ],
   "source": [
    "import pickle\n",
    "\n",
    "# Cargar el escalador\n",
    "with open('../data/scalers/scaler_X_ind.pkl', 'rb') as f:\n",
    "    scaler_X_ind = pickle.load(f)\n",
    "\n",
    "# Comprobar si el escalador tiene atributos relevantes\n",
    "if hasattr(scaler_X_ind, 'feature_names_in_'):\n",
    "    print(\"Características del escalador:\")\n",
    "    print(scaler_X_ind.feature_names_in_)\n",
    "\n",
    "print(\"Valores mínimos de las características:\")\n",
    "print(scaler_X_ind.data_min_)\n",
    "print(\"Valores máximos de las características:\")\n",
    "print(scaler_X_ind.data_max_)\n"
   ]
  },
  {
   "cell_type": "markdown",
   "metadata": {},
   "source": []
  }
 ],
 "metadata": {
  "kernelspec": {
   "display_name": "Python 3",
   "language": "python",
   "name": "python3"
  },
  "language_info": {
   "codemirror_mode": {
    "name": "ipython",
    "version": 3
   },
   "file_extension": ".py",
   "mimetype": "text/x-python",
   "name": "python",
   "nbconvert_exporter": "python",
   "pygments_lexer": "ipython3",
   "version": "3.11.9"
  }
 },
 "nbformat": 4,
 "nbformat_minor": 2
}
