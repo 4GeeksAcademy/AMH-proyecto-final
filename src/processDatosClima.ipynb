{
 "cells": [
  {
   "cell_type": "markdown",
   "metadata": {},
   "source": [
    "## Union de las 25 estaciones meteorologicas de barcelona"
   ]
  },
  {
   "cell_type": "code",
   "execution_count": 3,
   "metadata": {},
   "outputs": [],
   "source": [
    "#Libraries\n",
    "import pandas as pd"
   ]
  },
  {
   "cell_type": "code",
   "execution_count": 4,
   "metadata": {},
   "outputs": [],
   "source": [
    "#Cargar de los csv de cada estacion como df\n",
    "est1=pd.read_csv('../data/processed/df1_clima.csv')\n",
    "est2=pd.read_csv('../data/processed/df2_clima.csv')\n",
    "est3=pd.read_csv('../data/processed/df3_clima.csv')\n",
    "est4=pd.read_csv('../data/processed/df4_clima.csv')\n",
    "est5=pd.read_csv('../data/processed/df5_clima.csv')\n",
    "est6=pd.read_csv('../data/processed/df6_clima.csv')\n",
    "est7=pd.read_csv('../data/processed/df7_clima.csv')\n",
    "est8=pd.read_csv('../data/processed/df8_clima.csv')\n",
    "est9=pd.read_csv('../data/processed/df9_clima.csv')\n",
    "est10=pd.read_csv('../data/processed/df10_clima.csv')\n",
    "est11=pd.read_csv('../data/processed/df11_clima.csv')\n",
    "est12=pd.read_csv('../data/processed/df12_clima.csv')\n",
    "est13=pd.read_csv('../data/processed/df13_clima.csv')\n",
    "est14=pd.read_csv('../data/processed/df14_clima.csv')\n",
    "est15=pd.read_csv('../data/processed/df15_clima.csv')\n",
    "est16=pd.read_csv('../data/processed/df16_clima.csv')\n",
    "est17=pd.read_csv('../data/processed/df17_clima.csv')\n",
    "est18=pd.read_csv('../data/processed/df18_clima.csv')\n",
    "est19=pd.read_csv('../data/processed/df19_clima.csv')\n",
    "est20=pd.read_csv('../data/processed/df20_clima.csv')\n",
    "est21=pd.read_csv('../data/processed/df21_clima.csv')\n",
    "est22=pd.read_csv('../data/processed/df22_clima.csv')\n",
    "est23=pd.read_csv('../data/processed/df23_clima.csv')\n",
    "est24=pd.read_csv('../data/processed/df24_clima.csv')\n",
    "est25=pd.read_csv('../data/processed/df25_clima.csv')"
   ]
  },
  {
   "cell_type": "code",
   "execution_count": null,
   "metadata": {},
   "outputs": [],
   "source": []
  }
 ],
 "metadata": {
  "kernelspec": {
   "display_name": "Python 3",
   "language": "python",
   "name": "python3"
  },
  "language_info": {
   "codemirror_mode": {
    "name": "ipython",
    "version": 3
   },
   "file_extension": ".py",
   "mimetype": "text/x-python",
   "name": "python",
   "nbconvert_exporter": "python",
   "pygments_lexer": "ipython3",
   "version": "3.11.9"
  }
 },
 "nbformat": 4,
 "nbformat_minor": 2
}
