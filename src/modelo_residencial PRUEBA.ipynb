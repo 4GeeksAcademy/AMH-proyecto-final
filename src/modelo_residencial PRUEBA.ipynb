{
 "cells": [
  {
   "cell_type": "code",
   "execution_count": 2,
   "metadata": {},
   "outputs": [
    {
     "name": "stdout",
     "output_type": "stream",
     "text": [
      "Defaulting to user installation because normal site-packages is not writeable\n",
      "Requirement already satisfied: missingno in /home/vscode/.local/lib/python3.10/site-packages (0.5.2)\n",
      "Requirement already satisfied: lazypredict in /home/vscode/.local/lib/python3.10/site-packages (0.2.12)\n",
      "Requirement already satisfied: seaborn in /home/vscode/.local/lib/python3.10/site-packages (from missingno) (0.13.2)\n",
      "Requirement already satisfied: numpy in /home/vscode/.local/lib/python3.10/site-packages (from missingno) (1.26.4)\n",
      "Requirement already satisfied: scipy in /home/vscode/.local/lib/python3.10/site-packages (from missingno) (1.14.1)\n",
      "Requirement already satisfied: matplotlib in /home/vscode/.local/lib/python3.10/site-packages (from missingno) (3.9.2)\n",
      "Requirement already satisfied: scikit-learn in /home/vscode/.local/lib/python3.10/site-packages (from lazypredict) (1.5.2)\n",
      "Requirement already satisfied: joblib in /home/vscode/.local/lib/python3.10/site-packages (from lazypredict) (1.4.2)\n",
      "Requirement already satisfied: xgboost in /home/vscode/.local/lib/python3.10/site-packages (from lazypredict) (2.1.1)\n",
      "Requirement already satisfied: click in /home/vscode/.local/lib/python3.10/site-packages (from lazypredict) (8.1.7)\n",
      "Requirement already satisfied: tqdm in /home/vscode/.local/lib/python3.10/site-packages (from lazypredict) (4.66.5)\n",
      "Requirement already satisfied: pandas in /home/vscode/.local/lib/python3.10/site-packages (from lazypredict) (2.2.3)\n",
      "Requirement already satisfied: lightgbm in /home/vscode/.local/lib/python3.10/site-packages (from lazypredict) (4.5.0)\n",
      "Requirement already satisfied: packaging>=20.0 in /home/vscode/.local/lib/python3.10/site-packages (from matplotlib->missingno) (24.1)\n",
      "Requirement already satisfied: fonttools>=4.22.0 in /home/vscode/.local/lib/python3.10/site-packages (from matplotlib->missingno) (4.54.1)\n",
      "Requirement already satisfied: kiwisolver>=1.3.1 in /home/vscode/.local/lib/python3.10/site-packages (from matplotlib->missingno) (1.4.7)\n",
      "Requirement already satisfied: contourpy>=1.0.1 in /home/vscode/.local/lib/python3.10/site-packages (from matplotlib->missingno) (1.3.0)\n",
      "Requirement already satisfied: cycler>=0.10 in /home/vscode/.local/lib/python3.10/site-packages (from matplotlib->missingno) (0.12.1)\n",
      "Requirement already satisfied: python-dateutil>=2.7 in /home/vscode/.local/lib/python3.10/site-packages (from matplotlib->missingno) (2.9.0.post0)\n",
      "Requirement already satisfied: pillow>=8 in /home/vscode/.local/lib/python3.10/site-packages (from matplotlib->missingno) (10.4.0)\n",
      "Requirement already satisfied: pyparsing>=2.3.1 in /home/vscode/.local/lib/python3.10/site-packages (from matplotlib->missingno) (3.1.4)\n",
      "Requirement already satisfied: tzdata>=2022.7 in /home/vscode/.local/lib/python3.10/site-packages (from pandas->lazypredict) (2024.2)\n",
      "Requirement already satisfied: pytz>=2020.1 in /home/vscode/.local/lib/python3.10/site-packages (from pandas->lazypredict) (2024.2)\n",
      "Requirement already satisfied: threadpoolctl>=3.1.0 in /home/vscode/.local/lib/python3.10/site-packages (from scikit-learn->lazypredict) (3.5.0)\n",
      "Requirement already satisfied: nvidia-nccl-cu12 in /home/vscode/.local/lib/python3.10/site-packages (from xgboost->lazypredict) (2.23.4)\n",
      "Requirement already satisfied: six>=1.5 in /home/vscode/.local/lib/python3.10/site-packages (from python-dateutil>=2.7->matplotlib->missingno) (1.16.0)\n",
      "\n",
      "\u001b[1m[\u001b[0m\u001b[34;49mnotice\u001b[0m\u001b[1;39;49m]\u001b[0m\u001b[39;49m A new release of pip is available: \u001b[0m\u001b[31;49m23.0.1\u001b[0m\u001b[39;49m -> \u001b[0m\u001b[32;49m24.2\u001b[0m\n",
      "\u001b[1m[\u001b[0m\u001b[34;49mnotice\u001b[0m\u001b[1;39;49m]\u001b[0m\u001b[39;49m To update, run: \u001b[0m\u001b[32;49mpip install --upgrade pip\u001b[0m\n",
      "Defaulting to user installation because normal site-packages is not writeable\n",
      "Requirement already satisfied: tensorflow in /home/vscode/.local/lib/python3.10/site-packages (2.17.0)\n",
      "Requirement already satisfied: requests<3,>=2.21.0 in /home/vscode/.local/lib/python3.10/site-packages (from tensorflow) (2.32.3)\n",
      "Requirement already satisfied: google-pasta>=0.1.1 in /home/vscode/.local/lib/python3.10/site-packages (from tensorflow) (0.2.0)\n",
      "Requirement already satisfied: termcolor>=1.1.0 in /home/vscode/.local/lib/python3.10/site-packages (from tensorflow) (2.5.0)\n",
      "Requirement already satisfied: wrapt>=1.11.0 in /home/vscode/.local/lib/python3.10/site-packages (from tensorflow) (1.16.0)\n",
      "Requirement already satisfied: protobuf!=4.21.0,!=4.21.1,!=4.21.2,!=4.21.3,!=4.21.4,!=4.21.5,<5.0.0dev,>=3.20.3 in /home/vscode/.local/lib/python3.10/site-packages (from tensorflow) (4.25.5)\n",
      "Requirement already satisfied: grpcio<2.0,>=1.24.3 in /home/vscode/.local/lib/python3.10/site-packages (from tensorflow) (1.66.2)\n",
      "Requirement already satisfied: opt-einsum>=2.3.2 in /home/vscode/.local/lib/python3.10/site-packages (from tensorflow) (3.4.0)\n",
      "Requirement already satisfied: setuptools in /usr/local/lib/python3.10/site-packages (from tensorflow) (67.8.0)\n",
      "Requirement already satisfied: astunparse>=1.6.0 in /home/vscode/.local/lib/python3.10/site-packages (from tensorflow) (1.6.3)\n",
      "Requirement already satisfied: keras>=3.2.0 in /home/vscode/.local/lib/python3.10/site-packages (from tensorflow) (3.6.0)\n",
      "Requirement already satisfied: tensorflow-io-gcs-filesystem>=0.23.1 in /home/vscode/.local/lib/python3.10/site-packages (from tensorflow) (0.37.1)\n",
      "Requirement already satisfied: libclang>=13.0.0 in /home/vscode/.local/lib/python3.10/site-packages (from tensorflow) (18.1.1)\n",
      "Requirement already satisfied: typing-extensions>=3.6.6 in /home/vscode/.local/lib/python3.10/site-packages (from tensorflow) (4.12.2)\n",
      "Requirement already satisfied: absl-py>=1.0.0 in /home/vscode/.local/lib/python3.10/site-packages (from tensorflow) (2.1.0)\n",
      "Requirement already satisfied: packaging in /home/vscode/.local/lib/python3.10/site-packages (from tensorflow) (24.1)\n",
      "Requirement already satisfied: flatbuffers>=24.3.25 in /home/vscode/.local/lib/python3.10/site-packages (from tensorflow) (24.3.25)\n",
      "Requirement already satisfied: six>=1.12.0 in /home/vscode/.local/lib/python3.10/site-packages (from tensorflow) (1.16.0)\n",
      "Requirement already satisfied: tensorboard<2.18,>=2.17 in /home/vscode/.local/lib/python3.10/site-packages (from tensorflow) (2.17.1)\n",
      "Requirement already satisfied: numpy<2.0.0,>=1.23.5 in /home/vscode/.local/lib/python3.10/site-packages (from tensorflow) (1.26.4)\n",
      "Requirement already satisfied: ml-dtypes<0.5.0,>=0.3.1 in /home/vscode/.local/lib/python3.10/site-packages (from tensorflow) (0.4.1)\n",
      "Requirement already satisfied: h5py>=3.10.0 in /home/vscode/.local/lib/python3.10/site-packages (from tensorflow) (3.12.1)\n",
      "Requirement already satisfied: gast!=0.5.0,!=0.5.1,!=0.5.2,>=0.2.1 in /home/vscode/.local/lib/python3.10/site-packages (from tensorflow) (0.6.0)\n",
      "Requirement already satisfied: wheel<1.0,>=0.23.0 in /usr/local/lib/python3.10/site-packages (from astunparse>=1.6.0->tensorflow) (0.40.0)\n",
      "Requirement already satisfied: rich in /home/vscode/.local/lib/python3.10/site-packages (from keras>=3.2.0->tensorflow) (13.9.2)\n",
      "Requirement already satisfied: optree in /home/vscode/.local/lib/python3.10/site-packages (from keras>=3.2.0->tensorflow) (0.13.0)\n",
      "Requirement already satisfied: namex in /home/vscode/.local/lib/python3.10/site-packages (from keras>=3.2.0->tensorflow) (0.0.8)\n",
      "Requirement already satisfied: urllib3<3,>=1.21.1 in /home/vscode/.local/lib/python3.10/site-packages (from requests<3,>=2.21.0->tensorflow) (2.2.3)\n",
      "Requirement already satisfied: charset-normalizer<4,>=2 in /home/vscode/.local/lib/python3.10/site-packages (from requests<3,>=2.21.0->tensorflow) (3.3.2)\n",
      "Requirement already satisfied: idna<4,>=2.5 in /home/vscode/.local/lib/python3.10/site-packages (from requests<3,>=2.21.0->tensorflow) (3.10)\n",
      "Requirement already satisfied: certifi>=2017.4.17 in /home/vscode/.local/lib/python3.10/site-packages (from requests<3,>=2.21.0->tensorflow) (2024.8.30)\n",
      "Requirement already satisfied: tensorboard-data-server<0.8.0,>=0.7.0 in /home/vscode/.local/lib/python3.10/site-packages (from tensorboard<2.18,>=2.17->tensorflow) (0.7.2)\n",
      "Requirement already satisfied: markdown>=2.6.8 in /home/vscode/.local/lib/python3.10/site-packages (from tensorboard<2.18,>=2.17->tensorflow) (3.7)\n",
      "Requirement already satisfied: werkzeug>=1.0.1 in /home/vscode/.local/lib/python3.10/site-packages (from tensorboard<2.18,>=2.17->tensorflow) (3.0.4)\n",
      "Requirement already satisfied: MarkupSafe>=2.1.1 in /home/vscode/.local/lib/python3.10/site-packages (from werkzeug>=1.0.1->tensorboard<2.18,>=2.17->tensorflow) (3.0.0)\n",
      "Requirement already satisfied: markdown-it-py>=2.2.0 in /home/vscode/.local/lib/python3.10/site-packages (from rich->keras>=3.2.0->tensorflow) (3.0.0)\n",
      "Requirement already satisfied: pygments<3.0.0,>=2.13.0 in /home/vscode/.local/lib/python3.10/site-packages (from rich->keras>=3.2.0->tensorflow) (2.18.0)\n",
      "Requirement already satisfied: mdurl~=0.1 in /home/vscode/.local/lib/python3.10/site-packages (from markdown-it-py>=2.2.0->rich->keras>=3.2.0->tensorflow) (0.1.2)\n",
      "\n",
      "\u001b[1m[\u001b[0m\u001b[34;49mnotice\u001b[0m\u001b[1;39;49m]\u001b[0m\u001b[39;49m A new release of pip is available: \u001b[0m\u001b[31;49m23.0.1\u001b[0m\u001b[39;49m -> \u001b[0m\u001b[32;49m24.2\u001b[0m\n",
      "\u001b[1m[\u001b[0m\u001b[34;49mnotice\u001b[0m\u001b[1;39;49m]\u001b[0m\u001b[39;49m To update, run: \u001b[0m\u001b[32;49mpip install --upgrade pip\u001b[0m\n"
     ]
    }
   ],
   "source": [
    "!pip install missingno lazypredict\n",
    "!pip install tensorflow\n",
    "\n"
   ]
  },
  {
   "cell_type": "code",
   "execution_count": 3,
   "metadata": {},
   "outputs": [
    {
     "name": "stderr",
     "output_type": "stream",
     "text": [
      "2024-10-08 18:51:51.640904: I external/local_xla/xla/tsl/cuda/cudart_stub.cc:32] Could not find cuda drivers on your machine, GPU will not be used.\n",
      "2024-10-08 18:51:51.644863: I external/local_xla/xla/tsl/cuda/cudart_stub.cc:32] Could not find cuda drivers on your machine, GPU will not be used.\n",
      "2024-10-08 18:51:51.651498: E external/local_xla/xla/stream_executor/cuda/cuda_fft.cc:485] Unable to register cuFFT factory: Attempting to register factory for plugin cuFFT when one has already been registered\n",
      "2024-10-08 18:51:51.665274: E external/local_xla/xla/stream_executor/cuda/cuda_dnn.cc:8454] Unable to register cuDNN factory: Attempting to register factory for plugin cuDNN when one has already been registered\n",
      "2024-10-08 18:51:51.669390: E external/local_xla/xla/stream_executor/cuda/cuda_blas.cc:1452] Unable to register cuBLAS factory: Attempting to register factory for plugin cuBLAS when one has already been registered\n",
      "2024-10-08 18:51:51.680630: I tensorflow/core/platform/cpu_feature_guard.cc:210] This TensorFlow binary is optimized to use available CPU instructions in performance-critical operations.\n",
      "To enable the following instructions: AVX2 FMA, in other operations, rebuild TensorFlow with the appropriate compiler flags.\n",
      "2024-10-08 18:51:52.856262: W tensorflow/compiler/tf2tensorrt/utils/py_utils.cc:38] TF-TRT Warning: Could not find TensorRT\n"
     ]
    }
   ],
   "source": [
    "import pandas as pd\n",
    "import numpy as np\n",
    "from sklearn.model_selection import train_test_split\n",
    "from sklearn.preprocessing import StandardScaler\n",
    "from sklearn.model_selection import train_test_split\n",
    "from tensorflow.keras.models import Sequential\n",
    "from tensorflow.keras.layers import Dense, Input\n",
    "import matplotlib.pyplot as plt\n",
    "from sklearn.metrics import mean_absolute_error, mean_squared_error\n",
    "import seaborn as sns"
   ]
  },
  {
   "cell_type": "code",
   "execution_count": 4,
   "metadata": {},
   "outputs": [],
   "source": [
    "df = pd.read_csv('/workspaces/AMH-proyecto-final_albaebauluz/data/DF_modelos/df_industrial_total.csv')"
   ]
  },
  {
   "cell_type": "code",
   "execution_count": null,
   "metadata": {},
   "outputs": [
    {
     "data": {
      "text/html": [
       "<div>\n",
       "<style scoped>\n",
       "    .dataframe tbody tr th:only-of-type {\n",
       "        vertical-align: middle;\n",
       "    }\n",
       "\n",
       "    .dataframe tbody tr th {\n",
       "        vertical-align: top;\n",
       "    }\n",
       "\n",
       "    .dataframe thead th {\n",
       "        text-align: right;\n",
       "    }\n",
       "</style>\n",
       "<table border=\"1\" class=\"dataframe\">\n",
       "  <thead>\n",
       "    <tr style=\"text-align: right;\">\n",
       "      <th></th>\n",
       "      <th>Sector_Economic</th>\n",
       "      <th>consumo</th>\n",
       "      <th>año</th>\n",
       "      <th>fecha</th>\n",
       "      <th>findesemana</th>\n",
       "      <th>festivos</th>\n",
       "      <th>lectivos</th>\n",
       "      <th>COVID</th>\n",
       "      <th>tmed</th>\n",
       "      <th>prec</th>\n",
       "      <th>velmedia</th>\n",
       "      <th>poblacion</th>\n",
       "      <th>PIB</th>\n",
       "      <th>Empleo</th>\n",
       "    </tr>\n",
       "  </thead>\n",
       "  <tbody>\n",
       "    <tr>\n",
       "      <th>0</th>\n",
       "      <td>Indústria</td>\n",
       "      <td>995989</td>\n",
       "      <td>2019.0</td>\n",
       "      <td>2019-01-01</td>\n",
       "      <td>0</td>\n",
       "      <td>1</td>\n",
       "      <td>0</td>\n",
       "      <td>0</td>\n",
       "      <td>8.590909</td>\n",
       "      <td>0.0</td>\n",
       "      <td>1.417647</td>\n",
       "      <td>5628011</td>\n",
       "      <td>14279</td>\n",
       "      <td>604200</td>\n",
       "    </tr>\n",
       "    <tr>\n",
       "      <th>1</th>\n",
       "      <td>Indústria</td>\n",
       "      <td>1702091</td>\n",
       "      <td>2019.0</td>\n",
       "      <td>2019-01-02</td>\n",
       "      <td>0</td>\n",
       "      <td>0</td>\n",
       "      <td>0</td>\n",
       "      <td>0</td>\n",
       "      <td>6.617391</td>\n",
       "      <td>0.3</td>\n",
       "      <td>2.152941</td>\n",
       "      <td>5628011</td>\n",
       "      <td>14279</td>\n",
       "      <td>604200</td>\n",
       "    </tr>\n",
       "    <tr>\n",
       "      <th>2</th>\n",
       "      <td>Indústria</td>\n",
       "      <td>1826076</td>\n",
       "      <td>2019.0</td>\n",
       "      <td>2019-01-03</td>\n",
       "      <td>0</td>\n",
       "      <td>0</td>\n",
       "      <td>0</td>\n",
       "      <td>0</td>\n",
       "      <td>5.604348</td>\n",
       "      <td>0.1</td>\n",
       "      <td>1.676471</td>\n",
       "      <td>5628011</td>\n",
       "      <td>14279</td>\n",
       "      <td>604200</td>\n",
       "    </tr>\n",
       "    <tr>\n",
       "      <th>3</th>\n",
       "      <td>Indústria</td>\n",
       "      <td>1806926</td>\n",
       "      <td>2019.0</td>\n",
       "      <td>2019-01-04</td>\n",
       "      <td>0</td>\n",
       "      <td>0</td>\n",
       "      <td>0</td>\n",
       "      <td>0</td>\n",
       "      <td>5.004348</td>\n",
       "      <td>0.0</td>\n",
       "      <td>1.335294</td>\n",
       "      <td>5628011</td>\n",
       "      <td>28632</td>\n",
       "      <td>604200</td>\n",
       "    </tr>\n",
       "    <tr>\n",
       "      <th>4</th>\n",
       "      <td>Indústria</td>\n",
       "      <td>1341548</td>\n",
       "      <td>2019.0</td>\n",
       "      <td>2019-01-05</td>\n",
       "      <td>1</td>\n",
       "      <td>0</td>\n",
       "      <td>0</td>\n",
       "      <td>0</td>\n",
       "      <td>6.173913</td>\n",
       "      <td>0.0</td>\n",
       "      <td>2.247059</td>\n",
       "      <td>5628011</td>\n",
       "      <td>28632</td>\n",
       "      <td>604200</td>\n",
       "    </tr>\n",
       "  </tbody>\n",
       "</table>\n",
       "</div>"
      ],
      "text/plain": [
       "  Sector_Economic  consumo     año       fecha  findesemana  festivos  \\\n",
       "0       Indústria   995989  2019.0  2019-01-01            0         1   \n",
       "1       Indústria  1702091  2019.0  2019-01-02            0         0   \n",
       "2       Indústria  1826076  2019.0  2019-01-03            0         0   \n",
       "3       Indústria  1806926  2019.0  2019-01-04            0         0   \n",
       "4       Indústria  1341548  2019.0  2019-01-05            1         0   \n",
       "\n",
       "   lectivos  COVID      tmed  prec  velmedia  poblacion    PIB  Empleo  \n",
       "0         0      0  8.590909   0.0  1.417647    5628011  14279  604200  \n",
       "1         0      0  6.617391   0.3  2.152941    5628011  14279  604200  \n",
       "2         0      0  5.604348   0.1  1.676471    5628011  14279  604200  \n",
       "3         0      0  5.004348   0.0  1.335294    5628011  28632  604200  \n",
       "4         0      0  6.173913   0.0  2.247059    5628011  28632  604200  "
      ]
     },
     "execution_count": 5,
     "metadata": {},
     "output_type": "execute_result"
    }
   ],
   "source": [
    "df.head()"
   ]
  },
  {
   "cell_type": "markdown",
   "metadata": {},
   "source": [
    "## Paso 1: Preparación de los datos."
   ]
  },
  {
   "cell_type": "code",
   "execution_count": 6,
   "metadata": {},
   "outputs": [
    {
     "data": {
      "text/plain": [
       "Sector_Economic     object\n",
       "consumo              int64\n",
       "año                float64\n",
       "fecha               object\n",
       "findesemana          int64\n",
       "festivos             int64\n",
       "lectivos             int64\n",
       "COVID                int64\n",
       "tmed               float64\n",
       "prec               float64\n",
       "velmedia           float64\n",
       "poblacion            int64\n",
       "PIB                  int64\n",
       "Empleo               int64\n",
       "dtype: object"
      ]
     },
     "execution_count": 6,
     "metadata": {},
     "output_type": "execute_result"
    }
   ],
   "source": [
    "df.dtypes"
   ]
  },
  {
   "cell_type": "code",
   "execution_count": 7,
   "metadata": {},
   "outputs": [
    {
     "data": {
      "text/plain": [
       "Sector_Economic       1\n",
       "consumo            1966\n",
       "año                   6\n",
       "fecha              2008\n",
       "findesemana           2\n",
       "festivos              2\n",
       "lectivos              2\n",
       "COVID                 3\n",
       "tmed               1904\n",
       "prec                540\n",
       "velmedia           1092\n",
       "poblacion            11\n",
       "PIB                  38\n",
       "Empleo               21\n",
       "dtype: int64"
      ]
     },
     "execution_count": 7,
     "metadata": {},
     "output_type": "execute_result"
    }
   ],
   "source": [
    "df.nunique()"
   ]
  },
  {
   "cell_type": "code",
   "execution_count": 8,
   "metadata": {},
   "outputs": [
    {
     "name": "stdout",
     "output_type": "stream",
     "text": [
      "Sector_Economic    39\n",
      "consumo             0\n",
      "año                39\n",
      "fecha               0\n",
      "findesemana         0\n",
      "festivos            0\n",
      "lectivos            0\n",
      "COVID               0\n",
      "tmed                0\n",
      "prec                0\n",
      "velmedia            0\n",
      "poblacion           0\n",
      "PIB                 0\n",
      "Empleo              0\n",
      "dtype: int64\n"
     ]
    }
   ],
   "source": [
    "print(df.isnull().sum())"
   ]
  },
  {
   "cell_type": "code",
   "execution_count": 9,
   "metadata": {},
   "outputs": [
    {
     "data": {
      "text/plain": [
       "(2008, 14)"
      ]
     },
     "execution_count": 9,
     "metadata": {},
     "output_type": "execute_result"
    }
   ],
   "source": [
    "df.shape"
   ]
  },
  {
   "cell_type": "code",
   "execution_count": 10,
   "metadata": {},
   "outputs": [],
   "source": [
    "df = df.rename(columns={'Rentanetamediaporhogar': 'renta_hogar'})"
   ]
  },
  {
   "cell_type": "markdown",
   "metadata": {},
   "source": [
    "TRANSFORMACIÓN DE LA VARIABLE FECHA"
   ]
  },
  {
   "cell_type": "code",
   "execution_count": 10,
   "metadata": {},
   "outputs": [
    {
     "data": {
      "text/plain": [
       "0      2019-01-01\n",
       "1      2019-01-02\n",
       "2      2019-01-03\n",
       "3      2019-01-04\n",
       "4      2019-01-05\n",
       "          ...    \n",
       "2003   2024-06-26\n",
       "2004   2024-06-27\n",
       "2005   2024-06-28\n",
       "2006   2024-06-29\n",
       "2007   2024-06-30\n",
       "Name: fecha, Length: 2008, dtype: datetime64[ns]"
      ]
     },
     "execution_count": 10,
     "metadata": {},
     "output_type": "execute_result"
    }
   ],
   "source": [
    "# Convertir la columna de fecha a formato datetime\n",
    "df['fecha'] = pd.to_datetime(df['fecha'])\n",
    "\n",
    "df.fecha"
   ]
  },
  {
   "cell_type": "markdown",
   "metadata": {},
   "source": [
    "1. Convertir fechas a formato numérico (timestamp)"
   ]
  },
  {
   "cell_type": "code",
   "execution_count": 11,
   "metadata": {},
   "outputs": [],
   "source": [
    "# Asegúrate de que la columna de fecha está en formato datetime\n",
    "df['fecha'] = pd.to_datetime(df['fecha'], format='%Y')  # Ajusta el formato según tus datos\n",
    "\n",
    "# Convertir la columna de fecha a timestamp\n",
    "df['fecha'] = df['fecha'].astype(np.int64) // 10**9  # Convertir a dias\n",
    "\n"
   ]
  },
  {
   "cell_type": "code",
   "execution_count": 12,
   "metadata": {},
   "outputs": [
    {
     "data": {
      "text/plain": [
       "0       1546300800\n",
       "1       1546387200\n",
       "2       1546473600\n",
       "3       1546560000\n",
       "4       1546646400\n",
       "           ...    \n",
       "2003    1719360000\n",
       "2004    1719446400\n",
       "2005    1719532800\n",
       "2006    1719619200\n",
       "2007    1719705600\n",
       "Name: fecha, Length: 2008, dtype: int64"
      ]
     },
     "execution_count": 12,
     "metadata": {},
     "output_type": "execute_result"
    }
   ],
   "source": [
    "df.fecha"
   ]
  },
  {
   "cell_type": "code",
   "execution_count": 13,
   "metadata": {},
   "outputs": [
    {
     "data": {
      "text/html": [
       "<div>\n",
       "<style scoped>\n",
       "    .dataframe tbody tr th:only-of-type {\n",
       "        vertical-align: middle;\n",
       "    }\n",
       "\n",
       "    .dataframe tbody tr th {\n",
       "        vertical-align: top;\n",
       "    }\n",
       "\n",
       "    .dataframe thead th {\n",
       "        text-align: right;\n",
       "    }\n",
       "</style>\n",
       "<table border=\"1\" class=\"dataframe\">\n",
       "  <thead>\n",
       "    <tr style=\"text-align: right;\">\n",
       "      <th></th>\n",
       "      <th>Sector_Economic</th>\n",
       "      <th>consumo</th>\n",
       "      <th>año</th>\n",
       "      <th>fecha</th>\n",
       "      <th>findesemana</th>\n",
       "      <th>festivos</th>\n",
       "      <th>lectivos</th>\n",
       "      <th>COVID</th>\n",
       "      <th>tmed</th>\n",
       "      <th>prec</th>\n",
       "      <th>velmedia</th>\n",
       "      <th>poblacion</th>\n",
       "      <th>PIB</th>\n",
       "      <th>Empleo</th>\n",
       "    </tr>\n",
       "  </thead>\n",
       "  <tbody>\n",
       "    <tr>\n",
       "      <th>0</th>\n",
       "      <td>Indústria</td>\n",
       "      <td>995989</td>\n",
       "      <td>2019.0</td>\n",
       "      <td>1546300800</td>\n",
       "      <td>0</td>\n",
       "      <td>1</td>\n",
       "      <td>0</td>\n",
       "      <td>0</td>\n",
       "      <td>8.590909</td>\n",
       "      <td>0.0</td>\n",
       "      <td>1.417647</td>\n",
       "      <td>5628011</td>\n",
       "      <td>14279</td>\n",
       "      <td>604200</td>\n",
       "    </tr>\n",
       "    <tr>\n",
       "      <th>1</th>\n",
       "      <td>Indústria</td>\n",
       "      <td>1702091</td>\n",
       "      <td>2019.0</td>\n",
       "      <td>1546387200</td>\n",
       "      <td>0</td>\n",
       "      <td>0</td>\n",
       "      <td>0</td>\n",
       "      <td>0</td>\n",
       "      <td>6.617391</td>\n",
       "      <td>0.3</td>\n",
       "      <td>2.152941</td>\n",
       "      <td>5628011</td>\n",
       "      <td>14279</td>\n",
       "      <td>604200</td>\n",
       "    </tr>\n",
       "    <tr>\n",
       "      <th>2</th>\n",
       "      <td>Indústria</td>\n",
       "      <td>1826076</td>\n",
       "      <td>2019.0</td>\n",
       "      <td>1546473600</td>\n",
       "      <td>0</td>\n",
       "      <td>0</td>\n",
       "      <td>0</td>\n",
       "      <td>0</td>\n",
       "      <td>5.604348</td>\n",
       "      <td>0.1</td>\n",
       "      <td>1.676471</td>\n",
       "      <td>5628011</td>\n",
       "      <td>14279</td>\n",
       "      <td>604200</td>\n",
       "    </tr>\n",
       "    <tr>\n",
       "      <th>3</th>\n",
       "      <td>Indústria</td>\n",
       "      <td>1806926</td>\n",
       "      <td>2019.0</td>\n",
       "      <td>1546560000</td>\n",
       "      <td>0</td>\n",
       "      <td>0</td>\n",
       "      <td>0</td>\n",
       "      <td>0</td>\n",
       "      <td>5.004348</td>\n",
       "      <td>0.0</td>\n",
       "      <td>1.335294</td>\n",
       "      <td>5628011</td>\n",
       "      <td>28632</td>\n",
       "      <td>604200</td>\n",
       "    </tr>\n",
       "    <tr>\n",
       "      <th>4</th>\n",
       "      <td>Indústria</td>\n",
       "      <td>1341548</td>\n",
       "      <td>2019.0</td>\n",
       "      <td>1546646400</td>\n",
       "      <td>1</td>\n",
       "      <td>0</td>\n",
       "      <td>0</td>\n",
       "      <td>0</td>\n",
       "      <td>6.173913</td>\n",
       "      <td>0.0</td>\n",
       "      <td>2.247059</td>\n",
       "      <td>5628011</td>\n",
       "      <td>28632</td>\n",
       "      <td>604200</td>\n",
       "    </tr>\n",
       "  </tbody>\n",
       "</table>\n",
       "</div>"
      ],
      "text/plain": [
       "  Sector_Economic  consumo     año       fecha  findesemana  festivos  \\\n",
       "0       Indústria   995989  2019.0  1546300800            0         1   \n",
       "1       Indústria  1702091  2019.0  1546387200            0         0   \n",
       "2       Indústria  1826076  2019.0  1546473600            0         0   \n",
       "3       Indústria  1806926  2019.0  1546560000            0         0   \n",
       "4       Indústria  1341548  2019.0  1546646400            1         0   \n",
       "\n",
       "   lectivos  COVID      tmed  prec  velmedia  poblacion    PIB  Empleo  \n",
       "0         0      0  8.590909   0.0  1.417647    5628011  14279  604200  \n",
       "1         0      0  6.617391   0.3  2.152941    5628011  14279  604200  \n",
       "2         0      0  5.604348   0.1  1.676471    5628011  14279  604200  \n",
       "3         0      0  5.004348   0.0  1.335294    5628011  28632  604200  \n",
       "4         0      0  6.173913   0.0  2.247059    5628011  28632  604200  "
      ]
     },
     "execution_count": 13,
     "metadata": {},
     "output_type": "execute_result"
    }
   ],
   "source": [
    "df.head()"
   ]
  },
  {
   "cell_type": "markdown",
   "metadata": {},
   "source": [
    "ANÁLISIS DE DATOS ATÍPICOS EN LAS VARIABLES INDEPENDIENTES CONTINUAS"
   ]
  },
  {
   "cell_type": "code",
   "execution_count": 14,
   "metadata": {},
   "outputs": [
    {
     "data": {
      "image/png": "[encoded data removed]",
      "text/plain": [
       "<Figure size 1000x400 with 1 Axes>"
      ]
     },
     "metadata": {},
     "output_type": "display_data"
    },
    {
     "data": {
      "image/png": "[encoded data removed]",
      "text/plain": [
       "<Figure size 1000x400 with 1 Axes>"
      ]
     },
     "metadata": {},
     "output_type": "display_data"
    },
    {
     "data": {
      "image/png": "[encoded data removed]",
      "text/plain": [
       "<Figure size 1000x400 with 1 Axes>"
      ]
     },
     "metadata": {},
     "output_type": "display_data"
    },
    {
     "data": {
      "image/png": "[encoded data removed]",
      "text/plain": [
       "<Figure size 1000x400 with 1 Axes>"
      ]
     },
     "metadata": {},
     "output_type": "display_data"
    },
    {
     "data": {
      "image/png": "[encoded data removed]",
      "text/plain": [
       "<Figure size 1000x400 with 1 Axes>"
      ]
     },
     "metadata": {},
     "output_type": "display_data"
    },
    {
     "data": {
      "image/png": "[encoded data removed]",
      "text/plain": [
       "<Figure size 1000x400 with 1 Axes>"
      ]
     },
     "metadata": {},
     "output_type": "display_data"
    },
    {
     "data": {
      "image/png": "[encoded data removed]",
      "text/plain": [
       "<Figure size 1000x400 with 1 Axes>"
      ]
     },
     "metadata": {},
     "output_type": "display_data"
    },
    {
     "data": {
      "image/png": "[encoded data removed]",
      "text/plain": [
       "<Figure size 1000x400 with 1 Axes>"
      ]
     },
     "metadata": {},
     "output_type": "display_data"
    },
    {
     "data": {
      "image/png": "[encoded data removed]",
      "text/plain": [
       "<Figure size 1000x400 with 1 Axes>"
      ]
     },
     "metadata": {},
     "output_type": "display_data"
    },
    {
     "data": {
      "image/png": "[encoded data removed]",
      "text/plain": [
       "<Figure size 1000x400 with 1 Axes>"
      ]
     },
     "metadata": {},
     "output_type": "display_data"
    },
    {
     "data": {
      "image/png": "[encoded data removed]",
      "text/plain": [
       "<Figure size 1000x400 with 1 Axes>"
      ]
     },
     "metadata": {},
     "output_type": "display_data"
    },
    {
     "data": {
      "image/png": "[encoded data removed]",
      "text/plain": [
       "<Figure size 1000x400 with 1 Axes>"
      ]
     },
     "metadata": {},
     "output_type": "display_data"
    },
    {
     "data": {
      "image/png": "[encoded data removed]",
      "text/plain": [
       "<Figure size 1000x400 with 1 Axes>"
      ]
     },
     "metadata": {},
     "output_type": "display_data"
    }
   ],
   "source": [
    "for column in df.select_dtypes(include=['float64', 'int64']).columns:\n",
    "    plt.figure(figsize=(10, 4))\n",
    "    sns.boxplot(x=df[column])\n",
    "    plt.title(f'Boxplot of {column}')\n",
    "    plt.show()"
   ]
  },
  {
   "cell_type": "code",
   "execution_count": 15,
   "metadata": {},
   "outputs": [
    {
     "name": "stdout",
     "output_type": "stream",
     "text": [
      "count    2008.000000\n",
      "mean       32.100996\n",
      "std       107.301438\n",
      "min         0.000000\n",
      "25%         0.000000\n",
      "50%         0.200000\n",
      "75%        10.525000\n",
      "max      1752.500000\n",
      "Name: prec, dtype: float64\n"
     ]
    }
   ],
   "source": [
    "# Supongamos que 'variable' es la columna de la que quieres obtener un resumen\n",
    "print(df['prec'].describe())\n"
   ]
  },
  {
   "cell_type": "markdown",
   "metadata": {},
   "source": [
    "NORMALIZAR LAS VARIABLES CONTINUAS"
   ]
  },
  {
   "cell_type": "code",
   "execution_count": 16,
   "metadata": {},
   "outputs": [],
   "source": [
    "#Normalizar las columnas numéricas\n",
    "scaler = StandardScaler()\n",
    "df[['consumo', 'tmed', 'prec', 'velmedia', 'poblacion', 'PIB']] = scaler.fit_transform(df[['consumo', 'tmed', 'prec', 'velmedia', 'poblacion', 'PIB']])\n"
   ]
  },
  {
   "cell_type": "code",
   "execution_count": 17,
   "metadata": {},
   "outputs": [
    {
     "data": {
      "text/plain": [
       "consumo        0.759936\n",
       "año            0.089586\n",
       "fecha          0.000000\n",
       "findesemana    0.948621\n",
       "festivos       4.776828\n",
       "lectivos      -0.021930\n",
       "COVID          1.139768\n",
       "tmed           0.187073\n",
       "prec           7.407125\n",
       "velmedia       1.482939\n",
       "poblacion      0.746403\n",
       "PIB            0.216043\n",
       "Empleo         0.454800\n",
       "dtype: float64"
      ]
     },
     "execution_count": 17,
     "metadata": {},
     "output_type": "execute_result"
    }
   ],
   "source": [
    "skew = df.skew(axis=0, numeric_only=True)\n",
    "skew"
   ]
  },
  {
   "cell_type": "markdown",
   "metadata": {},
   "source": [
    "Asimetría positiva (Skew > 0): La cola derecha de la distribución es más larga o tiene más valores extremos. Esto indica que los valores grandes son más frecuentes o se alejan más del centro.\n",
    "\n",
    "Asimetría negativa (Skew < 0): La cola izquierda de la distribución es más larga. Los valores pequeños son más frecuentes o se alejan más del centro.\n",
    "\n",
    "Asimetría cercana a 0: Indica que la distribución es más o menos simétrica, lo que significa que los datos están equilibrados alrededor de la media.\n",
    "\n",
    "---------------------\n",
    "\n",
    "- Variables con alta asimetría:\n",
    "\n",
    "festivos: Tiene una asimetría muy alta (4.776828), lo que sugiere que la mayoría de los valores son cercanos a un valor, pero algunos valores extremos están muy por encima.\n",
    "\n",
    "prec (precipitación): Tiene una asimetría positiva extremadamente alta (7.407125), lo que sugiere que la mayoría de los días tienen poca o ninguna precipitación, pero algunos días tienen valores extremadamente altos.\n",
    "\n",
    "velmedia (velocidad media del viento): Con una asimetría de 1.482939, también muestra una asimetría positiva moderada.\n",
    "\n",
    "bono_social: Tiene una asimetría negativa considerable (-1.303788), lo que indica que la mayoría de los valores son bajos (o cercanos a 0), con pocos valores altos.\n",
    "\n",
    "- Variables con asimetría cercana a 0:\n",
    "\n",
    "PIB (-0.019585): Tiene una asimetría cercana a cero, lo que sugiere que los valores del PIB están bastante equilibrados.\n",
    "\n",
    "lectivos (-0.021930): Tiene una asimetría muy cercana a 0, lo que indica una distribución simétrica.\n",
    "\n",
    "------------------------\n",
    "\n",
    "Altamente asimétricas: Las variables como prec, velmedia, y festivos pueden requerir una transformación para mejorar la capacidad de modelado.\n",
    "\n",
    "Suficientemente simétricas: Variables como PIB, lectivos, y año parecen estar bien distribuidas y no necesitan ser transformadas."
   ]
  },
  {
   "cell_type": "markdown",
   "metadata": {},
   "source": [
    "TRANSFORMACIÓN DE VARIABLES CON ALTA ASIMETRIA\n",
    "\n",
    "Transformación logarítimica de pred y velmedia, porque tienen una alta asimetría (skew) positiva."
   ]
  },
  {
   "cell_type": "code",
   "execution_count": 47,
   "metadata": {},
   "outputs": [],
   "source": [
    "df['prec_log'] = np.log1p(df['prec'])  # log1p es log(1 + x) para evitar problemas con ceros\n",
    "df['velmed_log'] = np.log1p(df['prec'])  # log1p es log(1 + x) para evitar problemas con ceros"
   ]
  },
  {
   "cell_type": "code",
   "execution_count": 18,
   "metadata": {},
   "outputs": [
    {
     "name": "stdout",
     "output_type": "stream",
     "text": [
      "[{'festivos': 4.776828378782333}, {'COVID': 1.1397676543831787}, {'prec': 7.40712474634465}, {'velmedia': 1.4829386760641927}]\n"
     ]
    }
   ],
   "source": [
    "my_list = []\n",
    "for key, value in skew.items():  # Usamos .items() para obtener el nombre de las columnas\n",
    "    if value > 1:\n",
    "        my_dict = {key: value}  # Asociamos el nombre de la columna (key) con el valor de skewness (value)\n",
    "        my_list.append(my_dict)\n",
    "        \n",
    "print(my_list)\n"
   ]
  },
  {
   "cell_type": "markdown",
   "metadata": {},
   "source": [
    "## Paso 2:  Definición de la arquitectura de la red neuronal"
   ]
  },
  {
   "cell_type": "markdown",
   "metadata": {},
   "source": [
    "1. Dividir los datos en características y objetivo"
   ]
  },
  {
   "cell_type": "code",
   "execution_count": 19,
   "metadata": {},
   "outputs": [],
   "source": [
    "# Definir características (X) y objetivo (y)\n",
    "X = df.drop(columns=['consumo', 'Sector_Economic', 'año'])  \n",
    "y = df['consumo']  \n",
    "\n",
    "# Dividir en conjuntos de entrenamiento y prueba\n",
    "X_train, X_test, y_train, y_test = train_test_split(X, y, test_size=0.2, random_state=42)"
   ]
  },
  {
   "cell_type": "code",
   "execution_count": 20,
   "metadata": {},
   "outputs": [
    {
     "data": {
      "text/html": [
       "<div>\n",
       "<style scoped>\n",
       "    .dataframe tbody tr th:only-of-type {\n",
       "        vertical-align: middle;\n",
       "    }\n",
       "\n",
       "    .dataframe tbody tr th {\n",
       "        vertical-align: top;\n",
       "    }\n",
       "\n",
       "    .dataframe thead th {\n",
       "        text-align: right;\n",
       "    }\n",
       "</style>\n",
       "<table border=\"1\" class=\"dataframe\">\n",
       "  <thead>\n",
       "    <tr style=\"text-align: right;\">\n",
       "      <th></th>\n",
       "      <th>fecha</th>\n",
       "      <th>findesemana</th>\n",
       "      <th>festivos</th>\n",
       "      <th>lectivos</th>\n",
       "      <th>COVID</th>\n",
       "      <th>tmed</th>\n",
       "      <th>prec</th>\n",
       "      <th>velmedia</th>\n",
       "      <th>poblacion</th>\n",
       "      <th>PIB</th>\n",
       "      <th>Empleo</th>\n",
       "    </tr>\n",
       "  </thead>\n",
       "  <tbody>\n",
       "    <tr>\n",
       "      <th>1249</th>\n",
       "      <td>1654214400</td>\n",
       "      <td>0</td>\n",
       "      <td>0</td>\n",
       "      <td>1</td>\n",
       "      <td>0</td>\n",
       "      <td>1.240148</td>\n",
       "      <td>-0.299241</td>\n",
       "      <td>-0.005490</td>\n",
       "      <td>-0.470845</td>\n",
       "      <td>0.675653</td>\n",
       "      <td>643700</td>\n",
       "    </tr>\n",
       "    <tr>\n",
       "      <th>261</th>\n",
       "      <td>1568851200</td>\n",
       "      <td>0</td>\n",
       "      <td>0</td>\n",
       "      <td>1</td>\n",
       "      <td>0</td>\n",
       "      <td>1.005489</td>\n",
       "      <td>0.031685</td>\n",
       "      <td>-0.674296</td>\n",
       "      <td>-0.927577</td>\n",
       "      <td>-0.350552</td>\n",
       "      <td>600300</td>\n",
       "    </tr>\n",
       "    <tr>\n",
       "      <th>607</th>\n",
       "      <td>1598745600</td>\n",
       "      <td>1</td>\n",
       "      <td>0</td>\n",
       "      <td>0</td>\n",
       "      <td>2</td>\n",
       "      <td>0.365280</td>\n",
       "      <td>0.502439</td>\n",
       "      <td>0.548484</td>\n",
       "      <td>-0.433294</td>\n",
       "      <td>-0.471801</td>\n",
       "      <td>573300</td>\n",
       "    </tr>\n",
       "    <tr>\n",
       "      <th>973</th>\n",
       "      <td>1630368000</td>\n",
       "      <td>0</td>\n",
       "      <td>0</td>\n",
       "      <td>0</td>\n",
       "      <td>2</td>\n",
       "      <td>1.030832</td>\n",
       "      <td>0.386848</td>\n",
       "      <td>0.426326</td>\n",
       "      <td>-0.451277</td>\n",
       "      <td>-0.404125</td>\n",
       "      <td>599200</td>\n",
       "    </tr>\n",
       "    <tr>\n",
       "      <th>240</th>\n",
       "      <td>1567036800</td>\n",
       "      <td>0</td>\n",
       "      <td>0</td>\n",
       "      <td>0</td>\n",
       "      <td>0</td>\n",
       "      <td>1.432963</td>\n",
       "      <td>-0.276869</td>\n",
       "      <td>-0.360886</td>\n",
       "      <td>-0.927577</td>\n",
       "      <td>-0.350552</td>\n",
       "      <td>600300</td>\n",
       "    </tr>\n",
       "    <tr>\n",
       "      <th>...</th>\n",
       "      <td>...</td>\n",
       "      <td>...</td>\n",
       "      <td>...</td>\n",
       "      <td>...</td>\n",
       "      <td>...</td>\n",
       "      <td>...</td>\n",
       "      <td>...</td>\n",
       "      <td>...</td>\n",
       "      <td>...</td>\n",
       "      <td>...</td>\n",
       "      <td>...</td>\n",
       "    </tr>\n",
       "    <tr>\n",
       "      <th>1130</th>\n",
       "      <td>1643932800</td>\n",
       "      <td>0</td>\n",
       "      <td>0</td>\n",
       "      <td>1</td>\n",
       "      <td>0</td>\n",
       "      <td>-0.921000</td>\n",
       "      <td>-0.299241</td>\n",
       "      <td>-1.167415</td>\n",
       "      <td>-0.470845</td>\n",
       "      <td>1.585889</td>\n",
       "      <td>581700</td>\n",
       "    </tr>\n",
       "    <tr>\n",
       "      <th>1294</th>\n",
       "      <td>1658102400</td>\n",
       "      <td>0</td>\n",
       "      <td>0</td>\n",
       "      <td>0</td>\n",
       "      <td>0</td>\n",
       "      <td>1.763438</td>\n",
       "      <td>-0.299241</td>\n",
       "      <td>0.139396</td>\n",
       "      <td>0.181627</td>\n",
       "      <td>-0.262593</td>\n",
       "      <td>627300</td>\n",
       "    </tr>\n",
       "    <tr>\n",
       "      <th>860</th>\n",
       "      <td>1620604800</td>\n",
       "      <td>0</td>\n",
       "      <td>0</td>\n",
       "      <td>1</td>\n",
       "      <td>2</td>\n",
       "      <td>0.145996</td>\n",
       "      <td>-0.060601</td>\n",
       "      <td>-0.102379</td>\n",
       "      <td>-0.435437</td>\n",
       "      <td>0.481449</td>\n",
       "      <td>578500</td>\n",
       "    </tr>\n",
       "    <tr>\n",
       "      <th>1459</th>\n",
       "      <td>1672358400</td>\n",
       "      <td>0</td>\n",
       "      <td>0</td>\n",
       "      <td>0</td>\n",
       "      <td>0</td>\n",
       "      <td>-0.562824</td>\n",
       "      <td>-0.297377</td>\n",
       "      <td>-0.746963</td>\n",
       "      <td>0.181627</td>\n",
       "      <td>-1.218612</td>\n",
       "      <td>607800</td>\n",
       "    </tr>\n",
       "    <tr>\n",
       "      <th>1126</th>\n",
       "      <td>1643587200</td>\n",
       "      <td>0</td>\n",
       "      <td>0</td>\n",
       "      <td>1</td>\n",
       "      <td>0</td>\n",
       "      <td>-1.130967</td>\n",
       "      <td>-0.299241</td>\n",
       "      <td>-0.096872</td>\n",
       "      <td>-0.470845</td>\n",
       "      <td>1.585889</td>\n",
       "      <td>581700</td>\n",
       "    </tr>\n",
       "  </tbody>\n",
       "</table>\n",
       "<p>1606 rows × 11 columns</p>\n",
       "</div>"
      ],
      "text/plain": [
       "           fecha  findesemana  festivos  lectivos  COVID      tmed      prec  \\\n",
       "1249  1654214400            0         0         1      0  1.240148 -0.299241   \n",
       "261   1568851200            0         0         1      0  1.005489  0.031685   \n",
       "607   1598745600            1         0         0      2  0.365280  0.502439   \n",
       "973   1630368000            0         0         0      2  1.030832  0.386848   \n",
       "240   1567036800            0         0         0      0  1.432963 -0.276869   \n",
       "...          ...          ...       ...       ...    ...       ...       ...   \n",
       "1130  1643932800            0         0         1      0 -0.921000 -0.299241   \n",
       "1294  1658102400            0         0         0      0  1.763438 -0.299241   \n",
       "860   1620604800            0         0         1      2  0.145996 -0.060601   \n",
       "1459  1672358400            0         0         0      0 -0.562824 -0.297377   \n",
       "1126  1643587200            0         0         1      0 -1.130967 -0.299241   \n",
       "\n",
       "      velmedia  poblacion       PIB  Empleo  \n",
       "1249 -0.005490  -0.470845  0.675653  643700  \n",
       "261  -0.674296  -0.927577 -0.350552  600300  \n",
       "607   0.548484  -0.433294 -0.471801  573300  \n",
       "973   0.426326  -0.451277 -0.404125  599200  \n",
       "240  -0.360886  -0.927577 -0.350552  600300  \n",
       "...        ...        ...       ...     ...  \n",
       "1130 -1.167415  -0.470845  1.585889  581700  \n",
       "1294  0.139396   0.181627 -0.262593  627300  \n",
       "860  -0.102379  -0.435437  0.481449  578500  \n",
       "1459 -0.746963   0.181627 -1.218612  607800  \n",
       "1126 -0.096872  -0.470845  1.585889  581700  \n",
       "\n",
       "[1606 rows x 11 columns]"
      ]
     },
     "execution_count": 20,
     "metadata": {},
     "output_type": "execute_result"
    }
   ],
   "source": [
    "X_train"
   ]
  },
  {
   "cell_type": "code",
   "execution_count": 21,
   "metadata": {},
   "outputs": [],
   "source": [
    "scaler = StandardScaler()\n",
    "X_train_scaled = scaler.fit_transform(X_train)\n",
    "X_test_scaled = scaler.transform(X_test)"
   ]
  },
  {
   "cell_type": "code",
   "execution_count": 22,
   "metadata": {},
   "outputs": [
    {
     "name": "stdout",
     "output_type": "stream",
     "text": [
      "fecha          0\n",
      "findesemana    0\n",
      "festivos       0\n",
      "lectivos       0\n",
      "COVID          0\n",
      "tmed           0\n",
      "prec           0\n",
      "velmedia       0\n",
      "poblacion      0\n",
      "PIB            0\n",
      "Empleo         0\n",
      "dtype: int64\n"
     ]
    }
   ],
   "source": [
    "print(X.isnull().sum())"
   ]
  },
  {
   "cell_type": "markdown",
   "metadata": {},
   "source": [
    "2. Construir el modelo de red neuronal"
   ]
  },
  {
   "cell_type": "code",
   "execution_count": 23,
   "metadata": {},
   "outputs": [],
   "source": [
    "# Inicializar el modelo\n",
    "modelInd = Sequential()\n",
    "\n",
    "# Añadir la capa de entrada\n",
    "modelInd.add(Input(shape=(X_train.shape[1],)))  # Define la forma de entrada aquí\n",
    "\n",
    "# Añadir la primera capa oculta\n",
    "modelInd.add(Dense(units=64, activation='relu'))\n",
    "\n",
    "# Añadir una segunda capa oculta (opcional)\n",
    "modelInd.add(Dense(units=32, activation='relu'))\n",
    "\n",
    "# Capa de salida\n",
    "modelInd.add(Dense(units=1))  # Para una regresión, una sola neurona sin función de activación\n",
    "\n",
    "# Compilar el modelo\n",
    "modelInd.compile(optimizer='adam', loss='mean_squared_error')\n"
   ]
  },
  {
   "cell_type": "markdown",
   "metadata": {},
   "source": [
    "3. Entrenar el modelo"
   ]
  },
  {
   "cell_type": "code",
   "execution_count": 24,
   "metadata": {},
   "outputs": [],
   "source": [
    "X_train = np.array(X_train)  # Convertir X_train a un array de NumPy\n",
    "y_train = np.array(y_train)  # Convertir y_train a un array de NumPy\n",
    "X_test = np.array(X_test)  # Asegurarse de que sea un array de NumPy\n",
    "y_test = np.array(y_test)  # Asegurarse de que sea un array de NumPy"
   ]
  },
  {
   "cell_type": "code",
   "execution_count": 25,
   "metadata": {},
   "outputs": [
    {
     "name": "stdout",
     "output_type": "stream",
     "text": [
      "0 0\n",
      "0 0\n"
     ]
    }
   ],
   "source": [
    "\n",
    "print(np.isnan(X_train).sum(), np.isnan(y_train).sum())  # Verifica si hay NaN en los datos\n",
    "print(np.isnan(X_test).sum(), np.isnan(y_test).sum())  # Verifica si hay NaN en los datos\n"
   ]
  },
  {
   "cell_type": "code",
   "execution_count": 26,
   "metadata": {},
   "outputs": [
    {
     "name": "stdout",
     "output_type": "stream",
     "text": [
      "(1606, 11)\n",
      "(1606,)\n"
     ]
    }
   ],
   "source": [
    "# Verifico la dimensión de los datos.\n",
    "\n",
    "print(X_train.shape)  # Debe ser (n_samples, n_features)\n",
    "print(y_train.shape)  # Debe ser (n_samples,)\n"
   ]
  },
  {
   "cell_type": "code",
   "execution_count": 27,
   "metadata": {},
   "outputs": [
    {
     "name": "stdout",
     "output_type": "stream",
     "text": [
      "Epoch 1/100\n"
     ]
    },
    {
     "name": "stdout",
     "output_type": "stream",
     "text": [
      "\u001b[1m41/41\u001b[0m \u001b[32m━━━━━━━━━━━━━━━━━━━━\u001b[0m\u001b[37m\u001b[0m \u001b[1m1s\u001b[0m 4ms/step - loss: 1094552953815040.0000 - val_loss: 148136181760.0000\n",
      "Epoch 2/100\n",
      "\u001b[1m41/41\u001b[0m \u001b[32m━━━━━━━━━━━━━━━━━━━━\u001b[0m\u001b[37m\u001b[0m \u001b[1m0s\u001b[0m 2ms/step - loss: 8334734262272.0000 - val_loss: 23456915456.0000\n",
      "Epoch 3/100\n",
      "\u001b[1m41/41\u001b[0m \u001b[32m━━━━━━━━━━━━━━━━━━━━\u001b[0m\u001b[37m\u001b[0m \u001b[1m0s\u001b[0m 1ms/step - loss: 139763220480.0000 - val_loss: 30956092.0000\n",
      "Epoch 4/100\n",
      "\u001b[1m41/41\u001b[0m \u001b[32m━━━━━━━━━━━━━━━━━━━━\u001b[0m\u001b[37m\u001b[0m \u001b[1m0s\u001b[0m 2ms/step - loss: 2004374656.0000 - val_loss: 127148984.0000\n",
      "Epoch 5/100\n",
      "\u001b[1m41/41\u001b[0m \u001b[32m━━━━━━━━━━━━━━━━━━━━\u001b[0m\u001b[37m\u001b[0m \u001b[1m0s\u001b[0m 2ms/step - loss: 51949536.0000 - val_loss: 18254176.0000\n",
      "Epoch 6/100\n",
      "\u001b[1m41/41\u001b[0m \u001b[32m━━━━━━━━━━━━━━━━━━━━\u001b[0m\u001b[37m\u001b[0m \u001b[1m0s\u001b[0m 2ms/step - loss: 19672848.0000 - val_loss: 16069320.0000\n",
      "Epoch 7/100\n",
      "\u001b[1m41/41\u001b[0m \u001b[32m━━━━━━━━━━━━━━━━━━━━\u001b[0m\u001b[37m\u001b[0m \u001b[1m0s\u001b[0m 2ms/step - loss: 18265850.0000 - val_loss: 19407302.0000\n",
      "Epoch 8/100\n",
      "\u001b[1m41/41\u001b[0m \u001b[32m━━━━━━━━━━━━━━━━━━━━\u001b[0m\u001b[37m\u001b[0m \u001b[1m0s\u001b[0m 2ms/step - loss: 22937074.0000 - val_loss: 17057642.0000\n",
      "Epoch 9/100\n",
      "\u001b[1m41/41\u001b[0m \u001b[32m━━━━━━━━━━━━━━━━━━━━\u001b[0m\u001b[37m\u001b[0m \u001b[1m0s\u001b[0m 2ms/step - loss: 18706576.0000 - val_loss: 28127522.0000\n",
      "Epoch 10/100\n",
      "\u001b[1m41/41\u001b[0m \u001b[32m━━━━━━━━━━━━━━━━━━━━\u001b[0m\u001b[37m\u001b[0m \u001b[1m0s\u001b[0m 2ms/step - loss: 20051634.0000 - val_loss: 27477402.0000\n",
      "Epoch 11/100\n",
      "\u001b[1m41/41\u001b[0m \u001b[32m━━━━━━━━━━━━━━━━━━━━\u001b[0m\u001b[37m\u001b[0m \u001b[1m0s\u001b[0m 2ms/step - loss: 23745732.0000 - val_loss: 22204724.0000\n",
      "Epoch 12/100\n",
      "\u001b[1m41/41\u001b[0m \u001b[32m━━━━━━━━━━━━━━━━━━━━\u001b[0m\u001b[37m\u001b[0m \u001b[1m0s\u001b[0m 1ms/step - loss: 20001848.0000 - val_loss: 17747910.0000\n",
      "Epoch 13/100\n",
      "\u001b[1m41/41\u001b[0m \u001b[32m━━━━━━━━━━━━━━━━━━━━\u001b[0m\u001b[37m\u001b[0m \u001b[1m0s\u001b[0m 1ms/step - loss: 20148230.0000 - val_loss: 29463454.0000\n",
      "Epoch 14/100\n",
      "\u001b[1m41/41\u001b[0m \u001b[32m━━━━━━━━━━━━━━━━━━━━\u001b[0m\u001b[37m\u001b[0m \u001b[1m0s\u001b[0m 2ms/step - loss: 22143732.0000 - val_loss: 19308670.0000\n",
      "Epoch 15/100\n",
      "\u001b[1m41/41\u001b[0m \u001b[32m━━━━━━━━━━━━━━━━━━━━\u001b[0m\u001b[37m\u001b[0m \u001b[1m0s\u001b[0m 2ms/step - loss: 22947282.0000 - val_loss: 17695990.0000\n",
      "Epoch 16/100\n",
      "\u001b[1m41/41\u001b[0m \u001b[32m━━━━━━━━━━━━━━━━━━━━\u001b[0m\u001b[37m\u001b[0m \u001b[1m0s\u001b[0m 2ms/step - loss: 20694156.0000 - val_loss: 16340354.0000\n",
      "Epoch 17/100\n",
      "\u001b[1m41/41\u001b[0m \u001b[32m━━━━━━━━━━━━━━━━━━━━\u001b[0m\u001b[37m\u001b[0m \u001b[1m0s\u001b[0m 1ms/step - loss: 21655698.0000 - val_loss: 17556434.0000\n",
      "Epoch 18/100\n",
      "\u001b[1m41/41\u001b[0m \u001b[32m━━━━━━━━━━━━━━━━━━━━\u001b[0m\u001b[37m\u001b[0m \u001b[1m0s\u001b[0m 1ms/step - loss: 20840226.0000 - val_loss: 17431406.0000\n",
      "Epoch 19/100\n",
      "\u001b[1m41/41\u001b[0m \u001b[32m━━━━━━━━━━━━━━━━━━━━\u001b[0m\u001b[37m\u001b[0m \u001b[1m0s\u001b[0m 2ms/step - loss: 22596746.0000 - val_loss: 16403536.0000\n",
      "Epoch 20/100\n",
      "\u001b[1m41/41\u001b[0m \u001b[32m━━━━━━━━━━━━━━━━━━━━\u001b[0m\u001b[37m\u001b[0m \u001b[1m0s\u001b[0m 2ms/step - loss: 17467430.0000 - val_loss: 16026641.0000\n",
      "Epoch 21/100\n",
      "\u001b[1m41/41\u001b[0m \u001b[32m━━━━━━━━━━━━━━━━━━━━\u001b[0m\u001b[37m\u001b[0m \u001b[1m0s\u001b[0m 2ms/step - loss: 18790332.0000 - val_loss: 16050952.0000\n",
      "Epoch 22/100\n",
      "\u001b[1m41/41\u001b[0m \u001b[32m━━━━━━━━━━━━━━━━━━━━\u001b[0m\u001b[37m\u001b[0m \u001b[1m0s\u001b[0m 1ms/step - loss: 17483628.0000 - val_loss: 16439816.0000\n",
      "Epoch 23/100\n",
      "\u001b[1m41/41\u001b[0m \u001b[32m━━━━━━━━━━━━━━━━━━━━\u001b[0m\u001b[37m\u001b[0m \u001b[1m0s\u001b[0m 2ms/step - loss: 19467566.0000 - val_loss: 16967790.0000\n",
      "Epoch 24/100\n",
      "\u001b[1m41/41\u001b[0m \u001b[32m━━━━━━━━━━━━━━━━━━━━\u001b[0m\u001b[37m\u001b[0m \u001b[1m0s\u001b[0m 1ms/step - loss: 19928610.0000 - val_loss: 23754198.0000\n",
      "Epoch 25/100\n",
      "\u001b[1m41/41\u001b[0m \u001b[32m━━━━━━━━━━━━━━━━━━━━\u001b[0m\u001b[37m\u001b[0m \u001b[1m0s\u001b[0m 2ms/step - loss: 20389514.0000 - val_loss: 45977188.0000\n",
      "Epoch 26/100\n",
      "\u001b[1m41/41\u001b[0m \u001b[32m━━━━━━━━━━━━━━━━━━━━\u001b[0m\u001b[37m\u001b[0m \u001b[1m0s\u001b[0m 1ms/step - loss: 31019842.0000 - val_loss: 39623048.0000\n",
      "Epoch 27/100\n",
      "\u001b[1m41/41\u001b[0m \u001b[32m━━━━━━━━━━━━━━━━━━━━\u001b[0m\u001b[37m\u001b[0m \u001b[1m0s\u001b[0m 2ms/step - loss: 24535384.0000 - val_loss: 21448470.0000\n",
      "Epoch 28/100\n",
      "\u001b[1m41/41\u001b[0m \u001b[32m━━━━━━━━━━━━━━━━━━━━\u001b[0m\u001b[37m\u001b[0m \u001b[1m0s\u001b[0m 2ms/step - loss: 22289480.0000 - val_loss: 16527126.0000\n",
      "Epoch 29/100\n",
      "\u001b[1m41/41\u001b[0m \u001b[32m━━━━━━━━━━━━━━━━━━━━\u001b[0m\u001b[37m\u001b[0m \u001b[1m0s\u001b[0m 1ms/step - loss: 22393066.0000 - val_loss: 23582310.0000\n",
      "Epoch 30/100\n",
      "\u001b[1m41/41\u001b[0m \u001b[32m━━━━━━━━━━━━━━━━━━━━\u001b[0m\u001b[37m\u001b[0m \u001b[1m0s\u001b[0m 1ms/step - loss: 24549966.0000 - val_loss: 37657220.0000\n",
      "Epoch 31/100\n",
      "\u001b[1m41/41\u001b[0m \u001b[32m━━━━━━━━━━━━━━━━━━━━\u001b[0m\u001b[37m\u001b[0m \u001b[1m0s\u001b[0m 2ms/step - loss: 36439848.0000 - val_loss: 24476854.0000\n",
      "Epoch 32/100\n",
      "\u001b[1m41/41\u001b[0m \u001b[32m━━━━━━━━━━━━━━━━━━━━\u001b[0m\u001b[37m\u001b[0m \u001b[1m0s\u001b[0m 1ms/step - loss: 20819774.0000 - val_loss: 24738070.0000\n",
      "Epoch 33/100\n",
      "\u001b[1m41/41\u001b[0m \u001b[32m━━━━━━━━━━━━━━━━━━━━\u001b[0m\u001b[37m\u001b[0m \u001b[1m0s\u001b[0m 2ms/step - loss: 19446144.0000 - val_loss: 19341632.0000\n",
      "Epoch 34/100\n",
      "\u001b[1m41/41\u001b[0m \u001b[32m━━━━━━━━━━━━━━━━━━━━\u001b[0m\u001b[37m\u001b[0m \u001b[1m0s\u001b[0m 1ms/step - loss: 28577598.0000 - val_loss: 16270476.0000\n",
      "Epoch 35/100\n",
      "\u001b[1m41/41\u001b[0m \u001b[32m━━━━━━━━━━━━━━━━━━━━\u001b[0m\u001b[37m\u001b[0m \u001b[1m0s\u001b[0m 2ms/step - loss: 19139992.0000 - val_loss: 25254982.0000\n",
      "Epoch 36/100\n",
      "\u001b[1m41/41\u001b[0m \u001b[32m━━━━━━━━━━━━━━━━━━━━\u001b[0m\u001b[37m\u001b[0m \u001b[1m0s\u001b[0m 1ms/step - loss: 22951116.0000 - val_loss: 68080056.0000\n",
      "Epoch 37/100\n",
      "\u001b[1m41/41\u001b[0m \u001b[32m━━━━━━━━━━━━━━━━━━━━\u001b[0m\u001b[37m\u001b[0m \u001b[1m0s\u001b[0m 2ms/step - loss: 34156892.0000 - val_loss: 21375946.0000\n",
      "Epoch 38/100\n",
      "\u001b[1m41/41\u001b[0m \u001b[32m━━━━━━━━━━━━━━━━━━━━\u001b[0m\u001b[37m\u001b[0m \u001b[1m0s\u001b[0m 2ms/step - loss: 23431320.0000 - val_loss: 19441420.0000\n",
      "Epoch 39/100\n",
      "\u001b[1m41/41\u001b[0m \u001b[32m━━━━━━━━━━━━━━━━━━━━\u001b[0m\u001b[37m\u001b[0m \u001b[1m0s\u001b[0m 1ms/step - loss: 19041962.0000 - val_loss: 22018570.0000\n",
      "Epoch 40/100\n",
      "\u001b[1m41/41\u001b[0m \u001b[32m━━━━━━━━━━━━━━━━━━━━\u001b[0m\u001b[37m\u001b[0m \u001b[1m0s\u001b[0m 1ms/step - loss: 23053178.0000 - val_loss: 17757172.0000\n",
      "Epoch 41/100\n",
      "\u001b[1m41/41\u001b[0m \u001b[32m━━━━━━━━━━━━━━━━━━━━\u001b[0m\u001b[37m\u001b[0m \u001b[1m0s\u001b[0m 2ms/step - loss: 19963620.0000 - val_loss: 21582766.0000\n",
      "Epoch 42/100\n",
      "\u001b[1m41/41\u001b[0m \u001b[32m━━━━━━━━━━━━━━━━━━━━\u001b[0m\u001b[37m\u001b[0m \u001b[1m0s\u001b[0m 2ms/step - loss: 27763468.0000 - val_loss: 23246682.0000\n",
      "Epoch 43/100\n",
      "\u001b[1m41/41\u001b[0m \u001b[32m━━━━━━━━━━━━━━━━━━━━\u001b[0m\u001b[37m\u001b[0m \u001b[1m0s\u001b[0m 2ms/step - loss: 26035472.0000 - val_loss: 61459360.0000\n",
      "Epoch 44/100\n",
      "\u001b[1m41/41\u001b[0m \u001b[32m━━━━━━━━━━━━━━━━━━━━\u001b[0m\u001b[37m\u001b[0m \u001b[1m0s\u001b[0m 2ms/step - loss: 26900352.0000 - val_loss: 28102716.0000\n",
      "Epoch 45/100\n",
      "\u001b[1m41/41\u001b[0m \u001b[32m━━━━━━━━━━━━━━━━━━━━\u001b[0m\u001b[37m\u001b[0m \u001b[1m0s\u001b[0m 1ms/step - loss: 24601044.0000 - val_loss: 102933728.0000\n",
      "Epoch 46/100\n",
      "\u001b[1m41/41\u001b[0m \u001b[32m━━━━━━━━━━━━━━━━━━━━\u001b[0m\u001b[37m\u001b[0m \u001b[1m0s\u001b[0m 1ms/step - loss: 42034208.0000 - val_loss: 81672600.0000\n",
      "Epoch 47/100\n",
      "\u001b[1m41/41\u001b[0m \u001b[32m━━━━━━━━━━━━━━━━━━━━\u001b[0m\u001b[37m\u001b[0m \u001b[1m0s\u001b[0m 2ms/step - loss: 52045208.0000 - val_loss: 20831032.0000\n",
      "Epoch 48/100\n",
      "\u001b[1m41/41\u001b[0m \u001b[32m━━━━━━━━━━━━━━━━━━━━\u001b[0m\u001b[37m\u001b[0m \u001b[1m0s\u001b[0m 1ms/step - loss: 27173048.0000 - val_loss: 27325806.0000\n",
      "Epoch 49/100\n",
      "\u001b[1m41/41\u001b[0m \u001b[32m━━━━━━━━━━━━━━━━━━━━\u001b[0m\u001b[37m\u001b[0m \u001b[1m0s\u001b[0m 2ms/step - loss: 29010296.0000 - val_loss: 20156132.0000\n",
      "Epoch 50/100\n",
      "\u001b[1m41/41\u001b[0m \u001b[32m━━━━━━━━━━━━━━━━━━━━\u001b[0m\u001b[37m\u001b[0m \u001b[1m0s\u001b[0m 1ms/step - loss: 22275002.0000 - val_loss: 16453697.0000\n",
      "Epoch 51/100\n",
      "\u001b[1m41/41\u001b[0m \u001b[32m━━━━━━━━━━━━━━━━━━━━\u001b[0m\u001b[37m\u001b[0m \u001b[1m0s\u001b[0m 1ms/step - loss: 27220308.0000 - val_loss: 28627256.0000\n",
      "Epoch 52/100\n",
      "\u001b[1m41/41\u001b[0m \u001b[32m━━━━━━━━━━━━━━━━━━━━\u001b[0m\u001b[37m\u001b[0m \u001b[1m0s\u001b[0m 1ms/step - loss: 28435858.0000 - val_loss: 50485600.0000\n",
      "Epoch 53/100\n",
      "\u001b[1m41/41\u001b[0m \u001b[32m━━━━━━━━━━━━━━━━━━━━\u001b[0m\u001b[37m\u001b[0m \u001b[1m0s\u001b[0m 2ms/step - loss: 42052364.0000 - val_loss: 16259439.0000\n",
      "Epoch 54/100\n",
      "\u001b[1m41/41\u001b[0m \u001b[32m━━━━━━━━━━━━━━━━━━━━\u001b[0m\u001b[37m\u001b[0m \u001b[1m0s\u001b[0m 2ms/step - loss: 34450852.0000 - val_loss: 177828336.0000\n",
      "Epoch 55/100\n",
      "\u001b[1m41/41\u001b[0m \u001b[32m━━━━━━━━━━━━━━━━━━━━\u001b[0m\u001b[37m\u001b[0m \u001b[1m0s\u001b[0m 2ms/step - loss: 109206304.0000 - val_loss: 47312200.0000\n",
      "Epoch 56/100\n",
      "\u001b[1m41/41\u001b[0m \u001b[32m━━━━━━━━━━━━━━━━━━━━\u001b[0m\u001b[37m\u001b[0m \u001b[1m0s\u001b[0m 2ms/step - loss: 39497992.0000 - val_loss: 29027014.0000\n",
      "Epoch 57/100\n",
      "\u001b[1m41/41\u001b[0m \u001b[32m━━━━━━━━━━━━━━━━━━━━\u001b[0m\u001b[37m\u001b[0m \u001b[1m0s\u001b[0m 2ms/step - loss: 25278228.0000 - val_loss: 18216932.0000\n",
      "Epoch 58/100\n",
      "\u001b[1m41/41\u001b[0m \u001b[32m━━━━━━━━━━━━━━━━━━━━\u001b[0m\u001b[37m\u001b[0m \u001b[1m0s\u001b[0m 2ms/step - loss: 26963344.0000 - val_loss: 16245929.0000\n",
      "Epoch 59/100\n",
      "\u001b[1m41/41\u001b[0m \u001b[32m━━━━━━━━━━━━━━━━━━━━\u001b[0m\u001b[37m\u001b[0m \u001b[1m0s\u001b[0m 1ms/step - loss: 35422532.0000 - val_loss: 111923112.0000\n",
      "Epoch 60/100\n",
      "\u001b[1m41/41\u001b[0m \u001b[32m━━━━━━━━━━━━━━━━━━━━\u001b[0m\u001b[37m\u001b[0m \u001b[1m0s\u001b[0m 2ms/step - loss: 41944524.0000 - val_loss: 19407372.0000\n",
      "Epoch 61/100\n",
      "\u001b[1m41/41\u001b[0m \u001b[32m━━━━━━━━━━━━━━━━━━━━\u001b[0m\u001b[37m\u001b[0m \u001b[1m0s\u001b[0m 2ms/step - loss: 22639972.0000 - val_loss: 33514702.0000\n",
      "Epoch 62/100\n",
      "\u001b[1m41/41\u001b[0m \u001b[32m━━━━━━━━━━━━━━━━━━━━\u001b[0m\u001b[37m\u001b[0m \u001b[1m0s\u001b[0m 1ms/step - loss: 29362506.0000 - val_loss: 16058007.0000\n",
      "Epoch 63/100\n",
      "\u001b[1m41/41\u001b[0m \u001b[32m━━━━━━━━━━━━━━━━━━━━\u001b[0m\u001b[37m\u001b[0m \u001b[1m0s\u001b[0m 1ms/step - loss: 22601912.0000 - val_loss: 111957672.0000\n",
      "Epoch 64/100\n",
      "\u001b[1m41/41\u001b[0m \u001b[32m━━━━━━━━━━━━━━━━━━━━\u001b[0m\u001b[37m\u001b[0m \u001b[1m0s\u001b[0m 2ms/step - loss: 47942652.0000 - val_loss: 17010762.0000\n",
      "Epoch 65/100\n",
      "\u001b[1m41/41\u001b[0m \u001b[32m━━━━━━━━━━━━━━━━━━━━\u001b[0m\u001b[37m\u001b[0m \u001b[1m0s\u001b[0m 2ms/step - loss: 49019128.0000 - val_loss: 33212350.0000\n",
      "Epoch 66/100\n",
      "\u001b[1m41/41\u001b[0m \u001b[32m━━━━━━━━━━━━━━━━━━━━\u001b[0m\u001b[37m\u001b[0m \u001b[1m0s\u001b[0m 2ms/step - loss: 41946096.0000 - val_loss: 16261222.0000\n",
      "Epoch 67/100\n",
      "\u001b[1m41/41\u001b[0m \u001b[32m━━━━━━━━━━━━━━━━━━━━\u001b[0m\u001b[37m\u001b[0m \u001b[1m0s\u001b[0m 1ms/step - loss: 57396052.0000 - val_loss: 18480758.0000\n",
      "Epoch 68/100\n",
      "\u001b[1m41/41\u001b[0m \u001b[32m━━━━━━━━━━━━━━━━━━━━\u001b[0m\u001b[37m\u001b[0m \u001b[1m0s\u001b[0m 2ms/step - loss: 62359764.0000 - val_loss: 21896434.0000\n",
      "Epoch 69/100\n",
      "\u001b[1m41/41\u001b[0m \u001b[32m━━━━━━━━━━━━━━━━━━━━\u001b[0m\u001b[37m\u001b[0m \u001b[1m0s\u001b[0m 1ms/step - loss: 44902684.0000 - val_loss: 110008000.0000\n",
      "Epoch 70/100\n",
      "\u001b[1m41/41\u001b[0m \u001b[32m━━━━━━━━━━━━━━━━━━━━\u001b[0m\u001b[37m\u001b[0m \u001b[1m0s\u001b[0m 2ms/step - loss: 64873260.0000 - val_loss: 182272960.0000\n",
      "Epoch 71/100\n",
      "\u001b[1m41/41\u001b[0m \u001b[32m━━━━━━━━━━━━━━━━━━━━\u001b[0m\u001b[37m\u001b[0m \u001b[1m0s\u001b[0m 1ms/step - loss: 179442528.0000 - val_loss: 361584960.0000\n",
      "Epoch 72/100\n",
      "\u001b[1m41/41\u001b[0m \u001b[32m━━━━━━━━━━━━━━━━━━━━\u001b[0m\u001b[37m\u001b[0m \u001b[1m0s\u001b[0m 2ms/step - loss: 210646352.0000 - val_loss: 22603100.0000\n",
      "Epoch 73/100\n",
      "\u001b[1m41/41\u001b[0m \u001b[32m━━━━━━━━━━━━━━━━━━━━\u001b[0m\u001b[37m\u001b[0m \u001b[1m0s\u001b[0m 2ms/step - loss: 31320062.0000 - val_loss: 35336360.0000\n",
      "Epoch 74/100\n",
      "\u001b[1m41/41\u001b[0m \u001b[32m━━━━━━━━━━━━━━━━━━━━\u001b[0m\u001b[37m\u001b[0m \u001b[1m0s\u001b[0m 2ms/step - loss: 42964920.0000 - val_loss: 62057556.0000\n",
      "Epoch 75/100\n",
      "\u001b[1m41/41\u001b[0m \u001b[32m━━━━━━━━━━━━━━━━━━━━\u001b[0m\u001b[37m\u001b[0m \u001b[1m0s\u001b[0m 1ms/step - loss: 88375000.0000 - val_loss: 27624130.0000\n",
      "Epoch 76/100\n",
      "\u001b[1m41/41\u001b[0m \u001b[32m━━━━━━━━━━━━━━━━━━━━\u001b[0m\u001b[37m\u001b[0m \u001b[1m0s\u001b[0m 2ms/step - loss: 441828800.0000 - val_loss: 517899616.0000\n",
      "Epoch 77/100\n",
      "\u001b[1m41/41\u001b[0m \u001b[32m━━━━━━━━━━━━━━━━━━━━\u001b[0m\u001b[37m\u001b[0m \u001b[1m0s\u001b[0m 2ms/step - loss: 611847168.0000 - val_loss: 1020093504.0000\n",
      "Epoch 78/100\n",
      "\u001b[1m41/41\u001b[0m \u001b[32m━━━━━━━━━━━━━━━━━━━━\u001b[0m\u001b[37m\u001b[0m \u001b[1m0s\u001b[0m 2ms/step - loss: 19824263168.0000 - val_loss: 5609729032192.0000\n",
      "Epoch 79/100\n",
      "\u001b[1m41/41\u001b[0m \u001b[32m━━━━━━━━━━━━━━━━━━━━\u001b[0m\u001b[37m\u001b[0m \u001b[1m0s\u001b[0m 1ms/step - loss: 9285182423040.0000 - val_loss: 89680412672.0000\n",
      "Epoch 80/100\n",
      "\u001b[1m41/41\u001b[0m \u001b[32m━━━━━━━━━━━━━━━━━━━━\u001b[0m\u001b[37m\u001b[0m \u001b[1m0s\u001b[0m 2ms/step - loss: 75363360768.0000 - val_loss: 4819423744.0000\n",
      "Epoch 81/100\n",
      "\u001b[1m41/41\u001b[0m \u001b[32m━━━━━━━━━━━━━━━━━━━━\u001b[0m\u001b[37m\u001b[0m \u001b[1m0s\u001b[0m 2ms/step - loss: 1166965504.0000 - val_loss: 481429280.0000\n",
      "Epoch 82/100\n",
      "\u001b[1m41/41\u001b[0m \u001b[32m━━━━━━━━━━━━━━━━━━━━\u001b[0m\u001b[37m\u001b[0m \u001b[1m0s\u001b[0m 1ms/step - loss: 336334816.0000 - val_loss: 93636624.0000\n",
      "Epoch 83/100\n",
      "\u001b[1m41/41\u001b[0m \u001b[32m━━━━━━━━━━━━━━━━━━━━\u001b[0m\u001b[37m\u001b[0m \u001b[1m0s\u001b[0m 2ms/step - loss: 272880032.0000 - val_loss: 41309464.0000\n",
      "Epoch 84/100\n",
      "\u001b[1m41/41\u001b[0m \u001b[32m━━━━━━━━━━━━━━━━━━━━\u001b[0m\u001b[37m\u001b[0m \u001b[1m0s\u001b[0m 1ms/step - loss: 24415344640.0000 - val_loss: 3064272781312.0000\n",
      "Epoch 85/100\n",
      "\u001b[1m41/41\u001b[0m \u001b[32m━━━━━━━━━━━━━━━━━━━━\u001b[0m\u001b[37m\u001b[0m \u001b[1m0s\u001b[0m 2ms/step - loss: 5173639905280.0000 - val_loss: 151951572992.0000\n",
      "Epoch 86/100\n",
      "\u001b[1m41/41\u001b[0m \u001b[32m━━━━━━━━━━━━━━━━━━━━\u001b[0m\u001b[37m\u001b[0m \u001b[1m0s\u001b[0m 2ms/step - loss: 107757559808.0000 - val_loss: 3327548160.0000\n",
      "Epoch 87/100\n",
      "\u001b[1m41/41\u001b[0m \u001b[32m━━━━━━━━━━━━━━━━━━━━\u001b[0m\u001b[37m\u001b[0m \u001b[1m0s\u001b[0m 1ms/step - loss: 1051447360.0000 - val_loss: 15983765.0000\n",
      "Epoch 88/100\n",
      "\u001b[1m41/41\u001b[0m \u001b[32m━━━━━━━━━━━━━━━━━━━━\u001b[0m\u001b[37m\u001b[0m \u001b[1m0s\u001b[0m 2ms/step - loss: 67264479232.0000 - val_loss: 9648618864640.0000\n",
      "Epoch 89/100\n",
      "\u001b[1m41/41\u001b[0m \u001b[32m━━━━━━━━━━━━━━━━━━━━\u001b[0m\u001b[37m\u001b[0m \u001b[1m0s\u001b[0m 1ms/step - loss: 5385701294080.0000 - val_loss: 130584338432.0000\n",
      "Epoch 90/100\n",
      "\u001b[1m41/41\u001b[0m \u001b[32m━━━━━━━━━━━━━━━━━━━━\u001b[0m\u001b[37m\u001b[0m \u001b[1m0s\u001b[0m 2ms/step - loss: 42336129024.0000 - val_loss: 3761594112.0000\n",
      "Epoch 91/100\n",
      "\u001b[1m41/41\u001b[0m \u001b[32m━━━━━━━━━━━━━━━━━━━━\u001b[0m\u001b[37m\u001b[0m \u001b[1m0s\u001b[0m 2ms/step - loss: 1399859456.0000 - val_loss: 12613527552.0000\n",
      "Epoch 92/100\n",
      "\u001b[1m41/41\u001b[0m \u001b[32m━━━━━━━━━━━━━━━━━━━━\u001b[0m\u001b[37m\u001b[0m \u001b[1m0s\u001b[0m 2ms/step - loss: 266750476288.0000 - val_loss: 656422404096.0000\n",
      "Epoch 93/100\n",
      "\u001b[1m41/41\u001b[0m \u001b[32m━━━━━━━━━━━━━━━━━━━━\u001b[0m\u001b[37m\u001b[0m \u001b[1m0s\u001b[0m 2ms/step - loss: 336004284416.0000 - val_loss: 929398456320.0000\n",
      "Epoch 94/100\n",
      "\u001b[1m41/41\u001b[0m \u001b[32m━━━━━━━━━━━━━━━━━━━━\u001b[0m\u001b[37m\u001b[0m \u001b[1m0s\u001b[0m 2ms/step - loss: 585808609280.0000 - val_loss: 136398192640.0000\n",
      "Epoch 95/100\n",
      "\u001b[1m41/41\u001b[0m \u001b[32m━━━━━━━━━━━━━━━━━━━━\u001b[0m\u001b[37m\u001b[0m \u001b[1m0s\u001b[0m 1ms/step - loss: 232434778112.0000 - val_loss: 12962405376.0000\n",
      "Epoch 96/100\n",
      "\u001b[1m41/41\u001b[0m \u001b[32m━━━━━━━━━━━━━━━━━━━━\u001b[0m\u001b[37m\u001b[0m \u001b[1m0s\u001b[0m 1ms/step - loss: 21011349504.0000 - val_loss: 490927587328.0000\n",
      "Epoch 97/100\n",
      "\u001b[1m41/41\u001b[0m \u001b[32m━━━━━━━━━━━━━━━━━━━━\u001b[0m\u001b[37m\u001b[0m \u001b[1m0s\u001b[0m 2ms/step - loss: 2502594658304.0000 - val_loss: 814110408704.0000\n",
      "Epoch 98/100\n",
      "\u001b[1m41/41\u001b[0m \u001b[32m━━━━━━━━━━━━━━━━━━━━\u001b[0m\u001b[37m\u001b[0m \u001b[1m0s\u001b[0m 1ms/step - loss: 362982047744.0000 - val_loss: 23133663232.0000\n",
      "Epoch 99/100\n",
      "\u001b[1m41/41\u001b[0m \u001b[32m━━━━━━━━━━━━━━━━━━━━\u001b[0m\u001b[37m\u001b[0m \u001b[1m0s\u001b[0m 1ms/step - loss: 9507849216.0000 - val_loss: 1148573184.0000\n",
      "Epoch 100/100\n",
      "\u001b[1m41/41\u001b[0m \u001b[32m━━━━━━━━━━━━━━━━━━━━\u001b[0m\u001b[37m\u001b[0m \u001b[1m0s\u001b[0m 2ms/step - loss: 9109553152.0000 - val_loss: 235275255808.0000\n"
     ]
    }
   ],
   "source": [
    "# Entrenar el modelo\n",
    "history = modelInd.fit(X_train, y_train, epochs=100, batch_size=32, validation_split=0.2)\n"
   ]
  },
  {
   "cell_type": "markdown",
   "metadata": {},
   "source": [
    "4. Evaluar el modelo"
   ]
  },
  {
   "cell_type": "code",
   "execution_count": 28,
   "metadata": {},
   "outputs": [
    {
     "name": "stdout",
     "output_type": "stream",
     "text": [
      "\u001b[1m13/13\u001b[0m \u001b[32m━━━━━━━━━━━━━━━━━━━━\u001b[0m\u001b[37m\u001b[0m \u001b[1m0s\u001b[0m 933us/step - loss: 234242129920.0000\n",
      "Test Loss: 234494689280.0\n"
     ]
    }
   ],
   "source": [
    "# Evaluar el modelo\n",
    "test_loss = modelInd.evaluate(X_test, y_test)\n",
    "print(f'Test Loss: {test_loss}')\n"
   ]
  },
  {
   "cell_type": "markdown",
   "metadata": {},
   "source": [
    "## Paso 3: Evaluación del modelo y predicciones"
   ]
  },
  {
   "cell_type": "markdown",
   "metadata": {},
   "source": [
    "1. Visualizar la pérdida durante el entrenamiento"
   ]
  },
  {
   "cell_type": "code",
   "execution_count": 29,
   "metadata": {},
   "outputs": [
    {
     "data": {
      "image/png": "[encoded data removed]",
      "text/plain": [
       "<Figure size 640x480 with 1 Axes>"
      ]
     },
     "metadata": {},
     "output_type": "display_data"
    }
   ],
   "source": [
    "# Visualizar la pérdida durante el entrenamiento\n",
    "plt.plot(history.history['loss'], label='Pérdida en entrenamiento')\n",
    "plt.plot(history.history['val_loss'], label='Pérdida en validación')\n",
    "plt.title('Pérdida durante el entrenamiento')\n",
    "plt.xlabel('Épocas')\n",
    "plt.ylabel('Pérdida')\n",
    "plt.legend()\n",
    "plt.show()"
   ]
  },
  {
   "cell_type": "markdown",
   "metadata": {},
   "source": [
    "2. Evaluar el modelo en el conjunto de prueba"
   ]
  },
  {
   "cell_type": "code",
   "execution_count": 30,
   "metadata": {},
   "outputs": [
    {
     "name": "stdout",
     "output_type": "stream",
     "text": [
      "\u001b[1m13/13\u001b[0m \u001b[32m━━━━━━━━━━━━━━━━━━━━\u001b[0m\u001b[37m\u001b[0m \u001b[1m0s\u001b[0m 770us/step - loss: 234242129920.0000\n",
      "Pérdida en el conjunto de prueba: 234494689280.0\n"
     ]
    }
   ],
   "source": [
    "# Evaluar el modelo en el conjunto de prueba\n",
    "test_loss = modelInd.evaluate(X_test, y_test)\n",
    "print(f'Pérdida en el conjunto de prueba: {test_loss}')"
   ]
  },
  {
   "cell_type": "markdown",
   "metadata": {},
   "source": [
    "3. Hacer predicciones"
   ]
  },
  {
   "cell_type": "code",
   "execution_count": 32,
   "metadata": {},
   "outputs": [
    {
     "name": "stdout",
     "output_type": "stream",
     "text": [
      "\u001b[1m 2/13\u001b[0m \u001b[32m━━━\u001b[0m\u001b[37m━━━━━━━━━━━━━━━━━\u001b[0m \u001b[1m0s\u001b[0m 3ms/stepp"
     ]
    },
    {
     "name": "stdout",
     "output_type": "stream",
     "text": [
      "\u001b[1m13/13\u001b[0m \u001b[32m━━━━━━━━━━━━━━━━━━━━\u001b[0m\u001b[37m\u001b[0m \u001b[1m0s\u001b[0m 3ms/step\n"
     ]
    },
    {
     "data": {
      "image/png": "[encoded data removed]",
      "text/plain": [
       "<Figure size 640x480 with 1 Axes>"
      ]
     },
     "metadata": {},
     "output_type": "display_data"
    }
   ],
   "source": [
    "# Hacer predicciones\n",
    "predicciones = modelInd.predict(X_test)\n",
    "\n",
    "# Comparar predicciones con los valores reales\n",
    "plt.scatter(y_test, predicciones)\n",
    "plt.xlabel('Valores reales')\n",
    "plt.ylabel('Predicciones')\n",
    "plt.title('Comparación de valores reales vs. predicciones')\n",
    "plt.plot([y_test.min(), y_test.max()], [y_test.min(), y_test.max()], 'k--', lw=2)  # Línea de identidad\n",
    "plt.show()"
   ]
  },
  {
   "cell_type": "markdown",
   "metadata": {},
   "source": [
    "4. Calcular métricas adicionales"
   ]
  },
  {
   "cell_type": "code",
   "execution_count": 33,
   "metadata": {},
   "outputs": [
    {
     "name": "stdout",
     "output_type": "stream",
     "text": [
      "Error Absoluto Medio (MAE): 484060.6392146722\n",
      "Raíz del Error Cuadrático Medio (RMSE): 484246.53032917134\n"
     ]
    },
    {
     "name": "stderr",
     "output_type": "stream",
     "text": [
      "/home/vscode/.local/lib/python3.10/site-packages/sklearn/metrics/_regression.py:492: FutureWarning: 'squared' is deprecated in version 1.4 and will be removed in 1.6. To calculate the root mean squared error, use the function'root_mean_squared_error'.\n",
      "  warnings.warn(\n"
     ]
    }
   ],
   "source": [
    "mae = mean_absolute_error(y_test, predicciones)\n",
    "rmse = mean_squared_error(y_test, predicciones, squared=False)\n",
    "\n",
    "print(f'Error Absoluto Medio (MAE): {mae}')\n",
    "print(f'Raíz del Error Cuadrático Medio (RMSE): {rmse}')\n"
   ]
  },
  {
   "cell_type": "code",
   "execution_count": null,
   "metadata": {},
   "outputs": [],
   "source": [
    "#Extraccion del modelo a una crapeta\n",
    "# Guardar el modelo entrenado en una carpeta\n",
    "modelInd.save('../models/modelo_industrial.h5')\n"
   ]
  },
  {
   "cell_type": "markdown",
   "metadata": {},
   "source": [
    "## Paso 4: Optimización del modelo"
   ]
  },
  {
   "cell_type": "markdown",
   "metadata": {},
   "source": [
    "Aquí hay algunas estrategias que puedes utilizar para optimizar tu modelo:\n",
    "\n",
    "#### 1. **Ajuste de Hiperparámetros**\n",
    "\n",
    "- **Número de Neuronas y Capas**: Experimenta con el número de neuronas en cada capa y la cantidad de capas ocultas. Un modelo más complejo puede capturar mejor patrones en los datos, pero ten cuidado con el sobreajuste.\n",
    "\n",
    "- **Tasa de Aprendizaje (Learning Rate)**: Ajusta la tasa de aprendizaje del optimizador. Puedes utilizar un optimizador como Adam que permite cambiar dinámicamente la tasa de aprendizaje.\n"
   ]
  },
  {
   "cell_type": "markdown",
   "metadata": {},
   "source": [
    "### 2. **Regularización**\n",
    "\n",
    "- **Dropout**: Introduce capas de `Dropout` para evitar el sobreajuste. Esto apaga aleatoriamente un porcentaje de neuronas durante el entrenamiento, lo que ayuda a que el modelo generalice mejor\n",
    "- **Regularización L1 o L2**: Aplica técnicas de regularización a las capas densas.\n"
   ]
  },
  {
   "cell_type": "markdown",
   "metadata": {},
   "source": [
    "#### 3. **Aumentar el número de épocas**\n",
    "\n",
    "Aumentar el número de épocas puede ayudar a que el modelo aprenda mejor, pero asegúrate de monitorear la pérdida en el conjunto de validación para evitar el sobreajuste.\n"
   ]
  },
  {
   "cell_type": "markdown",
   "metadata": {},
   "source": [
    "#### 4. **Early Stopping**\n",
    "\n",
    "Implementa `EarlyStopping` para detener el entrenamiento si la pérdida en el conjunto de validación no mejora después de un número específico de épocas. Esto ayuda a evitar el sobreajuste.\n"
   ]
  },
  {
   "cell_type": "markdown",
   "metadata": {},
   "source": [
    "#### 5. **Prueba con diferentes optimizadores**\n",
    "\n",
    "Prueba diferentes optimizadores (como SGD, Adam, RMSprop) para ver si alguno mejora el rendimiento.\n"
   ]
  },
  {
   "cell_type": "markdown",
   "metadata": {},
   "source": [
    "### 6. **Evaluar mejoras**\n",
    "\n",
    "Después de aplicar algunas de estas técnicas, vuelve a evaluar el modelo utilizando el conjunto de prueba y compara el nuevo `Test Loss` y el `RMSE` con los resultados anteriores.\n"
   ]
  },
  {
   "cell_type": "markdown",
   "metadata": {},
   "source": []
  }
 ],
 "metadata": {
  "kernelspec": {
   "display_name": "Python 3",
   "language": "python",
   "name": "python3"
  },
  "language_info": {
   "codemirror_mode": {
    "name": "ipython",
    "version": 3
   },
   "file_extension": ".py",
   "mimetype": "text/x-python",
   "name": "python",
   "nbconvert_exporter": "python",
   "pygments_lexer": "ipython3",
   "version": "3.10.12"
  }
 },
 "nbformat": 4,
 "nbformat_minor": 2
}
