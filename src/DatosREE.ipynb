{
 "cells": [
  {
   "cell_type": "markdown",
   "metadata": {},
   "source": [
    "## Comrobacion de adqusicion de datos de API REE"
   ]
  },
  {
   "cell_type": "code",
   "execution_count": 2,
   "metadata": {},
   "outputs": [],
   "source": [
    "#Librerias \n",
    "import requests\n",
    "import json\n",
    "import pandas as pd"
   ]
  },
  {
   "cell_type": "code",
   "execution_count": 3,
   "metadata": {},
   "outputs": [
    {
     "name": "stdout",
     "output_type": "stream",
     "text": [
      "Error 403: No se pudieron obtener los datos.\n"
     ]
    }
   ],
   "source": [
    "#Este codigo es por si no es necesario un token personal\n",
    "url = \"https://api.esios.ree.es/indicators/700\"\n",
    "\n",
    "# Realizar la solicitud GET\n",
    "response = requests.get(url)\n",
    "\n",
    "# Verificar el estado de la respuesta\n",
    "if response.status_code == 200:\n",
    "    # Convertir la respuesta en formato JSON\n",
    "    data = response.json()\n",
    "    print(\"Datos obtenidos correctamente:\")\n",
    "    print(data)\n",
    "else:\n",
    "    print(f\"Error {response.status_code}: No se pudieron obtener los datos.\")"
   ]
  },
  {
   "cell_type": "code",
   "execution_count": 4,
   "metadata": {},
   "outputs": [],
   "source": [
    "# Es necesario un token personal (indicador 600 para España/Canarias el indicador 700)\n",
    "url = \"https://api.esios.ree.es/indicators/700\"\n",
    "\n",
    "# Cabeceras que incluyen el token de acceso\n",
    "headers = {\n",
    "    \"Accept\": \"application/json\",\n",
    "    \"Content-Type\": \"application/json\",\n",
    "    #Incluir el token obtenido en https://www.esios.ree.es/es/mi-esios\n",
    "    \"Authorization\": \"\"  \n",
    "}\n"
   ]
  },
  {
   "cell_type": "code",
   "execution_count": 5,
   "metadata": {},
   "outputs": [
    {
     "name": "stdout",
     "output_type": "stream",
     "text": [
      "Error: 403\n"
     ]
    }
   ],
   "source": [
    "# Realizar la solicitud GET a la API\n",
    "response = requests.get(url, headers=headers)\n",
    "\n",
    "# Verificar si la solicitud fue exitosa\n",
    "if response.status_code == 200:\n",
    "    data = response.json()  # Convertir la respuesta a JSON\n",
    "    # Extraer datos y convertirlos en un DataFrame para fácil manejo\n",
    "    df = pd.DataFrame(data['indicator']['values'])\n",
    "else:\n",
    "    print(f\"Error: {response.status_code}\")"
   ]
  },
  {
   "cell_type": "code",
   "execution_count": 6,
   "metadata": {},
   "outputs": [
    {
     "name": "stdout",
     "output_type": "stream",
     "text": [
      "Error: 403\n"
     ]
    }
   ],
   "source": [
    "#Solicitar datos en un intervalo de tiempo\n",
    "params = {\n",
    "    'start_date': '2023-01-01T00:00:00',  # Fecha de inicio en formato ISO\n",
    "    'end_date': '2023-12-31T23:59:59'     # Fecha de fin en formato ISO\n",
    "}\n",
    "\n",
    "response = requests.get(url, headers=headers, params=params)\n",
    "\n",
    "if response.status_code == 200:\n",
    "    data = response.json()\n",
    "    values = data['indicator']['values']\n",
    "    df = pd.DataFrame(values)\n",
    "    #Transformar los datos de la fecha a tipo datetime\n",
    "    df['datetime'] = pd.to_datetime(df['datetime'])\n",
    "    #Convertir la fecha a index\n",
    "    df.set_index('datetime', inplace=True)\n",
    "    print(df.head())\n",
    "else:\n",
    "    print(f\"Error: {response.status_code}\")"
   ]
  }
 ],
 "metadata": {
  "kernelspec": {
   "display_name": "Python 3",
   "language": "python",
   "name": "python3"
  },
  "language_info": {
   "codemirror_mode": {
    "name": "ipython",
    "version": 3
   },
   "file_extension": ".py",
   "mimetype": "text/x-python",
   "name": "python",
   "nbconvert_exporter": "python",
   "pygments_lexer": "ipython3",
   "version": "3.11.9"
  }
 },
 "nbformat": 4,
 "nbformat_minor": 2
}
