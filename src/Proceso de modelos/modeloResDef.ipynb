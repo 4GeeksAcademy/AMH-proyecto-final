{
 "cells": [
  {
   "cell_type": "markdown",
   "metadata": {},
   "source": [
    "# Esquema del modelo definitivo"
   ]
  },
  {
   "cell_type": "markdown",
   "metadata": {},
   "source": [
    "## I. Librerias y funciones"
   ]
  },
  {
   "cell_type": "code",
   "execution_count": 53,
   "metadata": {},
   "outputs": [],
   "source": [
    "#Librerias\n",
    "import pandas as pd\n",
    "import numpy as np\n",
    "from sklearn.model_selection import train_test_split\n",
    "from sklearn.preprocessing import StandardScaler, MinMaxScaler\n",
    "from tensorflow.keras.models import Sequential\n",
    "from tensorflow.keras.layers import Dense, Dropout, LSTM\n",
    "import matplotlib.pyplot as plt\n",
    "from sklearn.metrics import mean_absolute_error, mean_squared_error,r2_score\n",
    "import xgboost as xgb\n",
    "import pandas as pd\n",
    "from statsmodels.stats.outliers_influence import variance_inflation_factor\n",
    "import pickle"
   ]
  },
  {
   "cell_type": "code",
   "execution_count": 54,
   "metadata": {},
   "outputs": [],
   "source": [
    "# Función para convertir los datos en secuencias de tiempo\n",
    "def create_sequences(X, y, time_steps=10):\n",
    "    Xs, ys = [], []\n",
    "    for i in range(len(X) - time_steps):\n",
    "        Xs.append(X[i:i+time_steps])\n",
    "        ys.append(y[i+time_steps])\n",
    "    return np.array(Xs), np.array(ys)"
   ]
  },
  {
   "cell_type": "markdown",
   "metadata": {},
   "source": [
    "## II. Procesado del DF"
   ]
  },
  {
   "cell_type": "code",
   "execution_count": 55,
   "metadata": {},
   "outputs": [
    {
     "data": {
      "text/html": [
       "<div>\n",
       "<style scoped>\n",
       "    .dataframe tbody tr th:only-of-type {\n",
       "        vertical-align: middle;\n",
       "    }\n",
       "\n",
       "    .dataframe tbody tr th {\n",
       "        vertical-align: top;\n",
       "    }\n",
       "\n",
       "    .dataframe thead th {\n",
       "        text-align: right;\n",
       "    }\n",
       "</style>\n",
       "<table border=\"1\" class=\"dataframe\">\n",
       "  <thead>\n",
       "    <tr style=\"text-align: right;\">\n",
       "      <th></th>\n",
       "      <th>Sector_Economic</th>\n",
       "      <th>año</th>\n",
       "      <th>consumo</th>\n",
       "      <th>fecha</th>\n",
       "      <th>findesemana</th>\n",
       "      <th>festivos</th>\n",
       "      <th>lectivos</th>\n",
       "      <th>COVID</th>\n",
       "      <th>tmed</th>\n",
       "      <th>prec</th>\n",
       "      <th>velmedia</th>\n",
       "      <th>poblacion</th>\n",
       "      <th>PIB</th>\n",
       "      <th>Rentanetamediaporpersona</th>\n",
       "      <th>Rentanetamediaporhogar</th>\n",
       "      <th>bono_social</th>\n",
       "    </tr>\n",
       "  </thead>\n",
       "  <tbody>\n",
       "    <tr>\n",
       "      <th>0</th>\n",
       "      <td>Residencial</td>\n",
       "      <td>2019.0</td>\n",
       "      <td>6713701</td>\n",
       "      <td>2019-01-01</td>\n",
       "      <td>0</td>\n",
       "      <td>1</td>\n",
       "      <td>0</td>\n",
       "      <td>0</td>\n",
       "      <td>8.590909</td>\n",
       "      <td>0.0</td>\n",
       "      <td>1.417647</td>\n",
       "      <td>5628011</td>\n",
       "      <td>62490</td>\n",
       "      <td>14656.0</td>\n",
       "      <td>38386.00</td>\n",
       "      <td>0</td>\n",
       "    </tr>\n",
       "    <tr>\n",
       "      <th>1</th>\n",
       "      <td>Residencial</td>\n",
       "      <td>2019.0</td>\n",
       "      <td>7354663</td>\n",
       "      <td>2019-01-02</td>\n",
       "      <td>0</td>\n",
       "      <td>0</td>\n",
       "      <td>0</td>\n",
       "      <td>0</td>\n",
       "      <td>6.617391</td>\n",
       "      <td>0.3</td>\n",
       "      <td>2.152941</td>\n",
       "      <td>5628011</td>\n",
       "      <td>62490</td>\n",
       "      <td>14656.0</td>\n",
       "      <td>38386.00</td>\n",
       "      <td>0</td>\n",
       "    </tr>\n",
       "    <tr>\n",
       "      <th>2</th>\n",
       "      <td>Residencial</td>\n",
       "      <td>2019.0</td>\n",
       "      <td>7619413</td>\n",
       "      <td>2019-01-03</td>\n",
       "      <td>0</td>\n",
       "      <td>0</td>\n",
       "      <td>0</td>\n",
       "      <td>0</td>\n",
       "      <td>5.604348</td>\n",
       "      <td>0.1</td>\n",
       "      <td>1.676471</td>\n",
       "      <td>5628011</td>\n",
       "      <td>62490</td>\n",
       "      <td>14656.0</td>\n",
       "      <td>38386.00</td>\n",
       "      <td>0</td>\n",
       "    </tr>\n",
       "    <tr>\n",
       "      <th>3</th>\n",
       "      <td>Residencial</td>\n",
       "      <td>2019.0</td>\n",
       "      <td>7815514</td>\n",
       "      <td>2019-01-04</td>\n",
       "      <td>0</td>\n",
       "      <td>0</td>\n",
       "      <td>0</td>\n",
       "      <td>0</td>\n",
       "      <td>5.004348</td>\n",
       "      <td>0.0</td>\n",
       "      <td>1.335294</td>\n",
       "      <td>5628011</td>\n",
       "      <td>63436</td>\n",
       "      <td>14656.0</td>\n",
       "      <td>38386.00</td>\n",
       "      <td>0</td>\n",
       "    </tr>\n",
       "    <tr>\n",
       "      <th>4</th>\n",
       "      <td>Residencial</td>\n",
       "      <td>2019.0</td>\n",
       "      <td>7527041</td>\n",
       "      <td>2019-01-05</td>\n",
       "      <td>1</td>\n",
       "      <td>0</td>\n",
       "      <td>0</td>\n",
       "      <td>0</td>\n",
       "      <td>6.173913</td>\n",
       "      <td>0.0</td>\n",
       "      <td>2.247059</td>\n",
       "      <td>5628011</td>\n",
       "      <td>62490</td>\n",
       "      <td>14656.0</td>\n",
       "      <td>38386.00</td>\n",
       "      <td>0</td>\n",
       "    </tr>\n",
       "    <tr>\n",
       "      <th>...</th>\n",
       "      <td>...</td>\n",
       "      <td>...</td>\n",
       "      <td>...</td>\n",
       "      <td>...</td>\n",
       "      <td>...</td>\n",
       "      <td>...</td>\n",
       "      <td>...</td>\n",
       "      <td>...</td>\n",
       "      <td>...</td>\n",
       "      <td>...</td>\n",
       "      <td>...</td>\n",
       "      <td>...</td>\n",
       "      <td>...</td>\n",
       "      <td>...</td>\n",
       "      <td>...</td>\n",
       "      <td>...</td>\n",
       "    </tr>\n",
       "    <tr>\n",
       "      <th>2003</th>\n",
       "      <td>Residencial</td>\n",
       "      <td>2024.0</td>\n",
       "      <td>5404940</td>\n",
       "      <td>2024-06-26</td>\n",
       "      <td>0</td>\n",
       "      <td>0</td>\n",
       "      <td>0</td>\n",
       "      <td>0</td>\n",
       "      <td>22.623810</td>\n",
       "      <td>0.0</td>\n",
       "      <td>2.168750</td>\n",
       "      <td>5884873</td>\n",
       "      <td>77268</td>\n",
       "      <td>17845.0</td>\n",
       "      <td>45903.93</td>\n",
       "      <td>1</td>\n",
       "    </tr>\n",
       "    <tr>\n",
       "      <th>2004</th>\n",
       "      <td>Residencial</td>\n",
       "      <td>2024.0</td>\n",
       "      <td>5326951</td>\n",
       "      <td>2024-06-27</td>\n",
       "      <td>0</td>\n",
       "      <td>0</td>\n",
       "      <td>0</td>\n",
       "      <td>0</td>\n",
       "      <td>23.776190</td>\n",
       "      <td>0.0</td>\n",
       "      <td>1.912500</td>\n",
       "      <td>5884873</td>\n",
       "      <td>77268</td>\n",
       "      <td>17845.0</td>\n",
       "      <td>45903.93</td>\n",
       "      <td>1</td>\n",
       "    </tr>\n",
       "    <tr>\n",
       "      <th>2005</th>\n",
       "      <td>Residencial</td>\n",
       "      <td>2024.0</td>\n",
       "      <td>5490645</td>\n",
       "      <td>2024-06-28</td>\n",
       "      <td>0</td>\n",
       "      <td>0</td>\n",
       "      <td>0</td>\n",
       "      <td>0</td>\n",
       "      <td>24.452381</td>\n",
       "      <td>15.5</td>\n",
       "      <td>2.637500</td>\n",
       "      <td>5884873</td>\n",
       "      <td>77268</td>\n",
       "      <td>17845.0</td>\n",
       "      <td>45903.93</td>\n",
       "      <td>1</td>\n",
       "    </tr>\n",
       "    <tr>\n",
       "      <th>2006</th>\n",
       "      <td>Residencial</td>\n",
       "      <td>2024.0</td>\n",
       "      <td>5137699</td>\n",
       "      <td>2024-06-29</td>\n",
       "      <td>1</td>\n",
       "      <td>0</td>\n",
       "      <td>0</td>\n",
       "      <td>0</td>\n",
       "      <td>20.942857</td>\n",
       "      <td>223.6</td>\n",
       "      <td>2.050000</td>\n",
       "      <td>5884873</td>\n",
       "      <td>77268</td>\n",
       "      <td>17845.0</td>\n",
       "      <td>45903.93</td>\n",
       "      <td>1</td>\n",
       "    </tr>\n",
       "    <tr>\n",
       "      <th>2007</th>\n",
       "      <td>Residencial</td>\n",
       "      <td>2024.0</td>\n",
       "      <td>5087500</td>\n",
       "      <td>2024-06-30</td>\n",
       "      <td>1</td>\n",
       "      <td>0</td>\n",
       "      <td>0</td>\n",
       "      <td>0</td>\n",
       "      <td>21.857143</td>\n",
       "      <td>70.3</td>\n",
       "      <td>2.393750</td>\n",
       "      <td>5884873</td>\n",
       "      <td>77268</td>\n",
       "      <td>17845.0</td>\n",
       "      <td>45903.93</td>\n",
       "      <td>1</td>\n",
       "    </tr>\n",
       "  </tbody>\n",
       "</table>\n",
       "<p>2008 rows × 16 columns</p>\n",
       "</div>"
      ],
      "text/plain": [
       "     Sector_Economic     año  consumo       fecha  findesemana  festivos  \\\n",
       "0        Residencial  2019.0  6713701  2019-01-01            0         1   \n",
       "1        Residencial  2019.0  7354663  2019-01-02            0         0   \n",
       "2        Residencial  2019.0  7619413  2019-01-03            0         0   \n",
       "3        Residencial  2019.0  7815514  2019-01-04            0         0   \n",
       "4        Residencial  2019.0  7527041  2019-01-05            1         0   \n",
       "...              ...     ...      ...         ...          ...       ...   \n",
       "2003     Residencial  2024.0  5404940  2024-06-26            0         0   \n",
       "2004     Residencial  2024.0  5326951  2024-06-27            0         0   \n",
       "2005     Residencial  2024.0  5490645  2024-06-28            0         0   \n",
       "2006     Residencial  2024.0  5137699  2024-06-29            1         0   \n",
       "2007     Residencial  2024.0  5087500  2024-06-30            1         0   \n",
       "\n",
       "      lectivos  COVID       tmed   prec  velmedia  poblacion    PIB  \\\n",
       "0            0      0   8.590909    0.0  1.417647    5628011  62490   \n",
       "1            0      0   6.617391    0.3  2.152941    5628011  62490   \n",
       "2            0      0   5.604348    0.1  1.676471    5628011  62490   \n",
       "3            0      0   5.004348    0.0  1.335294    5628011  63436   \n",
       "4            0      0   6.173913    0.0  2.247059    5628011  62490   \n",
       "...        ...    ...        ...    ...       ...        ...    ...   \n",
       "2003         0      0  22.623810    0.0  2.168750    5884873  77268   \n",
       "2004         0      0  23.776190    0.0  1.912500    5884873  77268   \n",
       "2005         0      0  24.452381   15.5  2.637500    5884873  77268   \n",
       "2006         0      0  20.942857  223.6  2.050000    5884873  77268   \n",
       "2007         0      0  21.857143   70.3  2.393750    5884873  77268   \n",
       "\n",
       "      Rentanetamediaporpersona  Rentanetamediaporhogar  bono_social  \n",
       "0                      14656.0                38386.00            0  \n",
       "1                      14656.0                38386.00            0  \n",
       "2                      14656.0                38386.00            0  \n",
       "3                      14656.0                38386.00            0  \n",
       "4                      14656.0                38386.00            0  \n",
       "...                        ...                     ...          ...  \n",
       "2003                   17845.0                45903.93            1  \n",
       "2004                   17845.0                45903.93            1  \n",
       "2005                   17845.0                45903.93            1  \n",
       "2006                   17845.0                45903.93            1  \n",
       "2007                   17845.0                45903.93            1  \n",
       "\n",
       "[2008 rows x 16 columns]"
      ]
     },
     "execution_count": 55,
     "metadata": {},
     "output_type": "execute_result"
    }
   ],
   "source": [
    "#Covid transofromar en niveles de restricciones\n",
    "df = pd.read_csv(r'C:/Users/minip/OneDrive - Universidad de Málaga/Documentos/4Geek/Proyecto final/AMH-proyecto-final/data/DF_modelos/df_residencial_total.csv')\n",
    "df"
   ]
  },
  {
   "cell_type": "code",
   "execution_count": 56,
   "metadata": {},
   "outputs": [],
   "source": [
    "df = df.drop(columns=['Sector_Economic','año','COVID','festivos','prec','velmedia','Rentanetamediaporpersona','Rentanetamediaporhogar','bono_social','poblacion','lectivos']) "
   ]
  },
  {
   "cell_type": "code",
   "execution_count": 57,
   "metadata": {},
   "outputs": [
    {
     "data": {
      "text/html": [
       "<div>\n",
       "<style scoped>\n",
       "    .dataframe tbody tr th:only-of-type {\n",
       "        vertical-align: middle;\n",
       "    }\n",
       "\n",
       "    .dataframe tbody tr th {\n",
       "        vertical-align: top;\n",
       "    }\n",
       "\n",
       "    .dataframe thead th {\n",
       "        text-align: right;\n",
       "    }\n",
       "</style>\n",
       "<table border=\"1\" class=\"dataframe\">\n",
       "  <thead>\n",
       "    <tr style=\"text-align: right;\">\n",
       "      <th></th>\n",
       "      <th>consumo</th>\n",
       "      <th>fecha</th>\n",
       "      <th>findesemana</th>\n",
       "      <th>tmed</th>\n",
       "      <th>PIB</th>\n",
       "    </tr>\n",
       "  </thead>\n",
       "  <tbody>\n",
       "    <tr>\n",
       "      <th>0</th>\n",
       "      <td>6713701</td>\n",
       "      <td>2019-01-01</td>\n",
       "      <td>0</td>\n",
       "      <td>8.590909</td>\n",
       "      <td>62490</td>\n",
       "    </tr>\n",
       "    <tr>\n",
       "      <th>1</th>\n",
       "      <td>7354663</td>\n",
       "      <td>2019-01-02</td>\n",
       "      <td>0</td>\n",
       "      <td>6.617391</td>\n",
       "      <td>62490</td>\n",
       "    </tr>\n",
       "    <tr>\n",
       "      <th>2</th>\n",
       "      <td>7619413</td>\n",
       "      <td>2019-01-03</td>\n",
       "      <td>0</td>\n",
       "      <td>5.604348</td>\n",
       "      <td>62490</td>\n",
       "    </tr>\n",
       "    <tr>\n",
       "      <th>3</th>\n",
       "      <td>7815514</td>\n",
       "      <td>2019-01-04</td>\n",
       "      <td>0</td>\n",
       "      <td>5.004348</td>\n",
       "      <td>63436</td>\n",
       "    </tr>\n",
       "    <tr>\n",
       "      <th>4</th>\n",
       "      <td>7527041</td>\n",
       "      <td>2019-01-05</td>\n",
       "      <td>1</td>\n",
       "      <td>6.173913</td>\n",
       "      <td>62490</td>\n",
       "    </tr>\n",
       "    <tr>\n",
       "      <th>...</th>\n",
       "      <td>...</td>\n",
       "      <td>...</td>\n",
       "      <td>...</td>\n",
       "      <td>...</td>\n",
       "      <td>...</td>\n",
       "    </tr>\n",
       "    <tr>\n",
       "      <th>2003</th>\n",
       "      <td>5404940</td>\n",
       "      <td>2024-06-26</td>\n",
       "      <td>0</td>\n",
       "      <td>22.623810</td>\n",
       "      <td>77268</td>\n",
       "    </tr>\n",
       "    <tr>\n",
       "      <th>2004</th>\n",
       "      <td>5326951</td>\n",
       "      <td>2024-06-27</td>\n",
       "      <td>0</td>\n",
       "      <td>23.776190</td>\n",
       "      <td>77268</td>\n",
       "    </tr>\n",
       "    <tr>\n",
       "      <th>2005</th>\n",
       "      <td>5490645</td>\n",
       "      <td>2024-06-28</td>\n",
       "      <td>0</td>\n",
       "      <td>24.452381</td>\n",
       "      <td>77268</td>\n",
       "    </tr>\n",
       "    <tr>\n",
       "      <th>2006</th>\n",
       "      <td>5137699</td>\n",
       "      <td>2024-06-29</td>\n",
       "      <td>1</td>\n",
       "      <td>20.942857</td>\n",
       "      <td>77268</td>\n",
       "    </tr>\n",
       "    <tr>\n",
       "      <th>2007</th>\n",
       "      <td>5087500</td>\n",
       "      <td>2024-06-30</td>\n",
       "      <td>1</td>\n",
       "      <td>21.857143</td>\n",
       "      <td>77268</td>\n",
       "    </tr>\n",
       "  </tbody>\n",
       "</table>\n",
       "<p>2008 rows × 5 columns</p>\n",
       "</div>"
      ],
      "text/plain": [
       "      consumo       fecha  findesemana       tmed    PIB\n",
       "0     6713701  2019-01-01            0   8.590909  62490\n",
       "1     7354663  2019-01-02            0   6.617391  62490\n",
       "2     7619413  2019-01-03            0   5.604348  62490\n",
       "3     7815514  2019-01-04            0   5.004348  63436\n",
       "4     7527041  2019-01-05            1   6.173913  62490\n",
       "...       ...         ...          ...        ...    ...\n",
       "2003  5404940  2024-06-26            0  22.623810  77268\n",
       "2004  5326951  2024-06-27            0  23.776190  77268\n",
       "2005  5490645  2024-06-28            0  24.452381  77268\n",
       "2006  5137699  2024-06-29            1  20.942857  77268\n",
       "2007  5087500  2024-06-30            1  21.857143  77268\n",
       "\n",
       "[2008 rows x 5 columns]"
      ]
     },
     "execution_count": 57,
     "metadata": {},
     "output_type": "execute_result"
    }
   ],
   "source": [
    "#Analizar los valores de df\n",
    "df"
   ]
  },
  {
   "cell_type": "code",
   "execution_count": 58,
   "metadata": {},
   "outputs": [
    {
     "data": {
      "text/html": [
       "<div>\n",
       "<style scoped>\n",
       "    .dataframe tbody tr th:only-of-type {\n",
       "        vertical-align: middle;\n",
       "    }\n",
       "\n",
       "    .dataframe tbody tr th {\n",
       "        vertical-align: top;\n",
       "    }\n",
       "\n",
       "    .dataframe thead th {\n",
       "        text-align: right;\n",
       "    }\n",
       "</style>\n",
       "<table border=\"1\" class=\"dataframe\">\n",
       "  <thead>\n",
       "    <tr style=\"text-align: right;\">\n",
       "      <th></th>\n",
       "      <th>consumo</th>\n",
       "      <th>fecha</th>\n",
       "      <th>findesemana</th>\n",
       "      <th>tmed</th>\n",
       "      <th>PIB</th>\n",
       "    </tr>\n",
       "  </thead>\n",
       "  <tbody>\n",
       "    <tr>\n",
       "      <th>0</th>\n",
       "      <td>6713701</td>\n",
       "      <td>2019-01-01</td>\n",
       "      <td>0</td>\n",
       "      <td>8.590909</td>\n",
       "      <td>62490</td>\n",
       "    </tr>\n",
       "    <tr>\n",
       "      <th>1</th>\n",
       "      <td>7354663</td>\n",
       "      <td>2019-01-02</td>\n",
       "      <td>0</td>\n",
       "      <td>6.617391</td>\n",
       "      <td>62490</td>\n",
       "    </tr>\n",
       "    <tr>\n",
       "      <th>2</th>\n",
       "      <td>7619413</td>\n",
       "      <td>2019-01-03</td>\n",
       "      <td>0</td>\n",
       "      <td>5.604348</td>\n",
       "      <td>62490</td>\n",
       "    </tr>\n",
       "    <tr>\n",
       "      <th>3</th>\n",
       "      <td>7815514</td>\n",
       "      <td>2019-01-04</td>\n",
       "      <td>0</td>\n",
       "      <td>5.004348</td>\n",
       "      <td>63436</td>\n",
       "    </tr>\n",
       "    <tr>\n",
       "      <th>4</th>\n",
       "      <td>7527041</td>\n",
       "      <td>2019-01-05</td>\n",
       "      <td>1</td>\n",
       "      <td>6.173913</td>\n",
       "      <td>62490</td>\n",
       "    </tr>\n",
       "    <tr>\n",
       "      <th>...</th>\n",
       "      <td>...</td>\n",
       "      <td>...</td>\n",
       "      <td>...</td>\n",
       "      <td>...</td>\n",
       "      <td>...</td>\n",
       "    </tr>\n",
       "    <tr>\n",
       "      <th>1943</th>\n",
       "      <td>4803374</td>\n",
       "      <td>2024-04-27</td>\n",
       "      <td>1</td>\n",
       "      <td>14.108696</td>\n",
       "      <td>77268</td>\n",
       "    </tr>\n",
       "    <tr>\n",
       "      <th>1944</th>\n",
       "      <td>5117827</td>\n",
       "      <td>2024-04-28</td>\n",
       "      <td>1</td>\n",
       "      <td>12.460870</td>\n",
       "      <td>77268</td>\n",
       "    </tr>\n",
       "    <tr>\n",
       "      <th>1945</th>\n",
       "      <td>5699315</td>\n",
       "      <td>2024-04-29</td>\n",
       "      <td>0</td>\n",
       "      <td>11.617391</td>\n",
       "      <td>77268</td>\n",
       "    </tr>\n",
       "    <tr>\n",
       "      <th>1946</th>\n",
       "      <td>5269315</td>\n",
       "      <td>2024-04-30</td>\n",
       "      <td>0</td>\n",
       "      <td>13.543478</td>\n",
       "      <td>77268</td>\n",
       "    </tr>\n",
       "    <tr>\n",
       "      <th>1947</th>\n",
       "      <td>5045877</td>\n",
       "      <td>2024-05-01</td>\n",
       "      <td>0</td>\n",
       "      <td>13.586957</td>\n",
       "      <td>77268</td>\n",
       "    </tr>\n",
       "  </tbody>\n",
       "</table>\n",
       "<p>1948 rows × 5 columns</p>\n",
       "</div>"
      ],
      "text/plain": [
       "      consumo       fecha  findesemana       tmed    PIB\n",
       "0     6713701  2019-01-01            0   8.590909  62490\n",
       "1     7354663  2019-01-02            0   6.617391  62490\n",
       "2     7619413  2019-01-03            0   5.604348  62490\n",
       "3     7815514  2019-01-04            0   5.004348  63436\n",
       "4     7527041  2019-01-05            1   6.173913  62490\n",
       "...       ...         ...          ...        ...    ...\n",
       "1943  4803374  2024-04-27            1  14.108696  77268\n",
       "1944  5117827  2024-04-28            1  12.460870  77268\n",
       "1945  5699315  2024-04-29            0  11.617391  77268\n",
       "1946  5269315  2024-04-30            0  13.543478  77268\n",
       "1947  5045877  2024-05-01            0  13.586957  77268\n",
       "\n",
       "[1948 rows x 5 columns]"
      ]
     },
     "execution_count": 58,
     "metadata": {},
     "output_type": "execute_result"
    }
   ],
   "source": [
    "#Eliminar consumos anomalos\n",
    "index_primera_menor_1000 = df[df['consumo'] < 200000].index.min()\n",
    "\n",
    "# Eliminar todas las filas desde ese índice en adelante\n",
    "if index_primera_menor_1000 is not None:\n",
    "    df = df.loc[:index_primera_menor_1000-1]\n",
    "\n",
    "df"
   ]
  },
  {
   "cell_type": "code",
   "execution_count": 59,
   "metadata": {},
   "outputs": [
    {
     "data": {
      "image/png": "[encoded data removed]",
      "text/plain": [
       "<Figure size 1000x600 with 1 Axes>"
      ]
     },
     "metadata": {},
     "output_type": "display_data"
    }
   ],
   "source": [
    "# Crear la gráfica temporal\n",
    "plt.figure(figsize=(10,6))\n",
    "plt.plot(df['fecha'], df['consumo'], label='Consumo', color='b')\n",
    "\n",
    "# Personalizar el gráfico\n",
    "plt.title('Evolución del consumo residencial', fontsize=14)\n",
    "plt.xlabel('Fecha', fontsize=12)\n",
    "plt.ylabel('Consumo', fontsize=12)\n",
    "plt.grid(True)\n",
    "plt.xticks(rotation=45)  # Rotar las etiquetas de fechas si son muchas\n",
    "plt.legend()\n",
    "\n",
    "# Mostrar la gráfica\n",
    "plt.tight_layout()\n",
    "plt.show()"
   ]
  },
  {
   "cell_type": "code",
   "execution_count": 60,
   "metadata": {},
   "outputs": [
    {
     "name": "stderr",
     "output_type": "stream",
     "text": [
      "C:\\Users\\minip\\AppData\\Local\\Temp\\ipykernel_4324\\137677528.py:2: SettingWithCopyWarning: \n",
      "A value is trying to be set on a copy of a slice from a DataFrame.\n",
      "Try using .loc[row_indexer,col_indexer] = value instead\n",
      "\n",
      "See the caveats in the documentation: https://pandas.pydata.org/pandas-docs/stable/user_guide/indexing.html#returning-a-view-versus-a-copy\n",
      "  df['t-1'] = df['consumo'].shift(1)\n"
     ]
    }
   ],
   "source": [
    "#Consumo previo 3 dias\n",
    "df['t-1'] = df['consumo'].shift(1)\n",
    "#df['t-2'] = df['consumo'].shift(2)\n",
    "#df['t-3'] = df['consumo'].shift(3)"
   ]
  },
  {
   "cell_type": "code",
   "execution_count": 61,
   "metadata": {},
   "outputs": [
    {
     "name": "stderr",
     "output_type": "stream",
     "text": [
      "C:\\Users\\minip\\AppData\\Local\\Temp\\ipykernel_4324\\3104895913.py:2: SettingWithCopyWarning: \n",
      "A value is trying to be set on a copy of a slice from a DataFrame\n",
      "\n",
      "See the caveats in the documentation: https://pandas.pydata.org/pandas-docs/stable/user_guide/indexing.html#returning-a-view-versus-a-copy\n",
      "  df.dropna(inplace=True)\n"
     ]
    },
    {
     "data": {
      "text/html": [
       "<div>\n",
       "<style scoped>\n",
       "    .dataframe tbody tr th:only-of-type {\n",
       "        vertical-align: middle;\n",
       "    }\n",
       "\n",
       "    .dataframe tbody tr th {\n",
       "        vertical-align: top;\n",
       "    }\n",
       "\n",
       "    .dataframe thead th {\n",
       "        text-align: right;\n",
       "    }\n",
       "</style>\n",
       "<table border=\"1\" class=\"dataframe\">\n",
       "  <thead>\n",
       "    <tr style=\"text-align: right;\">\n",
       "      <th></th>\n",
       "      <th>consumo</th>\n",
       "      <th>fecha</th>\n",
       "      <th>findesemana</th>\n",
       "      <th>tmed</th>\n",
       "      <th>PIB</th>\n",
       "      <th>t-1</th>\n",
       "    </tr>\n",
       "  </thead>\n",
       "  <tbody>\n",
       "    <tr>\n",
       "      <th>0</th>\n",
       "      <td>7354663</td>\n",
       "      <td>2019-01-02</td>\n",
       "      <td>0</td>\n",
       "      <td>6.617391</td>\n",
       "      <td>62490</td>\n",
       "      <td>6713701.0</td>\n",
       "    </tr>\n",
       "    <tr>\n",
       "      <th>1</th>\n",
       "      <td>7619413</td>\n",
       "      <td>2019-01-03</td>\n",
       "      <td>0</td>\n",
       "      <td>5.604348</td>\n",
       "      <td>62490</td>\n",
       "      <td>7354663.0</td>\n",
       "    </tr>\n",
       "    <tr>\n",
       "      <th>2</th>\n",
       "      <td>7815514</td>\n",
       "      <td>2019-01-04</td>\n",
       "      <td>0</td>\n",
       "      <td>5.004348</td>\n",
       "      <td>63436</td>\n",
       "      <td>7619413.0</td>\n",
       "    </tr>\n",
       "    <tr>\n",
       "      <th>3</th>\n",
       "      <td>7527041</td>\n",
       "      <td>2019-01-05</td>\n",
       "      <td>1</td>\n",
       "      <td>6.173913</td>\n",
       "      <td>62490</td>\n",
       "      <td>7815514.0</td>\n",
       "    </tr>\n",
       "    <tr>\n",
       "      <th>4</th>\n",
       "      <td>7308657</td>\n",
       "      <td>2019-01-06</td>\n",
       "      <td>1</td>\n",
       "      <td>9.130435</td>\n",
       "      <td>63436</td>\n",
       "      <td>7527041.0</td>\n",
       "    </tr>\n",
       "    <tr>\n",
       "      <th>...</th>\n",
       "      <td>...</td>\n",
       "      <td>...</td>\n",
       "      <td>...</td>\n",
       "      <td>...</td>\n",
       "      <td>...</td>\n",
       "      <td>...</td>\n",
       "    </tr>\n",
       "    <tr>\n",
       "      <th>1942</th>\n",
       "      <td>4803374</td>\n",
       "      <td>2024-04-27</td>\n",
       "      <td>1</td>\n",
       "      <td>14.108696</td>\n",
       "      <td>77268</td>\n",
       "      <td>5167220.0</td>\n",
       "    </tr>\n",
       "    <tr>\n",
       "      <th>1943</th>\n",
       "      <td>5117827</td>\n",
       "      <td>2024-04-28</td>\n",
       "      <td>1</td>\n",
       "      <td>12.460870</td>\n",
       "      <td>77268</td>\n",
       "      <td>4803374.0</td>\n",
       "    </tr>\n",
       "    <tr>\n",
       "      <th>1944</th>\n",
       "      <td>5699315</td>\n",
       "      <td>2024-04-29</td>\n",
       "      <td>0</td>\n",
       "      <td>11.617391</td>\n",
       "      <td>77268</td>\n",
       "      <td>5117827.0</td>\n",
       "    </tr>\n",
       "    <tr>\n",
       "      <th>1945</th>\n",
       "      <td>5269315</td>\n",
       "      <td>2024-04-30</td>\n",
       "      <td>0</td>\n",
       "      <td>13.543478</td>\n",
       "      <td>77268</td>\n",
       "      <td>5699315.0</td>\n",
       "    </tr>\n",
       "    <tr>\n",
       "      <th>1946</th>\n",
       "      <td>5045877</td>\n",
       "      <td>2024-05-01</td>\n",
       "      <td>0</td>\n",
       "      <td>13.586957</td>\n",
       "      <td>77268</td>\n",
       "      <td>5269315.0</td>\n",
       "    </tr>\n",
       "  </tbody>\n",
       "</table>\n",
       "<p>1947 rows × 6 columns</p>\n",
       "</div>"
      ],
      "text/plain": [
       "      consumo       fecha  findesemana       tmed    PIB        t-1\n",
       "0     7354663  2019-01-02            0   6.617391  62490  6713701.0\n",
       "1     7619413  2019-01-03            0   5.604348  62490  7354663.0\n",
       "2     7815514  2019-01-04            0   5.004348  63436  7619413.0\n",
       "3     7527041  2019-01-05            1   6.173913  62490  7815514.0\n",
       "4     7308657  2019-01-06            1   9.130435  63436  7527041.0\n",
       "...       ...         ...          ...        ...    ...        ...\n",
       "1942  4803374  2024-04-27            1  14.108696  77268  5167220.0\n",
       "1943  5117827  2024-04-28            1  12.460870  77268  4803374.0\n",
       "1944  5699315  2024-04-29            0  11.617391  77268  5117827.0\n",
       "1945  5269315  2024-04-30            0  13.543478  77268  5699315.0\n",
       "1946  5045877  2024-05-01            0  13.586957  77268  5269315.0\n",
       "\n",
       "[1947 rows x 6 columns]"
      ]
     },
     "execution_count": 61,
     "metadata": {},
     "output_type": "execute_result"
    }
   ],
   "source": [
    "#Eliminar filas con valores nulos\n",
    "df.dropna(inplace=True)\n",
    "df = df.reset_index(drop=True)\n",
    "df"
   ]
  },
  {
   "cell_type": "code",
   "execution_count": 57,
   "metadata": {},
   "outputs": [
    {
     "ename": "KeyError",
     "evalue": "'COVID'",
     "output_type": "error",
     "traceback": [
      "\u001b[1;31m---------------------------------------------------------------------------\u001b[0m",
      "\u001b[1;31mKeyError\u001b[0m                                  Traceback (most recent call last)",
      "File \u001b[1;32m~\\AppData\\Local\\Packages\\PythonSoftwareFoundation.Python.3.11_qbz5n2kfra8p0\\LocalCache\\local-packages\\Python311\\site-packages\\pandas\\core\\indexes\\base.py:3805\u001b[0m, in \u001b[0;36mIndex.get_loc\u001b[1;34m(self, key)\u001b[0m\n\u001b[0;32m   3804\u001b[0m \u001b[38;5;28;01mtry\u001b[39;00m:\n\u001b[1;32m-> 3805\u001b[0m     \u001b[38;5;28;01mreturn\u001b[39;00m \u001b[38;5;28;43mself\u001b[39;49m\u001b[38;5;241;43m.\u001b[39;49m\u001b[43m_engine\u001b[49m\u001b[38;5;241;43m.\u001b[39;49m\u001b[43mget_loc\u001b[49m\u001b[43m(\u001b[49m\u001b[43mcasted_key\u001b[49m\u001b[43m)\u001b[49m\n\u001b[0;32m   3806\u001b[0m \u001b[38;5;28;01mexcept\u001b[39;00m \u001b[38;5;167;01mKeyError\u001b[39;00m \u001b[38;5;28;01mas\u001b[39;00m err:\n",
      "File \u001b[1;32mindex.pyx:167\u001b[0m, in \u001b[0;36mpandas._libs.index.IndexEngine.get_loc\u001b[1;34m()\u001b[0m\n",
      "File \u001b[1;32mindex.pyx:196\u001b[0m, in \u001b[0;36mpandas._libs.index.IndexEngine.get_loc\u001b[1;34m()\u001b[0m\n",
      "File \u001b[1;32mpandas\\\\_libs\\\\hashtable_class_helper.pxi:7081\u001b[0m, in \u001b[0;36mpandas._libs.hashtable.PyObjectHashTable.get_item\u001b[1;34m()\u001b[0m\n",
      "File \u001b[1;32mpandas\\\\_libs\\\\hashtable_class_helper.pxi:7089\u001b[0m, in \u001b[0;36mpandas._libs.hashtable.PyObjectHashTable.get_item\u001b[1;34m()\u001b[0m\n",
      "\u001b[1;31mKeyError\u001b[0m: 'COVID'",
      "\nThe above exception was the direct cause of the following exception:\n",
      "\u001b[1;31mKeyError\u001b[0m                                  Traceback (most recent call last)",
      "Cell \u001b[1;32mIn[57], line 2\u001b[0m\n\u001b[0;32m      1\u001b[0m \u001b[38;5;66;03m#Formatear \u001b[39;00m\n\u001b[1;32m----> 2\u001b[0m \u001b[43mdf\u001b[49m\u001b[43m[\u001b[49m\u001b[38;5;124;43m'\u001b[39;49m\u001b[38;5;124;43mCOVID\u001b[39;49m\u001b[38;5;124;43m'\u001b[39;49m\u001b[43m]\u001b[49m\u001b[38;5;241m.\u001b[39mreplace(\u001b[38;5;241m2\u001b[39m,\u001b[38;5;241m3\u001b[39m,inplace\u001b[38;5;241m=\u001b[39m\u001b[38;5;28;01mTrue\u001b[39;00m)\n\u001b[0;32m      3\u001b[0m df[\u001b[38;5;124m'\u001b[39m\u001b[38;5;124mCOVID\u001b[39m\u001b[38;5;124m'\u001b[39m]\u001b[38;5;241m.\u001b[39mreplace(\u001b[38;5;241m1\u001b[39m,\u001b[38;5;241m2\u001b[39m,inplace\u001b[38;5;241m=\u001b[39m\u001b[38;5;28;01mTrue\u001b[39;00m)\n\u001b[0;32m      4\u001b[0m df[\u001b[38;5;124m'\u001b[39m\u001b[38;5;124mCOVID\u001b[39m\u001b[38;5;124m'\u001b[39m]\u001b[38;5;241m.\u001b[39mreplace(\u001b[38;5;241m3\u001b[39m,\u001b[38;5;241m1\u001b[39m,inplace\u001b[38;5;241m=\u001b[39m\u001b[38;5;28;01mTrue\u001b[39;00m)\n",
      "File \u001b[1;32m~\\AppData\\Local\\Packages\\PythonSoftwareFoundation.Python.3.11_qbz5n2kfra8p0\\LocalCache\\local-packages\\Python311\\site-packages\\pandas\\core\\frame.py:4102\u001b[0m, in \u001b[0;36mDataFrame.__getitem__\u001b[1;34m(self, key)\u001b[0m\n\u001b[0;32m   4100\u001b[0m \u001b[38;5;28;01mif\u001b[39;00m \u001b[38;5;28mself\u001b[39m\u001b[38;5;241m.\u001b[39mcolumns\u001b[38;5;241m.\u001b[39mnlevels \u001b[38;5;241m>\u001b[39m \u001b[38;5;241m1\u001b[39m:\n\u001b[0;32m   4101\u001b[0m     \u001b[38;5;28;01mreturn\u001b[39;00m \u001b[38;5;28mself\u001b[39m\u001b[38;5;241m.\u001b[39m_getitem_multilevel(key)\n\u001b[1;32m-> 4102\u001b[0m indexer \u001b[38;5;241m=\u001b[39m \u001b[38;5;28;43mself\u001b[39;49m\u001b[38;5;241;43m.\u001b[39;49m\u001b[43mcolumns\u001b[49m\u001b[38;5;241;43m.\u001b[39;49m\u001b[43mget_loc\u001b[49m\u001b[43m(\u001b[49m\u001b[43mkey\u001b[49m\u001b[43m)\u001b[49m\n\u001b[0;32m   4103\u001b[0m \u001b[38;5;28;01mif\u001b[39;00m is_integer(indexer):\n\u001b[0;32m   4104\u001b[0m     indexer \u001b[38;5;241m=\u001b[39m [indexer]\n",
      "File \u001b[1;32m~\\AppData\\Local\\Packages\\PythonSoftwareFoundation.Python.3.11_qbz5n2kfra8p0\\LocalCache\\local-packages\\Python311\\site-packages\\pandas\\core\\indexes\\base.py:3812\u001b[0m, in \u001b[0;36mIndex.get_loc\u001b[1;34m(self, key)\u001b[0m\n\u001b[0;32m   3807\u001b[0m     \u001b[38;5;28;01mif\u001b[39;00m \u001b[38;5;28misinstance\u001b[39m(casted_key, \u001b[38;5;28mslice\u001b[39m) \u001b[38;5;129;01mor\u001b[39;00m (\n\u001b[0;32m   3808\u001b[0m         \u001b[38;5;28misinstance\u001b[39m(casted_key, abc\u001b[38;5;241m.\u001b[39mIterable)\n\u001b[0;32m   3809\u001b[0m         \u001b[38;5;129;01mand\u001b[39;00m \u001b[38;5;28many\u001b[39m(\u001b[38;5;28misinstance\u001b[39m(x, \u001b[38;5;28mslice\u001b[39m) \u001b[38;5;28;01mfor\u001b[39;00m x \u001b[38;5;129;01min\u001b[39;00m casted_key)\n\u001b[0;32m   3810\u001b[0m     ):\n\u001b[0;32m   3811\u001b[0m         \u001b[38;5;28;01mraise\u001b[39;00m InvalidIndexError(key)\n\u001b[1;32m-> 3812\u001b[0m     \u001b[38;5;28;01mraise\u001b[39;00m \u001b[38;5;167;01mKeyError\u001b[39;00m(key) \u001b[38;5;28;01mfrom\u001b[39;00m \u001b[38;5;21;01merr\u001b[39;00m\n\u001b[0;32m   3813\u001b[0m \u001b[38;5;28;01mexcept\u001b[39;00m \u001b[38;5;167;01mTypeError\u001b[39;00m:\n\u001b[0;32m   3814\u001b[0m     \u001b[38;5;66;03m# If we have a listlike key, _check_indexing_error will raise\u001b[39;00m\n\u001b[0;32m   3815\u001b[0m     \u001b[38;5;66;03m#  InvalidIndexError. Otherwise we fall through and re-raise\u001b[39;00m\n\u001b[0;32m   3816\u001b[0m     \u001b[38;5;66;03m#  the TypeError.\u001b[39;00m\n\u001b[0;32m   3817\u001b[0m     \u001b[38;5;28mself\u001b[39m\u001b[38;5;241m.\u001b[39m_check_indexing_error(key)\n",
      "\u001b[1;31mKeyError\u001b[0m: 'COVID'"
     ]
    }
   ],
   "source": [
    "#Formatear \n",
    "df['COVID'].replace(2,3,inplace=True)\n",
    "df['COVID'].replace(1,2,inplace=True)\n",
    "df['COVID'].replace(3,1,inplace=True)"
   ]
  },
  {
   "cell_type": "code",
   "execution_count": 62,
   "metadata": {},
   "outputs": [
    {
     "data": {
      "text/plain": [
       "consumo          int64\n",
       "fecha           object\n",
       "findesemana      int64\n",
       "tmed           float64\n",
       "PIB              int64\n",
       "t-1            float64\n",
       "dtype: object"
      ]
     },
     "execution_count": 62,
     "metadata": {},
     "output_type": "execute_result"
    }
   ],
   "source": [
    "df.dtypes"
   ]
  },
  {
   "cell_type": "code",
   "execution_count": 63,
   "metadata": {},
   "outputs": [
    {
     "data": {
      "text/plain": [
       "consumo        1917\n",
       "fecha          1947\n",
       "findesemana       2\n",
       "tmed           1847\n",
       "PIB              22\n",
       "t-1            1917\n",
       "dtype: int64"
      ]
     },
     "execution_count": 63,
     "metadata": {},
     "output_type": "execute_result"
    }
   ],
   "source": [
    "df.nunique()"
   ]
  },
  {
   "cell_type": "code",
   "execution_count": 64,
   "metadata": {},
   "outputs": [
    {
     "data": {
      "text/plain": [
       "(1947, 6)"
      ]
     },
     "execution_count": 64,
     "metadata": {},
     "output_type": "execute_result"
    }
   ],
   "source": [
    "df.shape"
   ]
  },
  {
   "cell_type": "code",
   "execution_count": 65,
   "metadata": {},
   "outputs": [],
   "source": [
    "# Asegúrate de que la columna de fecha está en formato datetime\n",
    "# Convertir la columna de fecha a formato datetime\n",
    "df['fecha'] = pd.to_datetime(df['fecha'])\n",
    "df['fecha'] = pd.to_datetime(df['fecha'], format='%Y')  # Ajusta el formato según tus datos\n",
    "\n",
    "# Convertir la columna de fecha a timestamp\n",
    "df['fecha'] = df['fecha'].astype(np.int64) // 10**9  # Convertir a dias"
   ]
  },
  {
   "cell_type": "code",
   "execution_count": 66,
   "metadata": {},
   "outputs": [
    {
     "data": {
      "text/html": [
       "<div>\n",
       "<style scoped>\n",
       "    .dataframe tbody tr th:only-of-type {\n",
       "        vertical-align: middle;\n",
       "    }\n",
       "\n",
       "    .dataframe tbody tr th {\n",
       "        vertical-align: top;\n",
       "    }\n",
       "\n",
       "    .dataframe thead th {\n",
       "        text-align: right;\n",
       "    }\n",
       "</style>\n",
       "<table border=\"1\" class=\"dataframe\">\n",
       "  <thead>\n",
       "    <tr style=\"text-align: right;\">\n",
       "      <th></th>\n",
       "      <th>consumo</th>\n",
       "      <th>fecha</th>\n",
       "      <th>findesemana</th>\n",
       "      <th>tmed</th>\n",
       "      <th>PIB</th>\n",
       "      <th>t-1</th>\n",
       "    </tr>\n",
       "  </thead>\n",
       "  <tbody>\n",
       "    <tr>\n",
       "      <th>0</th>\n",
       "      <td>7354663</td>\n",
       "      <td>1546387200</td>\n",
       "      <td>0</td>\n",
       "      <td>6.617391</td>\n",
       "      <td>62490</td>\n",
       "      <td>6713701.0</td>\n",
       "    </tr>\n",
       "    <tr>\n",
       "      <th>1</th>\n",
       "      <td>7619413</td>\n",
       "      <td>1546473600</td>\n",
       "      <td>0</td>\n",
       "      <td>5.604348</td>\n",
       "      <td>62490</td>\n",
       "      <td>7354663.0</td>\n",
       "    </tr>\n",
       "    <tr>\n",
       "      <th>2</th>\n",
       "      <td>7815514</td>\n",
       "      <td>1546560000</td>\n",
       "      <td>0</td>\n",
       "      <td>5.004348</td>\n",
       "      <td>63436</td>\n",
       "      <td>7619413.0</td>\n",
       "    </tr>\n",
       "    <tr>\n",
       "      <th>3</th>\n",
       "      <td>7527041</td>\n",
       "      <td>1546646400</td>\n",
       "      <td>1</td>\n",
       "      <td>6.173913</td>\n",
       "      <td>62490</td>\n",
       "      <td>7815514.0</td>\n",
       "    </tr>\n",
       "    <tr>\n",
       "      <th>4</th>\n",
       "      <td>7308657</td>\n",
       "      <td>1546732800</td>\n",
       "      <td>1</td>\n",
       "      <td>9.130435</td>\n",
       "      <td>63436</td>\n",
       "      <td>7527041.0</td>\n",
       "    </tr>\n",
       "    <tr>\n",
       "      <th>...</th>\n",
       "      <td>...</td>\n",
       "      <td>...</td>\n",
       "      <td>...</td>\n",
       "      <td>...</td>\n",
       "      <td>...</td>\n",
       "      <td>...</td>\n",
       "    </tr>\n",
       "    <tr>\n",
       "      <th>1942</th>\n",
       "      <td>4803374</td>\n",
       "      <td>1714176000</td>\n",
       "      <td>1</td>\n",
       "      <td>14.108696</td>\n",
       "      <td>77268</td>\n",
       "      <td>5167220.0</td>\n",
       "    </tr>\n",
       "    <tr>\n",
       "      <th>1943</th>\n",
       "      <td>5117827</td>\n",
       "      <td>1714262400</td>\n",
       "      <td>1</td>\n",
       "      <td>12.460870</td>\n",
       "      <td>77268</td>\n",
       "      <td>4803374.0</td>\n",
       "    </tr>\n",
       "    <tr>\n",
       "      <th>1944</th>\n",
       "      <td>5699315</td>\n",
       "      <td>1714348800</td>\n",
       "      <td>0</td>\n",
       "      <td>11.617391</td>\n",
       "      <td>77268</td>\n",
       "      <td>5117827.0</td>\n",
       "    </tr>\n",
       "    <tr>\n",
       "      <th>1945</th>\n",
       "      <td>5269315</td>\n",
       "      <td>1714435200</td>\n",
       "      <td>0</td>\n",
       "      <td>13.543478</td>\n",
       "      <td>77268</td>\n",
       "      <td>5699315.0</td>\n",
       "    </tr>\n",
       "    <tr>\n",
       "      <th>1946</th>\n",
       "      <td>5045877</td>\n",
       "      <td>1714521600</td>\n",
       "      <td>0</td>\n",
       "      <td>13.586957</td>\n",
       "      <td>77268</td>\n",
       "      <td>5269315.0</td>\n",
       "    </tr>\n",
       "  </tbody>\n",
       "</table>\n",
       "<p>1947 rows × 6 columns</p>\n",
       "</div>"
      ],
      "text/plain": [
       "      consumo       fecha  findesemana       tmed    PIB        t-1\n",
       "0     7354663  1546387200            0   6.617391  62490  6713701.0\n",
       "1     7619413  1546473600            0   5.604348  62490  7354663.0\n",
       "2     7815514  1546560000            0   5.004348  63436  7619413.0\n",
       "3     7527041  1546646400            1   6.173913  62490  7815514.0\n",
       "4     7308657  1546732800            1   9.130435  63436  7527041.0\n",
       "...       ...         ...          ...        ...    ...        ...\n",
       "1942  4803374  1714176000            1  14.108696  77268  5167220.0\n",
       "1943  5117827  1714262400            1  12.460870  77268  4803374.0\n",
       "1944  5699315  1714348800            0  11.617391  77268  5117827.0\n",
       "1945  5269315  1714435200            0  13.543478  77268  5699315.0\n",
       "1946  5045877  1714521600            0  13.586957  77268  5269315.0\n",
       "\n",
       "[1947 rows x 6 columns]"
      ]
     },
     "execution_count": 66,
     "metadata": {},
     "output_type": "execute_result"
    }
   ],
   "source": [
    "df"
   ]
  },
  {
   "cell_type": "markdown",
   "metadata": {},
   "source": [
    "## III. Analisis de variables potenciales"
   ]
  },
  {
   "cell_type": "code",
   "execution_count": 63,
   "metadata": {},
   "outputs": [],
   "source": [
    "# Definir características (X) y objetivo (y)\n",
    "X = df.drop(columns=['consumo'])  \n",
    "y = df['consumo']  \n",
    "\n",
    "test_size_percentage = 0.09\n",
    "split_index = int(len(X) * (1 - test_size_percentage))\n",
    "\n",
    "# Dividir en conjunto de entrenamiento (primera parte) y prueba (última parte)\n",
    "X_train = X[:split_index]\n",
    "X_test = X[split_index:]\n",
    "\n",
    "y_train = y[:split_index]\n",
    "y_test = y[split_index:]"
   ]
  },
  {
   "cell_type": "code",
   "execution_count": 64,
   "metadata": {},
   "outputs": [],
   "source": [
    "#Escalar las variables\n",
    "scaler = StandardScaler()\n",
    "X_train_scaled = scaler.fit_transform(X_train)\n",
    "X_test_scaled = scaler.transform(X_test)"
   ]
  },
  {
   "cell_type": "code",
   "execution_count": 65,
   "metadata": {},
   "outputs": [
    {
     "name": "stdout",
     "output_type": "stream",
     "text": [
      "RMSE: 1153578.852653748\n",
      "      Variable  Importancia\n",
      "4          t-1    86.215355\n",
      "2         tmed     5.467726\n",
      "1  findesemana     4.123895\n",
      "3          PIB     2.208431\n",
      "0        fecha     1.984598\n"
     ]
    },
    {
     "name": "stderr",
     "output_type": "stream",
     "text": [
      "C:\\Users\\minip\\AppData\\Local\\Packages\\PythonSoftwareFoundation.Python.3.11_qbz5n2kfra8p0\\LocalCache\\local-packages\\Python311\\site-packages\\sklearn\\metrics\\_regression.py:492: FutureWarning: 'squared' is deprecated in version 1.4 and will be removed in 1.6. To calculate the root mean squared error, use the function'root_mean_squared_error'.\n",
      "  warnings.warn(\n"
     ]
    }
   ],
   "source": [
    "# Modelo para seleccion de caracteristicas importantes\n",
    "# Definir el modelo XGBoost\n",
    "model_xgb = xgb.XGBRegressor(objective ='reg:squarederror', n_estimators=100, learning_rate=0.1)\n",
    "\n",
    "# Entrenar el modelo con los datos de entrenamiento\n",
    "model_xgb.fit(X_train_scaled, y_train)\n",
    "\n",
    "# Realizar predicciones con los datos de prueba\n",
    "y_pred = model_xgb.predict(X_test_scaled)\n",
    "\n",
    "# Calcular el error cuadrático medio (RMSE) como métrica de evaluación\n",
    "rmse = mean_squared_error(y_test, y_pred, squared=False)\n",
    "print(f'RMSE: {rmse}')\n",
    "\n",
    "# Obtener la importancia de las características\n",
    "importancia = model_xgb.feature_importances_\n",
    "\n",
    "# Crear un DataFrame para visualizar las importancias\n",
    "feature_importance = pd.DataFrame({'Variable': X.columns, 'Importancia': importancia*100})\n",
    "feature_importance = feature_importance.sort_values(by='Importancia', ascending=False)\n",
    "# Mostrar las variables ordenadas por importancia\n",
    "print(feature_importance)"
   ]
  },
  {
   "cell_type": "code",
   "execution_count": 67,
   "metadata": {},
   "outputs": [
    {
     "data": {
      "text/html": [
       "<div>\n",
       "<style scoped>\n",
       "    .dataframe tbody tr th:only-of-type {\n",
       "        vertical-align: middle;\n",
       "    }\n",
       "\n",
       "    .dataframe tbody tr th {\n",
       "        vertical-align: top;\n",
       "    }\n",
       "\n",
       "    .dataframe thead th {\n",
       "        text-align: right;\n",
       "    }\n",
       "</style>\n",
       "<table border=\"1\" class=\"dataframe\">\n",
       "  <thead>\n",
       "    <tr style=\"text-align: right;\">\n",
       "      <th></th>\n",
       "      <th>findesemana</th>\n",
       "      <th>t-1</th>\n",
       "      <th>tmed</th>\n",
       "      <th>fecha</th>\n",
       "      <th>PIB</th>\n",
       "    </tr>\n",
       "  </thead>\n",
       "  <tbody>\n",
       "    <tr>\n",
       "      <th>0</th>\n",
       "      <td>-0.632456</td>\n",
       "      <td>0.658950</td>\n",
       "      <td>-1.391208</td>\n",
       "      <td>-1.731073</td>\n",
       "      <td>-0.324258</td>\n",
       "    </tr>\n",
       "    <tr>\n",
       "      <th>1</th>\n",
       "      <td>-0.632456</td>\n",
       "      <td>1.325940</td>\n",
       "      <td>-1.545792</td>\n",
       "      <td>-1.729117</td>\n",
       "      <td>-0.324258</td>\n",
       "    </tr>\n",
       "    <tr>\n",
       "      <th>2</th>\n",
       "      <td>-0.632456</td>\n",
       "      <td>1.601442</td>\n",
       "      <td>-1.637348</td>\n",
       "      <td>-1.727161</td>\n",
       "      <td>-0.166267</td>\n",
       "    </tr>\n",
       "    <tr>\n",
       "      <th>3</th>\n",
       "      <td>1.581139</td>\n",
       "      <td>1.805506</td>\n",
       "      <td>-1.458879</td>\n",
       "      <td>-1.725205</td>\n",
       "      <td>-0.324258</td>\n",
       "    </tr>\n",
       "    <tr>\n",
       "      <th>4</th>\n",
       "      <td>1.581139</td>\n",
       "      <td>1.505318</td>\n",
       "      <td>-1.007733</td>\n",
       "      <td>-1.723249</td>\n",
       "      <td>-0.166267</td>\n",
       "    </tr>\n",
       "    <tr>\n",
       "      <th>...</th>\n",
       "      <td>...</td>\n",
       "      <td>...</td>\n",
       "      <td>...</td>\n",
       "      <td>...</td>\n",
       "      <td>...</td>\n",
       "    </tr>\n",
       "    <tr>\n",
       "      <th>1766</th>\n",
       "      <td>-0.632456</td>\n",
       "      <td>-0.868453</td>\n",
       "      <td>-0.601038</td>\n",
       "      <td>1.723249</td>\n",
       "      <td>1.695217</td>\n",
       "    </tr>\n",
       "    <tr>\n",
       "      <th>1767</th>\n",
       "      <td>1.581139</td>\n",
       "      <td>-0.821020</td>\n",
       "      <td>-0.363522</td>\n",
       "      <td>1.725205</td>\n",
       "      <td>1.695217</td>\n",
       "    </tr>\n",
       "    <tr>\n",
       "      <th>1768</th>\n",
       "      <td>1.581139</td>\n",
       "      <td>-0.944644</td>\n",
       "      <td>-0.266659</td>\n",
       "      <td>1.727161</td>\n",
       "      <td>1.695217</td>\n",
       "    </tr>\n",
       "    <tr>\n",
       "      <th>1769</th>\n",
       "      <td>-0.632456</td>\n",
       "      <td>-0.876637</td>\n",
       "      <td>-0.523414</td>\n",
       "      <td>1.729117</td>\n",
       "      <td>1.695217</td>\n",
       "    </tr>\n",
       "    <tr>\n",
       "      <th>1770</th>\n",
       "      <td>-0.632456</td>\n",
       "      <td>-0.674570</td>\n",
       "      <td>-0.884995</td>\n",
       "      <td>1.731073</td>\n",
       "      <td>1.695217</td>\n",
       "    </tr>\n",
       "  </tbody>\n",
       "</table>\n",
       "<p>1771 rows × 5 columns</p>\n",
       "</div>"
      ],
      "text/plain": [
       "      findesemana       t-1      tmed     fecha       PIB\n",
       "0       -0.632456  0.658950 -1.391208 -1.731073 -0.324258\n",
       "1       -0.632456  1.325940 -1.545792 -1.729117 -0.324258\n",
       "2       -0.632456  1.601442 -1.637348 -1.727161 -0.166267\n",
       "3        1.581139  1.805506 -1.458879 -1.725205 -0.324258\n",
       "4        1.581139  1.505318 -1.007733 -1.723249 -0.166267\n",
       "...           ...       ...       ...       ...       ...\n",
       "1766    -0.632456 -0.868453 -0.601038  1.723249  1.695217\n",
       "1767     1.581139 -0.821020 -0.363522  1.725205  1.695217\n",
       "1768     1.581139 -0.944644 -0.266659  1.727161  1.695217\n",
       "1769    -0.632456 -0.876637 -0.523414  1.729117  1.695217\n",
       "1770    -0.632456 -0.674570 -0.884995  1.731073  1.695217\n",
       "\n",
       "[1771 rows x 5 columns]"
      ]
     },
     "execution_count": 67,
     "metadata": {},
     "output_type": "execute_result"
    }
   ],
   "source": [
    "# convertir de array a pandas para el VIF\n",
    "df_X_train_scaled = pd.DataFrame(X_train_scaled, columns=X_train.columns)\n",
    "df_X_train_selected = df_X_train_scaled[['findesemana', 't-1', 'tmed', 'fecha','PIB']]\n",
    "df_X_train_selected"
   ]
  },
  {
   "cell_type": "code",
   "execution_count": 68,
   "metadata": {},
   "outputs": [
    {
     "data": {
      "text/plain": [
       "findesemana     1.030767\n",
       "t-1             2.189669\n",
       "tmed            1.805922\n",
       "fecha          16.653785\n",
       "PIB            15.266375\n",
       "dtype: float64"
      ]
     },
     "execution_count": 68,
     "metadata": {},
     "output_type": "execute_result"
    }
   ],
   "source": [
    "#Test VIF\n",
    "vif = pd.Series([variance_inflation_factor(df_X_train_selected.corr().values, i) for i in range(df_X_train_selected.corr().shape[1])], index=df_X_train_selected.columns)\n",
    "vif"
   ]
  },
  {
   "cell_type": "code",
   "execution_count": 69,
   "metadata": {},
   "outputs": [
    {
     "name": "stdout",
     "output_type": "stream",
     "text": [
      "              consumo         fecha   findesemana      tmed       PIB  \\\n",
      "consumo      1.000000 -2.800294e-01 -1.508837e-01 -0.302511 -0.212102   \n",
      "fecha       -0.280029  1.000000e+00 -7.275926e-16  0.038807  0.823911   \n",
      "findesemana -0.150884 -7.275926e-16  1.000000e+00  0.005142 -0.004563   \n",
      "tmed        -0.302511  3.880673e-02  5.142396e-03  1.000000  0.008235   \n",
      "PIB         -0.212102  8.239115e-01 -4.562689e-03  0.008235  1.000000   \n",
      "t-1          0.897264 -2.798032e-01 -8.115616e-02 -0.294749 -0.213318   \n",
      "\n",
      "                  t-1  \n",
      "consumo      0.897264  \n",
      "fecha       -0.279803  \n",
      "findesemana -0.081156  \n",
      "tmed        -0.294749  \n",
      "PIB         -0.213318  \n",
      "t-1          1.000000  \n"
     ]
    }
   ],
   "source": [
    "# Correlacion individual\n",
    "correlation_matrix = df.corr()\n",
    "# Mostrar la matriz de correlación\n",
    "print(correlation_matrix)"
   ]
  },
  {
   "cell_type": "markdown",
   "metadata": {},
   "source": [
    "## IV. Modelo LSTM"
   ]
  },
  {
   "cell_type": "markdown",
   "metadata": {},
   "source": [
    "### IV.I. Preparar datos"
   ]
  },
  {
   "cell_type": "code",
   "execution_count": 67,
   "metadata": {},
   "outputs": [],
   "source": [
    "#Ordenar los datos cronologicamnte\n",
    "df = df.sort_values(by='fecha')"
   ]
  },
  {
   "cell_type": "code",
   "execution_count": 80,
   "metadata": {},
   "outputs": [],
   "source": [
    "# Definir características (X) y objetivo (y)\n",
    "X = df.drop(columns=['consumo','fecha'])  \n",
    "y = df['consumo']"
   ]
  },
  {
   "cell_type": "code",
   "execution_count": 81,
   "metadata": {},
   "outputs": [],
   "source": [
    "# Escalar los datos con MinMaxScaler (LSTM es sensible a la escala de los datos)\n",
    "scaler_X = MinMaxScaler()\n",
    "X_scaled = scaler_X.fit_transform(X)\n",
    "\n",
    "scaler_y = MinMaxScaler()\n",
    "y_scaled = scaler_y.fit_transform(y.values.reshape(-1, 1))"
   ]
  },
  {
   "cell_type": "code",
   "execution_count": 82,
   "metadata": {},
   "outputs": [],
   "source": [
    "# Dividir en conjunto de entrenamiento y prueba (manteniendo el orden temporal)\n",
    "train_size = int(len(X) * 0.9)\n",
    "X_train, X_test = X_scaled[:train_size], X_scaled[train_size:]\n",
    "y_train, y_test = y_scaled[:train_size], y_scaled[train_size:]"
   ]
  },
  {
   "cell_type": "code",
   "execution_count": 21,
   "metadata": {},
   "outputs": [
    {
     "data": {
      "text/plain": [
       "array([[0.        , 0.17305586, 0.47159152, 0.47750606],\n",
       "       [0.        , 0.13898399, 0.47159152, 0.52766622],\n",
       "       [0.        , 0.11880408, 0.5054171 , 0.54838492],\n",
       "       ...,\n",
       "       [0.        , 0.57753139, 0.90395824, 0.35787951],\n",
       "       [0.        , 0.65459524, 0.90395824, 0.35876022],\n",
       "       [0.        , 0.57799097, 0.90395824, 0.36837542]])"
      ]
     },
     "execution_count": 21,
     "metadata": {},
     "output_type": "execute_result"
    }
   ],
   "source": [
    "X_train"
   ]
  },
  {
   "cell_type": "code",
   "execution_count": 22,
   "metadata": {},
   "outputs": [
    {
     "data": {
      "text/plain": [
       "array([[0.00000000e+00, 5.09680107e-01, 9.03958236e-01, 3.61944918e-01],\n",
       "       [1.00000000e+00, 4.32908722e-01, 9.03958236e-01, 3.47572046e-01],\n",
       "       [1.00000000e+00, 4.13459971e-01, 9.03958236e-01, 3.26982154e-01],\n",
       "       [0.00000000e+00, 5.86743955e-01, 9.03958236e-01, 3.31753912e-01],\n",
       "       [0.00000000e+00, 4.88184119e-01, 9.03958236e-01, 3.53715112e-01],\n",
       "       [0.00000000e+00, 5.13774581e-01, 9.03958236e-01, 3.48779639e-01],\n",
       "       [0.00000000e+00, 5.92739434e-01, 9.03958236e-01, 3.46990826e-01],\n",
       "       [0.00000000e+00, 4.94910755e-01, 9.03958236e-01, 3.49165684e-01],\n",
       "       [1.00000000e+00, 4.94033368e-01, 9.03958236e-01, 3.42770784e-01],\n",
       "       [1.00000000e+00, 5.02953472e-01, 9.03958236e-01, 3.27924141e-01],\n",
       "       [0.00000000e+00, 4.69466525e-01, 9.03958236e-01, 3.32245370e-01],\n",
       "       [0.00000000e+00, 3.71365324e-01, 9.03958236e-01, 3.53806830e-01],\n",
       "       [0.00000000e+00, 4.05124792e-01, 9.03958236e-01, 3.36672873e-01],\n",
       "       [0.00000000e+00, 4.21063994e-01, 9.03958236e-01, 3.54402292e-01],\n",
       "       [0.00000000e+00, 3.47217233e-01, 9.03958236e-01, 3.62639689e-01],\n",
       "       [1.00000000e+00, 3.99568006e-01, 9.03958236e-01, 3.66206828e-01],\n",
       "       [1.00000000e+00, 4.20917763e-01, 9.03958236e-01, 3.56909901e-01],\n",
       "       [0.00000000e+00, 3.64326285e-01, 9.03958236e-01, 3.62024271e-01],\n",
       "       [0.00000000e+00, 2.84630276e-01, 9.03958236e-01, 3.77220413e-01],\n",
       "       [0.00000000e+00, 2.85068969e-01, 9.03958236e-01, 3.85977284e-01],\n",
       "       [0.00000000e+00, 3.20603153e-01, 9.03958236e-01, 3.95854256e-01],\n",
       "       [0.00000000e+00, 3.98544388e-01, 9.03958236e-01, 4.04265697e-01],\n",
       "       [1.00000000e+00, 3.93133833e-01, 9.03958236e-01, 3.91766782e-01],\n",
       "       [1.00000000e+00, 5.08510258e-01, 9.03958236e-01, 3.74270179e-01],\n",
       "       [0.00000000e+00, 5.11581113e-01, 9.03958236e-01, 3.71621707e-01],\n",
       "       [0.00000000e+00, 5.62323343e-01, 9.03958236e-01, 3.76006559e-01],\n",
       "       [0.00000000e+00, 4.33932341e-01, 9.03958236e-01, 3.67980928e-01],\n",
       "       [0.00000000e+00, 4.69612756e-01, 9.03958236e-01, 3.71852723e-01],\n",
       "       [0.00000000e+00, 4.04393636e-01, 9.03958236e-01, 3.67289913e-01],\n",
       "       [1.00000000e+00, 4.12728815e-01, 9.03958236e-01, 3.65204191e-01],\n",
       "       [1.00000000e+00, 4.41243901e-01, 9.03958236e-01, 3.52615280e-01],\n",
       "       [0.00000000e+00, 3.99275544e-01, 9.03958236e-01, 3.62092746e-01],\n",
       "       [0.00000000e+00, 3.52920251e-01, 9.03958236e-01, 3.83937969e-01],\n",
       "       [0.00000000e+00, 3.28792101e-01, 9.03958236e-01, 3.87476074e-01],\n",
       "       [0.00000000e+00, 2.55237803e-01, 9.03958236e-01, 3.94404142e-01],\n",
       "       [0.00000000e+00, 3.03201639e-01, 9.03958236e-01, 4.06682293e-01],\n",
       "       [1.00000000e+00, 2.97498622e-01, 9.03958236e-01, 4.05402233e-01],\n",
       "       [1.00000000e+00, 2.81998114e-01, 9.03958236e-01, 3.93315031e-01],\n",
       "       [0.00000000e+00, 2.74101629e-01, 9.03958236e-01, 4.09883264e-01],\n",
       "       [0.00000000e+00, 3.18555916e-01, 9.03958236e-01, 4.34138977e-01],\n",
       "       [0.00000000e+00, 2.92380530e-01, 9.03958236e-01, 4.22186065e-01],\n",
       "       [0.00000000e+00, 4.43583601e-01, 9.03958236e-01, 4.21875461e-01],\n",
       "       [0.00000000e+00, 3.47217233e-01, 9.03958236e-01, 3.81941695e-01],\n",
       "       [1.00000000e+00, 2.37690057e-01, 9.03958236e-01, 4.10161548e-01],\n",
       "       [1.00000000e+00, 1.70423701e-01, 9.03958236e-01, 4.11829218e-01],\n",
       "       [0.00000000e+00, 2.52313178e-01, 9.03958236e-01, 4.44553031e-01],\n",
       "       [0.00000000e+00, 1.94698082e-01, 9.03958236e-01, 4.62566526e-01],\n",
       "       [0.00000000e+00, 2.15901607e-01, 9.03958236e-01, 4.65142375e-01],\n",
       "       [0.00000000e+00, 2.24675480e-01, 9.03958236e-01, 4.43486380e-01],\n",
       "       [0.00000000e+00, 2.71615698e-01, 9.03958236e-01, 4.42685883e-01],\n",
       "       [1.00000000e+00, 2.65181525e-01, 9.03958236e-01, 4.08972502e-01],\n",
       "       [1.00000000e+00, 3.31570494e-01, 9.03958236e-01, 4.09896489e-01],\n",
       "       [0.00000000e+00, 3.69005684e-01, 9.03958236e-01, 4.26371987e-01],\n",
       "       [0.00000000e+00, 3.70600933e-01, 9.03958236e-01, 4.33050962e-01],\n",
       "       [0.00000000e+00, 3.11437115e-01, 9.03958236e-01, 4.22409100e-01],\n",
       "       [0.00000000e+00, 2.76733790e-01, 9.03958236e-01, 4.35169160e-01],\n",
       "       [0.00000000e+00, 2.70299617e-01, 9.03958236e-01, 4.47761828e-01],\n",
       "       [1.00000000e+00, 2.10384702e-01, 9.03958236e-01, 4.46441231e-01],\n",
       "       [1.00000000e+00, 2.16340301e-01, 9.03958236e-01, 4.46231501e-01],\n",
       "       [0.00000000e+00, 2.37543826e-01, 9.03958236e-01, 4.75229156e-01],\n",
       "       [0.00000000e+00, 2.67082531e-01, 9.03958236e-01, 5.05449117e-01],\n",
       "       [0.00000000e+00, 2.16925226e-01, 9.03958236e-01, 4.93701944e-01],\n",
       "       [0.00000000e+00, 2.41418953e-01, 9.03958236e-01, 5.05729749e-01],\n",
       "       [0.00000000e+00, 3.68919274e-01, 9.03958236e-01, 4.94332153e-01],\n",
       "       [1.00000000e+00, 2.51967541e-01, 9.03958236e-01, 4.51673692e-01],\n",
       "       [1.00000000e+00, 2.32246268e-01, 9.03958236e-01, 4.31290948e-01],\n",
       "       [0.00000000e+00, 2.69701399e-01, 9.03958236e-01, 4.50264820e-01],\n",
       "       [0.00000000e+00, 2.80097108e-01, 9.03958236e-01, 4.23019274e-01],\n",
       "       [0.00000000e+00, 2.75205010e-01, 9.03958236e-01, 4.32103653e-01],\n",
       "       [0.00000000e+00, 1.76140012e-01, 9.03958236e-01, 4.72670993e-01],\n",
       "       [0.00000000e+00, 2.18028607e-01, 9.03958236e-01, 4.67508886e-01],\n",
       "       [1.00000000e+00, 2.51909302e-01, 9.03958236e-01, 4.78914229e-01],\n",
       "       [1.00000000e+00, 2.60717991e-01, 9.03958236e-01, 4.51584556e-01],\n",
       "       [0.00000000e+00, 2.14818167e-01, 9.51263990e-01, 4.50032864e-01],\n",
       "       [0.00000000e+00, 2.12677874e-01, 9.51263990e-01, 4.48988986e-01],\n",
       "       [0.00000000e+00, 3.47669221e-01, 9.51263990e-01, 4.88814287e-01],\n",
       "       [0.00000000e+00, 3.05016236e-01, 1.00000000e+00, 4.60931881e-01],\n",
       "       [0.00000000e+00, 2.28185029e-01, 1.00000000e+00, 4.48685268e-01],\n",
       "       [1.00000000e+00, 1.97184012e-01, 9.51263990e-01, 4.68598936e-01],\n",
       "       [1.00000000e+00, 1.67206614e-01, 1.00000000e+00, 4.60979540e-01],\n",
       "       [0.00000000e+00, 1.11346292e-01, 1.00000000e+00, 5.16349855e-01],\n",
       "       [0.00000000e+00, 8.72181427e-02, 1.00000000e+00, 5.65432249e-01],\n",
       "       [0.00000000e+00, 1.11784986e-01, 1.00000000e+00, 5.77238037e-01],\n",
       "       [0.00000000e+00, 1.49366407e-01, 1.00000000e+00, 5.95102842e-01],\n",
       "       [0.00000000e+00, 1.20412627e-01, 1.00000000e+00, 5.77091382e-01],\n",
       "       [1.00000000e+00, 1.40592534e-01, 1.00000000e+00, 5.68236611e-01],\n",
       "       [1.00000000e+00, 2.39737294e-01, 9.51263990e-01, 5.41807762e-01],\n",
       "       [0.00000000e+00, 2.62841825e-01, 9.51263990e-01, 5.19958783e-01],\n",
       "       [0.00000000e+00, 2.90771986e-01, 1.00000000e+00, 5.06936872e-01],\n",
       "       [0.00000000e+00, 3.71784077e-01, 9.51263990e-01, 4.82381354e-01],\n",
       "       [0.00000000e+00, 4.08634341e-01, 1.00000000e+00, 4.55537192e-01],\n",
       "       [0.00000000e+00, 2.15462914e-01, 1.00000000e+00, 4.27027473e-01],\n",
       "       [1.00000000e+00, 1.47904095e-01, 1.00000000e+00, 4.83268170e-01],\n",
       "       [1.00000000e+00, 1.55946811e-01, 9.51263990e-01, 4.74142784e-01],\n",
       "       [0.00000000e+00, 1.85924209e-01, 9.51263990e-01, 4.91331286e-01],\n",
       "       [0.00000000e+00, 2.64450369e-01, 1.00000000e+00, 5.10924959e-01],\n",
       "       [0.00000000e+00, 3.77487094e-01, 1.00000000e+00, 4.92956306e-01],\n",
       "       [0.00000000e+00, 3.93426296e-01, 9.51263990e-01, 4.65063883e-01],\n",
       "       [0.00000000e+00, 4.09073035e-01, 1.00000000e+00, 4.37045074e-01],\n",
       "       [1.00000000e+00, 3.54821256e-01, 1.00000000e+00, 4.02989237e-01],\n",
       "       [1.00000000e+00, 2.98814703e-01, 9.51263990e-01, 3.94144170e-01],\n",
       "       [0.00000000e+00, 2.61964438e-01, 1.00000000e+00, 4.21448018e-01],\n",
       "       [0.00000000e+00, 2.83021732e-01, 9.51263990e-01, 4.49819456e-01],\n",
       "       [0.00000000e+00, 2.71177004e-01, 9.51263990e-01, 4.34805341e-01],\n",
       "       [0.00000000e+00, 2.86677513e-01, 9.51263990e-01, 4.21336109e-01],\n",
       "       [0.00000000e+00, 2.88286056e-01, 1.00000000e+00, 4.37045074e-01],\n",
       "       [1.00000000e+00, 3.35080043e-01, 1.00000000e+00, 4.02989237e-01],\n",
       "       [1.00000000e+00, 3.91232827e-01, 1.00000000e+00, 3.94144170e-01],\n",
       "       [0.00000000e+00, 3.92548908e-01, 1.00000000e+00, 4.21448018e-01],\n",
       "       [0.00000000e+00, 2.94281535e-01, 1.00000000e+00, 4.49819456e-01],\n",
       "       [0.00000000e+00, 3.07003651e-01, 1.00000000e+00, 4.34805341e-01],\n",
       "       [0.00000000e+00, 3.33179037e-01, 1.00000000e+00, 4.21336109e-01],\n",
       "       [0.00000000e+00, 3.24112702e-01, 1.00000000e+00, 4.37045074e-01],\n",
       "       [1.00000000e+00, 2.54360415e-01, 1.00000000e+00, 4.02989237e-01],\n",
       "       [1.00000000e+00, 2.45294080e-01, 1.00000000e+00, 3.94144170e-01],\n",
       "       [0.00000000e+00, 2.89163443e-01, 9.51263990e-01, 4.21448018e-01],\n",
       "       [0.00000000e+00, 3.11975512e-01, 1.00000000e+00, 4.49819456e-01],\n",
       "       [0.00000000e+00, 3.76755938e-01, 1.00000000e+00, 4.34805341e-01],\n",
       "       [0.00000000e+00, 4.00884087e-01, 9.51263990e-01, 4.21336109e-01],\n",
       "       [0.00000000e+00, 3.17970991e-01, 1.00000000e+00, 4.37045074e-01],\n",
       "       [1.00000000e+00, 3.64180054e-01, 9.51263990e-01, 4.02989237e-01],\n",
       "       [1.00000000e+00, 3.33032806e-01, 9.51263990e-01, 3.94144170e-01],\n",
       "       [0.00000000e+00, 4.08973332e-01, 9.51263990e-01, 4.21448018e-01],\n",
       "       [0.00000000e+00, 3.49962392e-01, 9.51263990e-01, 4.49819456e-01],\n",
       "       [0.00000000e+00, 3.21334309e-01, 1.00000000e+00, 4.34805341e-01],\n",
       "       [0.00000000e+00, 3.85822273e-01, 1.00000000e+00, 4.21336109e-01],\n",
       "       [0.00000000e+00, 2.45147849e-01, 9.51263990e-01, 4.37045074e-01],\n",
       "       [1.00000000e+00, 2.07127735e-01, 1.00000000e+00, 4.02989237e-01],\n",
       "       [1.00000000e+00, 2.08297584e-01, 9.51263990e-01, 3.94144170e-01],\n",
       "       [0.00000000e+00, 3.11244356e-01, 9.51263990e-01, 4.21448018e-01],\n",
       "       [0.00000000e+00, 2.93989073e-01, 9.51263990e-01, 4.49819456e-01],\n",
       "       [0.00000000e+00, 3.16362448e-01, 1.00000000e+00, 4.34805341e-01],\n",
       "       [0.00000000e+00, 2.81705651e-01, 1.00000000e+00, 4.21336109e-01],\n",
       "       [0.00000000e+00, 3.04371489e-01, 9.51263990e-01, 4.37045074e-01],\n",
       "       [1.00000000e+00, 2.84045351e-01, 9.51263990e-01, 1.99330757e-02],\n",
       "       [1.00000000e+00, 2.07712659e-01, 9.51263990e-01, 7.51593971e-03],\n",
       "       [0.00000000e+00, 2.16652704e-01, 9.51263990e-01, 6.33573660e-04],\n",
       "       [0.00000000e+00, 2.81705651e-01, 9.51263990e-01, 2.27164643e-02],\n",
       "       [0.00000000e+00, 2.64304138e-01, 9.51263990e-01, 2.12298826e-02],\n",
       "       [0.00000000e+00, 2.65327756e-01, 1.00000000e+00, 2.07741103e-02],\n",
       "       [0.00000000e+00, 2.68325496e-01, 1.00000000e+00, 2.09870492e-02],\n",
       "       [1.00000000e+00, 1.98207631e-01, 1.00000000e+00, 1.89340389e-02],\n",
       "       [1.00000000e+00, 2.26430254e-01, 1.00000000e+00, 8.63236286e-03],\n",
       "       [0.00000000e+00, 2.77611178e-01, 9.51263990e-01, 0.00000000e+00],\n",
       "       [0.00000000e+00, 2.68983536e-01, 9.51263990e-01, 2.06103953e-02],\n",
       "       [0.00000000e+00, 3.30546875e-01, 9.51263990e-01, 4.21557970e-01],\n",
       "       [0.00000000e+00, 3.47948389e-01, 9.51263990e-01, 4.05286020e-01],\n",
       "       [0.00000000e+00, 4.36856965e-01, 1.00000000e+00, 3.95041081e-01],\n",
       "       [1.00000000e+00, 4.19601682e-01, 9.51263990e-01, 3.78502586e-01],\n",
       "       [1.00000000e+00, 4.84820802e-01, 9.51263990e-01, 3.45986625e-01],\n",
       "       [0.00000000e+00, 4.60692652e-01, 9.51263990e-01, 3.48594481e-01],\n",
       "       [0.00000000e+00, 4.72683611e-01, 9.51263990e-01, 3.66558909e-01],\n",
       "       [0.00000000e+00, 4.23842387e-01, 1.00000000e+00, 3.55625615e-01],\n",
       "       [0.00000000e+00, 4.43729832e-01, 9.51263990e-01, 3.56493414e-01],\n",
       "       [0.00000000e+00, 5.28397702e-01, 1.00000000e+00, 3.51568271e-01],\n",
       "       [1.00000000e+00, 4.64202201e-01, 9.51263990e-01, 3.36171867e-01],\n",
       "       [1.00000000e+00, 3.52774019e-01, 9.51263990e-01, 3.13399449e-01],\n",
       "       [0.00000000e+00, 2.79512183e-01, 9.51263990e-01, 3.24027772e-01],\n",
       "       [0.00000000e+00, 2.73224241e-01, 9.51263990e-01, 3.72903723e-01],\n",
       "       [0.00000000e+00, 2.39298601e-01, 1.00000000e+00, 3.69905909e-01],\n",
       "       [0.00000000e+00, 4.43583601e-01, 1.00000000e+00, 3.78576305e-01],\n",
       "       [0.00000000e+00, 4.50310236e-01, 9.51263990e-01, 3.30227810e-01],\n",
       "       [1.00000000e+00, 3.40929291e-01, 9.51263990e-01, 2.94623804e-01],\n",
       "       [1.00000000e+00, 3.00735649e-01, 9.51263990e-01, 2.93131666e-01],\n",
       "       [0.00000000e+00, 3.05980032e-01, 1.00000000e+00, 3.05568601e-01],\n",
       "       [0.00000000e+00, 3.36542355e-01, 1.00000000e+00, 3.49007290e-01],\n",
       "       [0.00000000e+00, 4.05417255e-01, 1.00000000e+00, 3.71438271e-01],\n",
       "       [0.00000000e+00, 4.52065011e-01, 1.00000000e+00, 3.59673960e-01],\n",
       "       [0.00000000e+00, 4.77947935e-01, 1.00000000e+00, 3.47727622e-01],\n",
       "       [1.00000000e+00, 4.94618293e-01, 1.00000000e+00, 3.39185960e-01],\n",
       "       [1.00000000e+00, 5.26496696e-01, 1.00000000e+00, 3.26990371e-01],\n",
       "       [0.00000000e+00, 5.47553991e-01, 1.00000000e+00, 3.34823489e-01],\n",
       "       [0.00000000e+00, 3.46047384e-01, 1.00000000e+00, 3.47252520e-01],\n",
       "       [0.00000000e+00, 3.35226274e-01, 1.00000000e+00, 1.69394088e-02],\n",
       "       [0.00000000e+00, 3.99714238e-01, 1.00000000e+00, 3.49219056e-01],\n",
       "       [0.00000000e+00, 5.09387645e-01, 1.00000000e+00, 3.41253604e-01],\n",
       "       [1.00000000e+00, 5.88060036e-01, 1.00000000e+00, 3.29532335e-01],\n",
       "       [1.00000000e+00, 5.93470590e-01, 1.00000000e+00, 3.07824298e-01],\n",
       "       [0.00000000e+00, 5.40096199e-01, 1.00000000e+00, 3.10189243e-01],\n",
       "       [0.00000000e+00, 4.52796167e-01, 1.00000000e+00, 3.30114650e-01],\n",
       "       [0.00000000e+00, 3.61886882e-01, 1.00000000e+00, 3.29725866e-01],\n",
       "       [0.00000000e+00, 3.42830297e-01, 1.00000000e+00, 3.34014227e-01],\n",
       "       [0.00000000e+00, 3.39613210e-01, 1.00000000e+00, 3.39317119e-01],\n",
       "       [1.00000000e+00, 3.92256446e-01, 1.00000000e+00, 3.31184510e-01],\n",
       "       [1.00000000e+00, 3.72515233e-01, 1.00000000e+00, 3.11384472e-01],\n",
       "       [0.00000000e+00, 2.69714692e-01, 1.00000000e+00, 3.27609389e-01],\n",
       "       [0.00000000e+00, 2.33595583e-01, 1.00000000e+00, 3.72408431e-01],\n",
       "       [0.00000000e+00, 2.74686553e-01, 1.00000000e+00, 3.66881565e-01],\n",
       "       [0.00000000e+00, 3.12852899e-01, 1.00000000e+00, 3.79619166e-01],\n",
       "       [0.00000000e+00, 3.63595129e-01, 1.00000000e+00, 3.79457094e-01],\n",
       "       [1.00000000e+00, 4.25012237e-01, 1.00000000e+00, 3.56482145e-01],\n",
       "       [1.00000000e+00, 3.69590608e-01, 1.00000000e+00, 3.28008424e-01],\n",
       "       [0.00000000e+00, 3.41221754e-01, 1.00000000e+00, 3.52616766e-01],\n",
       "       [0.00000000e+00, 4.06002180e-01, 1.00000000e+00, 3.98122631e-01],\n",
       "       [0.00000000e+00, 4.07464492e-01, 1.00000000e+00, 3.64471856e-01]])"
      ]
     },
     "execution_count": 22,
     "metadata": {},
     "output_type": "execute_result"
    }
   ],
   "source": [
    "X_test"
   ]
  },
  {
   "cell_type": "code",
   "execution_count": 83,
   "metadata": {},
   "outputs": [
    {
     "name": "stdout",
     "output_type": "stream",
     "text": [
      "Forma de X_train_seq: (1751, 1, 4)\n"
     ]
    }
   ],
   "source": [
    "# Crear secuencias de tiempo para LSTM\n",
    "time_steps = 1  # Esto significa que la predicción se basará en los últimos 10 días\n",
    "X_train_seq, y_train_seq = create_sequences(X_train, y_train, time_steps)\n",
    "X_test_seq, y_test_seq = create_sequences(X_test, y_test, time_steps)\n",
    "print(f\"Forma de X_train_seq: {X_train_seq.shape}\")  # Debe ser (samples, time_steps, features)"
   ]
  },
  {
   "cell_type": "code",
   "execution_count": 36,
   "metadata": {},
   "outputs": [
    {
     "data": {
      "text/plain": [
       "array([[0.        , 0.50968011, 0.90395824, 0.36194492]])"
      ]
     },
     "execution_count": 36,
     "metadata": {},
     "output_type": "execute_result"
    }
   ],
   "source": [
    "X_test_seq[0]"
   ]
  },
  {
   "cell_type": "code",
   "execution_count": 37,
   "metadata": {},
   "outputs": [
    {
     "data": {
      "text/plain": [
       "array([[0.        , 0.50968011, 0.90395824, 0.36194492],\n",
       "       [1.        , 0.43290872, 0.90395824, 0.34757205],\n",
       "       [1.        , 0.41345997, 0.90395824, 0.32698215],\n",
       "       [0.        , 0.58674395, 0.90395824, 0.33175391]])"
      ]
     },
     "execution_count": 37,
     "metadata": {},
     "output_type": "execute_result"
    }
   ],
   "source": [
    "X_test[:4]"
   ]
  },
  {
   "cell_type": "code",
   "execution_count": 34,
   "metadata": {},
   "outputs": [
    {
     "data": {
      "text/plain": [
       "array([0.33175391])"
      ]
     },
     "execution_count": 34,
     "metadata": {},
     "output_type": "execute_result"
    }
   ],
   "source": [
    "y_test_seq[0]"
   ]
  },
  {
   "cell_type": "code",
   "execution_count": 33,
   "metadata": {},
   "outputs": [
    {
     "data": {
      "text/plain": [
       "array([[0.34757205],\n",
       "       [0.32698215],\n",
       "       [0.33175391],\n",
       "       [0.35371511]])"
      ]
     },
     "execution_count": 33,
     "metadata": {},
     "output_type": "execute_result"
    }
   ],
   "source": [
    "y_test[:4]"
   ]
  },
  {
   "cell_type": "markdown",
   "metadata": {},
   "source": [
    "### IV.II. Definir modelo LSTM"
   ]
  },
  {
   "cell_type": "code",
   "execution_count": 38,
   "metadata": {},
   "outputs": [],
   "source": [
    "# Definir el modelo LSTM\n",
    "model = Sequential()"
   ]
  },
  {
   "cell_type": "code",
   "execution_count": 39,
   "metadata": {},
   "outputs": [
    {
     "name": "stderr",
     "output_type": "stream",
     "text": [
      "C:\\Users\\minip\\AppData\\Local\\Packages\\PythonSoftwareFoundation.Python.3.11_qbz5n2kfra8p0\\LocalCache\\local-packages\\Python311\\site-packages\\keras\\src\\layers\\rnn\\rnn.py:204: UserWarning: Do not pass an `input_shape`/`input_dim` argument to a layer. When using Sequential models, prefer using an `Input(shape)` object as the first layer in the model instead.\n",
      "  super().__init__(**kwargs)\n"
     ]
    }
   ],
   "source": [
    "# Primera capa LSTM con 50 unidades y dropout para regularización\n",
    "model.add(LSTM(16, return_sequences=True, input_shape=(X_train_seq.shape[1], X_train_seq.shape[2])))\n",
    "model.add(Dropout(0.2))\n",
    "# Segunda capa LSTM\n",
    "model.add(LSTM(32, return_sequences=False))\n",
    "model.add(Dropout(0.2))\n",
    "# Capa de salida para la predicción continua de la demanda de electricidad\n",
    "model.add(Dense(1))"
   ]
  },
  {
   "cell_type": "code",
   "execution_count": 40,
   "metadata": {},
   "outputs": [],
   "source": [
    "# Compilar el modelo\n",
    "model.compile(optimizer='adam', loss='mean_squared_error')"
   ]
  },
  {
   "cell_type": "code",
   "execution_count": 41,
   "metadata": {},
   "outputs": [
    {
     "data": {
      "text/html": [
       "<pre style=\"white-space:pre;overflow-x:auto;line-height:normal;font-family:Menlo,'DejaVu Sans Mono',consolas,'Courier New',monospace\"><span style=\"font-weight: bold\">Model: \"sequential\"</span>\n",
       "</pre>\n"
      ],
      "text/plain": [
       "\u001b[1mModel: \"sequential\"\u001b[0m\n"
      ]
     },
     "metadata": {},
     "output_type": "display_data"
    },
    {
     "data": {
      "text/html": [
       "<pre style=\"white-space:pre;overflow-x:auto;line-height:normal;font-family:Menlo,'DejaVu Sans Mono',consolas,'Courier New',monospace\">┏━━━━━━━━━━━━━━━━━━━━━━━━━━━━━━━━━┳━━━━━━━━━━━━━━━━━━━━━━━━┳━━━━━━━━━━━━━━━┓\n",
       "┃<span style=\"font-weight: bold\"> Layer (type)                    </span>┃<span style=\"font-weight: bold\"> Output Shape           </span>┃<span style=\"font-weight: bold\">       Param # </span>┃\n",
       "┡━━━━━━━━━━━━━━━━━━━━━━━━━━━━━━━━━╇━━━━━━━━━━━━━━━━━━━━━━━━╇━━━━━━━━━━━━━━━┩\n",
       "│ lstm (<span style=\"color: #0087ff; text-decoration-color: #0087ff\">LSTM</span>)                     │ (<span style=\"color: #00d7ff; text-decoration-color: #00d7ff\">None</span>, <span style=\"color: #00af00; text-decoration-color: #00af00\">1</span>, <span style=\"color: #00af00; text-decoration-color: #00af00\">16</span>)          │         <span style=\"color: #00af00; text-decoration-color: #00af00\">1,344</span> │\n",
       "├─────────────────────────────────┼────────────────────────┼───────────────┤\n",
       "│ dropout (<span style=\"color: #0087ff; text-decoration-color: #0087ff\">Dropout</span>)               │ (<span style=\"color: #00d7ff; text-decoration-color: #00d7ff\">None</span>, <span style=\"color: #00af00; text-decoration-color: #00af00\">1</span>, <span style=\"color: #00af00; text-decoration-color: #00af00\">16</span>)          │             <span style=\"color: #00af00; text-decoration-color: #00af00\">0</span> │\n",
       "├─────────────────────────────────┼────────────────────────┼───────────────┤\n",
       "│ lstm_1 (<span style=\"color: #0087ff; text-decoration-color: #0087ff\">LSTM</span>)                   │ (<span style=\"color: #00d7ff; text-decoration-color: #00d7ff\">None</span>, <span style=\"color: #00af00; text-decoration-color: #00af00\">32</span>)             │         <span style=\"color: #00af00; text-decoration-color: #00af00\">6,272</span> │\n",
       "├─────────────────────────────────┼────────────────────────┼───────────────┤\n",
       "│ dropout_1 (<span style=\"color: #0087ff; text-decoration-color: #0087ff\">Dropout</span>)             │ (<span style=\"color: #00d7ff; text-decoration-color: #00d7ff\">None</span>, <span style=\"color: #00af00; text-decoration-color: #00af00\">32</span>)             │             <span style=\"color: #00af00; text-decoration-color: #00af00\">0</span> │\n",
       "├─────────────────────────────────┼────────────────────────┼───────────────┤\n",
       "│ dense (<span style=\"color: #0087ff; text-decoration-color: #0087ff\">Dense</span>)                   │ (<span style=\"color: #00d7ff; text-decoration-color: #00d7ff\">None</span>, <span style=\"color: #00af00; text-decoration-color: #00af00\">1</span>)              │            <span style=\"color: #00af00; text-decoration-color: #00af00\">33</span> │\n",
       "└─────────────────────────────────┴────────────────────────┴───────────────┘\n",
       "</pre>\n"
      ],
      "text/plain": [
       "┏━━━━━━━━━━━━━━━━━━━━━━━━━━━━━━━━━┳━━━━━━━━━━━━━━━━━━━━━━━━┳━━━━━━━━━━━━━━━┓\n",
       "┃\u001b[1m \u001b[0m\u001b[1mLayer (type)                   \u001b[0m\u001b[1m \u001b[0m┃\u001b[1m \u001b[0m\u001b[1mOutput Shape          \u001b[0m\u001b[1m \u001b[0m┃\u001b[1m \u001b[0m\u001b[1m      Param #\u001b[0m\u001b[1m \u001b[0m┃\n",
       "┡━━━━━━━━━━━━━━━━━━━━━━━━━━━━━━━━━╇━━━━━━━━━━━━━━━━━━━━━━━━╇━━━━━━━━━━━━━━━┩\n",
       "│ lstm (\u001b[38;5;33mLSTM\u001b[0m)                     │ (\u001b[38;5;45mNone\u001b[0m, \u001b[38;5;34m1\u001b[0m, \u001b[38;5;34m16\u001b[0m)          │         \u001b[38;5;34m1,344\u001b[0m │\n",
       "├─────────────────────────────────┼────────────────────────┼───────────────┤\n",
       "│ dropout (\u001b[38;5;33mDropout\u001b[0m)               │ (\u001b[38;5;45mNone\u001b[0m, \u001b[38;5;34m1\u001b[0m, \u001b[38;5;34m16\u001b[0m)          │             \u001b[38;5;34m0\u001b[0m │\n",
       "├─────────────────────────────────┼────────────────────────┼───────────────┤\n",
       "│ lstm_1 (\u001b[38;5;33mLSTM\u001b[0m)                   │ (\u001b[38;5;45mNone\u001b[0m, \u001b[38;5;34m32\u001b[0m)             │         \u001b[38;5;34m6,272\u001b[0m │\n",
       "├─────────────────────────────────┼────────────────────────┼───────────────┤\n",
       "│ dropout_1 (\u001b[38;5;33mDropout\u001b[0m)             │ (\u001b[38;5;45mNone\u001b[0m, \u001b[38;5;34m32\u001b[0m)             │             \u001b[38;5;34m0\u001b[0m │\n",
       "├─────────────────────────────────┼────────────────────────┼───────────────┤\n",
       "│ dense (\u001b[38;5;33mDense\u001b[0m)                   │ (\u001b[38;5;45mNone\u001b[0m, \u001b[38;5;34m1\u001b[0m)              │            \u001b[38;5;34m33\u001b[0m │\n",
       "└─────────────────────────────────┴────────────────────────┴───────────────┘\n"
      ]
     },
     "metadata": {},
     "output_type": "display_data"
    },
    {
     "data": {
      "text/html": [
       "<pre style=\"white-space:pre;overflow-x:auto;line-height:normal;font-family:Menlo,'DejaVu Sans Mono',consolas,'Courier New',monospace\"><span style=\"font-weight: bold\"> Total params: </span><span style=\"color: #00af00; text-decoration-color: #00af00\">7,649</span> (29.88 KB)\n",
       "</pre>\n"
      ],
      "text/plain": [
       "\u001b[1m Total params: \u001b[0m\u001b[38;5;34m7,649\u001b[0m (29.88 KB)\n"
      ]
     },
     "metadata": {},
     "output_type": "display_data"
    },
    {
     "data": {
      "text/html": [
       "<pre style=\"white-space:pre;overflow-x:auto;line-height:normal;font-family:Menlo,'DejaVu Sans Mono',consolas,'Courier New',monospace\"><span style=\"font-weight: bold\"> Trainable params: </span><span style=\"color: #00af00; text-decoration-color: #00af00\">7,649</span> (29.88 KB)\n",
       "</pre>\n"
      ],
      "text/plain": [
       "\u001b[1m Trainable params: \u001b[0m\u001b[38;5;34m7,649\u001b[0m (29.88 KB)\n"
      ]
     },
     "metadata": {},
     "output_type": "display_data"
    },
    {
     "data": {
      "text/html": [
       "<pre style=\"white-space:pre;overflow-x:auto;line-height:normal;font-family:Menlo,'DejaVu Sans Mono',consolas,'Courier New',monospace\"><span style=\"font-weight: bold\"> Non-trainable params: </span><span style=\"color: #00af00; text-decoration-color: #00af00\">0</span> (0.00 B)\n",
       "</pre>\n"
      ],
      "text/plain": [
       "\u001b[1m Non-trainable params: \u001b[0m\u001b[38;5;34m0\u001b[0m (0.00 B)\n"
      ]
     },
     "metadata": {},
     "output_type": "display_data"
    }
   ],
   "source": [
    "# Mostrar el resumen del modelo\n",
    "model.summary()"
   ]
  },
  {
   "cell_type": "markdown",
   "metadata": {},
   "source": [
    "### IV.III Entrenamiento del Modelo"
   ]
  },
  {
   "cell_type": "code",
   "execution_count": 42,
   "metadata": {},
   "outputs": [
    {
     "name": "stdout",
     "output_type": "stream",
     "text": [
      "Epoch 1/100\n",
      "\u001b[1m55/55\u001b[0m \u001b[32m━━━━━━━━━━━━━━━━━━━━\u001b[0m\u001b[37m\u001b[0m \u001b[1m3s\u001b[0m 8ms/step - loss: 0.1503 - val_loss: 0.0176\n",
      "Epoch 2/100\n",
      "\u001b[1m55/55\u001b[0m \u001b[32m━━━━━━━━━━━━━━━━━━━━\u001b[0m\u001b[37m\u001b[0m \u001b[1m0s\u001b[0m 2ms/step - loss: 0.0161 - val_loss: 0.0135\n",
      "Epoch 3/100\n",
      "\u001b[1m55/55\u001b[0m \u001b[32m━━━━━━━━━━━━━━━━━━━━\u001b[0m\u001b[37m\u001b[0m \u001b[1m0s\u001b[0m 2ms/step - loss: 0.0091 - val_loss: 0.0141\n",
      "Epoch 4/100\n",
      "\u001b[1m55/55\u001b[0m \u001b[32m━━━━━━━━━━━━━━━━━━━━\u001b[0m\u001b[37m\u001b[0m \u001b[1m0s\u001b[0m 2ms/step - loss: 0.0077 - val_loss: 0.0122\n",
      "Epoch 5/100\n",
      "\u001b[1m55/55\u001b[0m \u001b[32m━━━━━━━━━━━━━━━━━━━━\u001b[0m\u001b[37m\u001b[0m \u001b[1m0s\u001b[0m 2ms/step - loss: 0.0069 - val_loss: 0.0108\n",
      "Epoch 6/100\n",
      "\u001b[1m55/55\u001b[0m \u001b[32m━━━━━━━━━━━━━━━━━━━━\u001b[0m\u001b[37m\u001b[0m \u001b[1m0s\u001b[0m 2ms/step - loss: 0.0055 - val_loss: 0.0091\n",
      "Epoch 7/100\n",
      "\u001b[1m55/55\u001b[0m \u001b[32m━━━━━━━━━━━━━━━━━━━━\u001b[0m\u001b[37m\u001b[0m \u001b[1m0s\u001b[0m 2ms/step - loss: 0.0054 - val_loss: 0.0076\n",
      "Epoch 8/100\n",
      "\u001b[1m55/55\u001b[0m \u001b[32m━━━━━━━━━━━━━━━━━━━━\u001b[0m\u001b[37m\u001b[0m \u001b[1m0s\u001b[0m 2ms/step - loss: 0.0051 - val_loss: 0.0077\n",
      "Epoch 9/100\n",
      "\u001b[1m55/55\u001b[0m \u001b[32m━━━━━━━━━━━━━━━━━━━━\u001b[0m\u001b[37m\u001b[0m \u001b[1m0s\u001b[0m 2ms/step - loss: 0.0044 - val_loss: 0.0072\n",
      "Epoch 10/100\n",
      "\u001b[1m55/55\u001b[0m \u001b[32m━━━━━━━━━━━━━━━━━━━━\u001b[0m\u001b[37m\u001b[0m \u001b[1m0s\u001b[0m 2ms/step - loss: 0.0045 - val_loss: 0.0069\n",
      "Epoch 11/100\n",
      "\u001b[1m55/55\u001b[0m \u001b[32m━━━━━━━━━━━━━━━━━━━━\u001b[0m\u001b[37m\u001b[0m \u001b[1m0s\u001b[0m 2ms/step - loss: 0.0038 - val_loss: 0.0070\n",
      "Epoch 12/100\n",
      "\u001b[1m55/55\u001b[0m \u001b[32m━━━━━━━━━━━━━━━━━━━━\u001b[0m\u001b[37m\u001b[0m \u001b[1m0s\u001b[0m 2ms/step - loss: 0.0040 - val_loss: 0.0070\n",
      "Epoch 13/100\n",
      "\u001b[1m55/55\u001b[0m \u001b[32m━━━━━━━━━━━━━━━━━━━━\u001b[0m\u001b[37m\u001b[0m \u001b[1m0s\u001b[0m 2ms/step - loss: 0.0040 - val_loss: 0.0067\n",
      "Epoch 14/100\n",
      "\u001b[1m55/55\u001b[0m \u001b[32m━━━━━━━━━━━━━━━━━━━━\u001b[0m\u001b[37m\u001b[0m \u001b[1m0s\u001b[0m 2ms/step - loss: 0.0040 - val_loss: 0.0066\n",
      "Epoch 15/100\n",
      "\u001b[1m55/55\u001b[0m \u001b[32m━━━━━━━━━━━━━━━━━━━━\u001b[0m\u001b[37m\u001b[0m \u001b[1m0s\u001b[0m 2ms/step - loss: 0.0043 - val_loss: 0.0064\n",
      "Epoch 16/100\n",
      "\u001b[1m55/55\u001b[0m \u001b[32m━━━━━━━━━━━━━━━━━━━━\u001b[0m\u001b[37m\u001b[0m \u001b[1m0s\u001b[0m 2ms/step - loss: 0.0040 - val_loss: 0.0066\n",
      "Epoch 17/100\n",
      "\u001b[1m55/55\u001b[0m \u001b[32m━━━━━━━━━━━━━━━━━━━━\u001b[0m\u001b[37m\u001b[0m \u001b[1m0s\u001b[0m 2ms/step - loss: 0.0033 - val_loss: 0.0067\n",
      "Epoch 18/100\n",
      "\u001b[1m55/55\u001b[0m \u001b[32m━━━━━━━━━━━━━━━━━━━━\u001b[0m\u001b[37m\u001b[0m \u001b[1m0s\u001b[0m 2ms/step - loss: 0.0037 - val_loss: 0.0062\n",
      "Epoch 19/100\n",
      "\u001b[1m55/55\u001b[0m \u001b[32m━━━━━━━━━━━━━━━━━━━━\u001b[0m\u001b[37m\u001b[0m \u001b[1m0s\u001b[0m 2ms/step - loss: 0.0034 - val_loss: 0.0062\n",
      "Epoch 20/100\n",
      "\u001b[1m55/55\u001b[0m \u001b[32m━━━━━━━━━━━━━━━━━━━━\u001b[0m\u001b[37m\u001b[0m \u001b[1m0s\u001b[0m 2ms/step - loss: 0.0038 - val_loss: 0.0060\n",
      "Epoch 21/100\n",
      "\u001b[1m55/55\u001b[0m \u001b[32m━━━━━━━━━━━━━━━━━━━━\u001b[0m\u001b[37m\u001b[0m \u001b[1m0s\u001b[0m 2ms/step - loss: 0.0038 - val_loss: 0.0060\n",
      "Epoch 22/100\n",
      "\u001b[1m55/55\u001b[0m \u001b[32m━━━━━━━━━━━━━━━━━━━━\u001b[0m\u001b[37m\u001b[0m \u001b[1m0s\u001b[0m 2ms/step - loss: 0.0030 - val_loss: 0.0061\n",
      "Epoch 23/100\n",
      "\u001b[1m55/55\u001b[0m \u001b[32m━━━━━━━━━━━━━━━━━━━━\u001b[0m\u001b[37m\u001b[0m \u001b[1m0s\u001b[0m 2ms/step - loss: 0.0038 - val_loss: 0.0058\n",
      "Epoch 24/100\n",
      "\u001b[1m55/55\u001b[0m \u001b[32m━━━━━━━━━━━━━━━━━━━━\u001b[0m\u001b[37m\u001b[0m \u001b[1m0s\u001b[0m 2ms/step - loss: 0.0036 - val_loss: 0.0058\n",
      "Epoch 25/100\n",
      "\u001b[1m55/55\u001b[0m \u001b[32m━━━━━━━━━━━━━━━━━━━━\u001b[0m\u001b[37m\u001b[0m \u001b[1m0s\u001b[0m 2ms/step - loss: 0.0030 - val_loss: 0.0055\n",
      "Epoch 26/100\n",
      "\u001b[1m55/55\u001b[0m \u001b[32m━━━━━━━━━━━━━━━━━━━━\u001b[0m\u001b[37m\u001b[0m \u001b[1m0s\u001b[0m 2ms/step - loss: 0.0034 - val_loss: 0.0056\n",
      "Epoch 27/100\n",
      "\u001b[1m55/55\u001b[0m \u001b[32m━━━━━━━━━━━━━━━━━━━━\u001b[0m\u001b[37m\u001b[0m \u001b[1m0s\u001b[0m 2ms/step - loss: 0.0031 - val_loss: 0.0055\n",
      "Epoch 28/100\n",
      "\u001b[1m55/55\u001b[0m \u001b[32m━━━━━━━━━━━━━━━━━━━━\u001b[0m\u001b[37m\u001b[0m \u001b[1m0s\u001b[0m 2ms/step - loss: 0.0028 - val_loss: 0.0056\n",
      "Epoch 29/100\n",
      "\u001b[1m55/55\u001b[0m \u001b[32m━━━━━━━━━━━━━━━━━━━━\u001b[0m\u001b[37m\u001b[0m \u001b[1m0s\u001b[0m 2ms/step - loss: 0.0029 - val_loss: 0.0055\n",
      "Epoch 30/100\n",
      "\u001b[1m55/55\u001b[0m \u001b[32m━━━━━━━━━━━━━━━━━━━━\u001b[0m\u001b[37m\u001b[0m \u001b[1m0s\u001b[0m 2ms/step - loss: 0.0025 - val_loss: 0.0052\n",
      "Epoch 31/100\n",
      "\u001b[1m55/55\u001b[0m \u001b[32m━━━━━━━━━━━━━━━━━━━━\u001b[0m\u001b[37m\u001b[0m \u001b[1m0s\u001b[0m 2ms/step - loss: 0.0030 - val_loss: 0.0052\n",
      "Epoch 32/100\n",
      "\u001b[1m55/55\u001b[0m \u001b[32m━━━━━━━━━━━━━━━━━━━━\u001b[0m\u001b[37m\u001b[0m \u001b[1m0s\u001b[0m 2ms/step - loss: 0.0028 - val_loss: 0.0053\n",
      "Epoch 33/100\n",
      "\u001b[1m55/55\u001b[0m \u001b[32m━━━━━━━━━━━━━━━━━━━━\u001b[0m\u001b[37m\u001b[0m \u001b[1m0s\u001b[0m 2ms/step - loss: 0.0030 - val_loss: 0.0053\n",
      "Epoch 34/100\n",
      "\u001b[1m55/55\u001b[0m \u001b[32m━━━━━━━━━━━━━━━━━━━━\u001b[0m\u001b[37m\u001b[0m \u001b[1m0s\u001b[0m 2ms/step - loss: 0.0026 - val_loss: 0.0052\n",
      "Epoch 35/100\n",
      "\u001b[1m55/55\u001b[0m \u001b[32m━━━━━━━━━━━━━━━━━━━━\u001b[0m\u001b[37m\u001b[0m \u001b[1m0s\u001b[0m 2ms/step - loss: 0.0029 - val_loss: 0.0052\n",
      "Epoch 36/100\n",
      "\u001b[1m55/55\u001b[0m \u001b[32m━━━━━━━━━━━━━━━━━━━━\u001b[0m\u001b[37m\u001b[0m \u001b[1m0s\u001b[0m 2ms/step - loss: 0.0025 - val_loss: 0.0052\n",
      "Epoch 37/100\n",
      "\u001b[1m55/55\u001b[0m \u001b[32m━━━━━━━━━━━━━━━━━━━━\u001b[0m\u001b[37m\u001b[0m \u001b[1m0s\u001b[0m 2ms/step - loss: 0.0025 - val_loss: 0.0051\n",
      "Epoch 38/100\n",
      "\u001b[1m55/55\u001b[0m \u001b[32m━━━━━━━━━━━━━━━━━━━━\u001b[0m\u001b[37m\u001b[0m \u001b[1m0s\u001b[0m 2ms/step - loss: 0.0029 - val_loss: 0.0050\n",
      "Epoch 39/100\n",
      "\u001b[1m55/55\u001b[0m \u001b[32m━━━━━━━━━━━━━━━━━━━━\u001b[0m\u001b[37m\u001b[0m \u001b[1m0s\u001b[0m 2ms/step - loss: 0.0026 - val_loss: 0.0050\n",
      "Epoch 40/100\n",
      "\u001b[1m55/55\u001b[0m \u001b[32m━━━━━━━━━━━━━━━━━━━━\u001b[0m\u001b[37m\u001b[0m \u001b[1m0s\u001b[0m 2ms/step - loss: 0.0026 - val_loss: 0.0051\n",
      "Epoch 41/100\n",
      "\u001b[1m55/55\u001b[0m \u001b[32m━━━━━━━━━━━━━━━━━━━━\u001b[0m\u001b[37m\u001b[0m \u001b[1m0s\u001b[0m 2ms/step - loss: 0.0026 - val_loss: 0.0052\n",
      "Epoch 42/100\n",
      "\u001b[1m55/55\u001b[0m \u001b[32m━━━━━━━━━━━━━━━━━━━━\u001b[0m\u001b[37m\u001b[0m \u001b[1m0s\u001b[0m 2ms/step - loss: 0.0026 - val_loss: 0.0050\n",
      "Epoch 43/100\n",
      "\u001b[1m55/55\u001b[0m \u001b[32m━━━━━━━━━━━━━━━━━━━━\u001b[0m\u001b[37m\u001b[0m \u001b[1m0s\u001b[0m 2ms/step - loss: 0.0027 - val_loss: 0.0050\n",
      "Epoch 44/100\n",
      "\u001b[1m55/55\u001b[0m \u001b[32m━━━━━━━━━━━━━━━━━━━━\u001b[0m\u001b[37m\u001b[0m \u001b[1m0s\u001b[0m 2ms/step - loss: 0.0026 - val_loss: 0.0049\n",
      "Epoch 45/100\n",
      "\u001b[1m55/55\u001b[0m \u001b[32m━━━━━━━━━━━━━━━━━━━━\u001b[0m\u001b[37m\u001b[0m \u001b[1m0s\u001b[0m 2ms/step - loss: 0.0022 - val_loss: 0.0049\n",
      "Epoch 46/100\n",
      "\u001b[1m55/55\u001b[0m \u001b[32m━━━━━━━━━━━━━━━━━━━━\u001b[0m\u001b[37m\u001b[0m \u001b[1m0s\u001b[0m 2ms/step - loss: 0.0025 - val_loss: 0.0048\n",
      "Epoch 47/100\n",
      "\u001b[1m55/55\u001b[0m \u001b[32m━━━━━━━━━━━━━━━━━━━━\u001b[0m\u001b[37m\u001b[0m \u001b[1m0s\u001b[0m 2ms/step - loss: 0.0025 - val_loss: 0.0050\n",
      "Epoch 48/100\n",
      "\u001b[1m55/55\u001b[0m \u001b[32m━━━━━━━━━━━━━━━━━━━━\u001b[0m\u001b[37m\u001b[0m \u001b[1m0s\u001b[0m 2ms/step - loss: 0.0021 - val_loss: 0.0049\n",
      "Epoch 49/100\n",
      "\u001b[1m55/55\u001b[0m \u001b[32m━━━━━━━━━━━━━━━━━━━━\u001b[0m\u001b[37m\u001b[0m \u001b[1m0s\u001b[0m 2ms/step - loss: 0.0022 - val_loss: 0.0051\n",
      "Epoch 50/100\n",
      "\u001b[1m55/55\u001b[0m \u001b[32m━━━━━━━━━━━━━━━━━━━━\u001b[0m\u001b[37m\u001b[0m \u001b[1m0s\u001b[0m 2ms/step - loss: 0.0021 - val_loss: 0.0049\n",
      "Epoch 51/100\n",
      "\u001b[1m55/55\u001b[0m \u001b[32m━━━━━━━━━━━━━━━━━━━━\u001b[0m\u001b[37m\u001b[0m \u001b[1m0s\u001b[0m 2ms/step - loss: 0.0020 - val_loss: 0.0049\n",
      "Epoch 52/100\n",
      "\u001b[1m55/55\u001b[0m \u001b[32m━━━━━━━━━━━━━━━━━━━━\u001b[0m\u001b[37m\u001b[0m \u001b[1m0s\u001b[0m 2ms/step - loss: 0.0021 - val_loss: 0.0048\n",
      "Epoch 53/100\n",
      "\u001b[1m55/55\u001b[0m \u001b[32m━━━━━━━━━━━━━━━━━━━━\u001b[0m\u001b[37m\u001b[0m \u001b[1m0s\u001b[0m 3ms/step - loss: 0.0023 - val_loss: 0.0048\n",
      "Epoch 54/100\n",
      "\u001b[1m55/55\u001b[0m \u001b[32m━━━━━━━━━━━━━━━━━━━━\u001b[0m\u001b[37m\u001b[0m \u001b[1m0s\u001b[0m 2ms/step - loss: 0.0028 - val_loss: 0.0048\n",
      "Epoch 55/100\n",
      "\u001b[1m55/55\u001b[0m \u001b[32m━━━━━━━━━━━━━━━━━━━━\u001b[0m\u001b[37m\u001b[0m \u001b[1m0s\u001b[0m 2ms/step - loss: 0.0027 - val_loss: 0.0049\n",
      "Epoch 56/100\n",
      "\u001b[1m55/55\u001b[0m \u001b[32m━━━━━━━━━━━━━━━━━━━━\u001b[0m\u001b[37m\u001b[0m \u001b[1m0s\u001b[0m 2ms/step - loss: 0.0020 - val_loss: 0.0048\n",
      "Epoch 57/100\n",
      "\u001b[1m55/55\u001b[0m \u001b[32m━━━━━━━━━━━━━━━━━━━━\u001b[0m\u001b[37m\u001b[0m \u001b[1m0s\u001b[0m 2ms/step - loss: 0.0022 - val_loss: 0.0049\n",
      "Epoch 58/100\n",
      "\u001b[1m55/55\u001b[0m \u001b[32m━━━━━━━━━━━━━━━━━━━━\u001b[0m\u001b[37m\u001b[0m \u001b[1m0s\u001b[0m 2ms/step - loss: 0.0020 - val_loss: 0.0048\n",
      "Epoch 59/100\n",
      "\u001b[1m55/55\u001b[0m \u001b[32m━━━━━━━━━━━━━━━━━━━━\u001b[0m\u001b[37m\u001b[0m \u001b[1m0s\u001b[0m 2ms/step - loss: 0.0019 - val_loss: 0.0050\n",
      "Epoch 60/100\n",
      "\u001b[1m55/55\u001b[0m \u001b[32m━━━━━━━━━━━━━━━━━━━━\u001b[0m\u001b[37m\u001b[0m \u001b[1m0s\u001b[0m 2ms/step - loss: 0.0019 - val_loss: 0.0048\n",
      "Epoch 61/100\n",
      "\u001b[1m55/55\u001b[0m \u001b[32m━━━━━━━━━━━━━━━━━━━━\u001b[0m\u001b[37m\u001b[0m \u001b[1m0s\u001b[0m 2ms/step - loss: 0.0022 - val_loss: 0.0047\n",
      "Epoch 62/100\n",
      "\u001b[1m55/55\u001b[0m \u001b[32m━━━━━━━━━━━━━━━━━━━━\u001b[0m\u001b[37m\u001b[0m \u001b[1m0s\u001b[0m 2ms/step - loss: 0.0020 - val_loss: 0.0047\n",
      "Epoch 63/100\n",
      "\u001b[1m55/55\u001b[0m \u001b[32m━━━━━━━━━━━━━━━━━━━━\u001b[0m\u001b[37m\u001b[0m \u001b[1m0s\u001b[0m 3ms/step - loss: 0.0025 - val_loss: 0.0048\n",
      "Epoch 64/100\n",
      "\u001b[1m55/55\u001b[0m \u001b[32m━━━━━━━━━━━━━━━━━━━━\u001b[0m\u001b[37m\u001b[0m \u001b[1m0s\u001b[0m 2ms/step - loss: 0.0021 - val_loss: 0.0048\n",
      "Epoch 65/100\n",
      "\u001b[1m55/55\u001b[0m \u001b[32m━━━━━━━━━━━━━━━━━━━━\u001b[0m\u001b[37m\u001b[0m \u001b[1m0s\u001b[0m 2ms/step - loss: 0.0021 - val_loss: 0.0047\n",
      "Epoch 66/100\n",
      "\u001b[1m55/55\u001b[0m \u001b[32m━━━━━━━━━━━━━━━━━━━━\u001b[0m\u001b[37m\u001b[0m \u001b[1m0s\u001b[0m 2ms/step - loss: 0.0020 - val_loss: 0.0048\n",
      "Epoch 67/100\n",
      "\u001b[1m55/55\u001b[0m \u001b[32m━━━━━━━━━━━━━━━━━━━━\u001b[0m\u001b[37m\u001b[0m \u001b[1m0s\u001b[0m 2ms/step - loss: 0.0020 - val_loss: 0.0047\n",
      "Epoch 68/100\n",
      "\u001b[1m55/55\u001b[0m \u001b[32m━━━━━━━━━━━━━━━━━━━━\u001b[0m\u001b[37m\u001b[0m \u001b[1m0s\u001b[0m 2ms/step - loss: 0.0020 - val_loss: 0.0047\n",
      "Epoch 69/100\n",
      "\u001b[1m55/55\u001b[0m \u001b[32m━━━━━━━━━━━━━━━━━━━━\u001b[0m\u001b[37m\u001b[0m \u001b[1m0s\u001b[0m 2ms/step - loss: 0.0017 - val_loss: 0.0046\n",
      "Epoch 70/100\n",
      "\u001b[1m55/55\u001b[0m \u001b[32m━━━━━━━━━━━━━━━━━━━━\u001b[0m\u001b[37m\u001b[0m \u001b[1m0s\u001b[0m 2ms/step - loss: 0.0022 - val_loss: 0.0047\n",
      "Epoch 71/100\n",
      "\u001b[1m55/55\u001b[0m \u001b[32m━━━━━━━━━━━━━━━━━━━━\u001b[0m\u001b[37m\u001b[0m \u001b[1m0s\u001b[0m 2ms/step - loss: 0.0020 - val_loss: 0.0048\n",
      "Epoch 72/100\n",
      "\u001b[1m55/55\u001b[0m \u001b[32m━━━━━━━━━━━━━━━━━━━━\u001b[0m\u001b[37m\u001b[0m \u001b[1m0s\u001b[0m 2ms/step - loss: 0.0025 - val_loss: 0.0050\n",
      "Epoch 73/100\n",
      "\u001b[1m55/55\u001b[0m \u001b[32m━━━━━━━━━━━━━━━━━━━━\u001b[0m\u001b[37m\u001b[0m \u001b[1m0s\u001b[0m 2ms/step - loss: 0.0018 - val_loss: 0.0047\n",
      "Epoch 74/100\n",
      "\u001b[1m55/55\u001b[0m \u001b[32m━━━━━━━━━━━━━━━━━━━━\u001b[0m\u001b[37m\u001b[0m \u001b[1m0s\u001b[0m 2ms/step - loss: 0.0019 - val_loss: 0.0047\n",
      "Epoch 75/100\n",
      "\u001b[1m55/55\u001b[0m \u001b[32m━━━━━━━━━━━━━━━━━━━━\u001b[0m\u001b[37m\u001b[0m \u001b[1m0s\u001b[0m 2ms/step - loss: 0.0021 - val_loss: 0.0047\n",
      "Epoch 76/100\n",
      "\u001b[1m55/55\u001b[0m \u001b[32m━━━━━━━━━━━━━━━━━━━━\u001b[0m\u001b[37m\u001b[0m \u001b[1m0s\u001b[0m 2ms/step - loss: 0.0019 - val_loss: 0.0048\n",
      "Epoch 77/100\n",
      "\u001b[1m55/55\u001b[0m \u001b[32m━━━━━━━━━━━━━━━━━━━━\u001b[0m\u001b[37m\u001b[0m \u001b[1m0s\u001b[0m 2ms/step - loss: 0.0020 - val_loss: 0.0047\n",
      "Epoch 78/100\n",
      "\u001b[1m55/55\u001b[0m \u001b[32m━━━━━━━━━━━━━━━━━━━━\u001b[0m\u001b[37m\u001b[0m \u001b[1m0s\u001b[0m 2ms/step - loss: 0.0021 - val_loss: 0.0048\n",
      "Epoch 79/100\n",
      "\u001b[1m55/55\u001b[0m \u001b[32m━━━━━━━━━━━━━━━━━━━━\u001b[0m\u001b[37m\u001b[0m \u001b[1m0s\u001b[0m 2ms/step - loss: 0.0023 - val_loss: 0.0048\n",
      "Epoch 80/100\n",
      "\u001b[1m55/55\u001b[0m \u001b[32m━━━━━━━━━━━━━━━━━━━━\u001b[0m\u001b[37m\u001b[0m \u001b[1m0s\u001b[0m 2ms/step - loss: 0.0019 - val_loss: 0.0047\n",
      "Epoch 81/100\n",
      "\u001b[1m55/55\u001b[0m \u001b[32m━━━━━━━━━━━━━━━━━━━━\u001b[0m\u001b[37m\u001b[0m \u001b[1m0s\u001b[0m 2ms/step - loss: 0.0018 - val_loss: 0.0048\n",
      "Epoch 82/100\n",
      "\u001b[1m55/55\u001b[0m \u001b[32m━━━━━━━━━━━━━━━━━━━━\u001b[0m\u001b[37m\u001b[0m \u001b[1m0s\u001b[0m 2ms/step - loss: 0.0022 - val_loss: 0.0047\n",
      "Epoch 83/100\n",
      "\u001b[1m55/55\u001b[0m \u001b[32m━━━━━━━━━━━━━━━━━━━━\u001b[0m\u001b[37m\u001b[0m \u001b[1m0s\u001b[0m 2ms/step - loss: 0.0016 - val_loss: 0.0050\n",
      "Epoch 84/100\n",
      "\u001b[1m55/55\u001b[0m \u001b[32m━━━━━━━━━━━━━━━━━━━━\u001b[0m\u001b[37m\u001b[0m \u001b[1m0s\u001b[0m 2ms/step - loss: 0.0019 - val_loss: 0.0046\n",
      "Epoch 85/100\n",
      "\u001b[1m55/55\u001b[0m \u001b[32m━━━━━━━━━━━━━━━━━━━━\u001b[0m\u001b[37m\u001b[0m \u001b[1m0s\u001b[0m 2ms/step - loss: 0.0019 - val_loss: 0.0047\n",
      "Epoch 86/100\n",
      "\u001b[1m55/55\u001b[0m \u001b[32m━━━━━━━━━━━━━━━━━━━━\u001b[0m\u001b[37m\u001b[0m \u001b[1m0s\u001b[0m 2ms/step - loss: 0.0017 - val_loss: 0.0047\n",
      "Epoch 87/100\n",
      "\u001b[1m55/55\u001b[0m \u001b[32m━━━━━━━━━━━━━━━━━━━━\u001b[0m\u001b[37m\u001b[0m \u001b[1m0s\u001b[0m 2ms/step - loss: 0.0016 - val_loss: 0.0047\n",
      "Epoch 88/100\n",
      "\u001b[1m55/55\u001b[0m \u001b[32m━━━━━━━━━━━━━━━━━━━━\u001b[0m\u001b[37m\u001b[0m \u001b[1m0s\u001b[0m 2ms/step - loss: 0.0018 - val_loss: 0.0047\n",
      "Epoch 89/100\n",
      "\u001b[1m55/55\u001b[0m \u001b[32m━━━━━━━━━━━━━━━━━━━━\u001b[0m\u001b[37m\u001b[0m \u001b[1m0s\u001b[0m 2ms/step - loss: 0.0022 - val_loss: 0.0047\n",
      "Epoch 90/100\n",
      "\u001b[1m55/55\u001b[0m \u001b[32m━━━━━━━━━━━━━━━━━━━━\u001b[0m\u001b[37m\u001b[0m \u001b[1m0s\u001b[0m 2ms/step - loss: 0.0015 - val_loss: 0.0047\n",
      "Epoch 91/100\n",
      "\u001b[1m55/55\u001b[0m \u001b[32m━━━━━━━━━━━━━━━━━━━━\u001b[0m\u001b[37m\u001b[0m \u001b[1m0s\u001b[0m 2ms/step - loss: 0.0017 - val_loss: 0.0047\n",
      "Epoch 92/100\n",
      "\u001b[1m55/55\u001b[0m \u001b[32m━━━━━━━━━━━━━━━━━━━━\u001b[0m\u001b[37m\u001b[0m \u001b[1m0s\u001b[0m 2ms/step - loss: 0.0017 - val_loss: 0.0047\n",
      "Epoch 93/100\n",
      "\u001b[1m55/55\u001b[0m \u001b[32m━━━━━━━━━━━━━━━━━━━━\u001b[0m\u001b[37m\u001b[0m \u001b[1m0s\u001b[0m 2ms/step - loss: 0.0017 - val_loss: 0.0047\n",
      "Epoch 94/100\n",
      "\u001b[1m55/55\u001b[0m \u001b[32m━━━━━━━━━━━━━━━━━━━━\u001b[0m\u001b[37m\u001b[0m \u001b[1m0s\u001b[0m 2ms/step - loss: 0.0016 - val_loss: 0.0046\n",
      "Epoch 95/100\n",
      "\u001b[1m55/55\u001b[0m \u001b[32m━━━━━━━━━━━━━━━━━━━━\u001b[0m\u001b[37m\u001b[0m \u001b[1m0s\u001b[0m 2ms/step - loss: 0.0014 - val_loss: 0.0048\n",
      "Epoch 96/100\n",
      "\u001b[1m55/55\u001b[0m \u001b[32m━━━━━━━━━━━━━━━━━━━━\u001b[0m\u001b[37m\u001b[0m \u001b[1m0s\u001b[0m 2ms/step - loss: 0.0018 - val_loss: 0.0046\n",
      "Epoch 97/100\n",
      "\u001b[1m55/55\u001b[0m \u001b[32m━━━━━━━━━━━━━━━━━━━━\u001b[0m\u001b[37m\u001b[0m \u001b[1m0s\u001b[0m 2ms/step - loss: 0.0015 - val_loss: 0.0046\n",
      "Epoch 98/100\n",
      "\u001b[1m55/55\u001b[0m \u001b[32m━━━━━━━━━━━━━━━━━━━━\u001b[0m\u001b[37m\u001b[0m \u001b[1m0s\u001b[0m 2ms/step - loss: 0.0019 - val_loss: 0.0048\n",
      "Epoch 99/100\n",
      "\u001b[1m55/55\u001b[0m \u001b[32m━━━━━━━━━━━━━━━━━━━━\u001b[0m\u001b[37m\u001b[0m \u001b[1m0s\u001b[0m 2ms/step - loss: 0.0022 - val_loss: 0.0047\n",
      "Epoch 100/100\n",
      "\u001b[1m55/55\u001b[0m \u001b[32m━━━━━━━━━━━━━━━━━━━━\u001b[0m\u001b[37m\u001b[0m \u001b[1m0s\u001b[0m 2ms/step - loss: 0.0022 - val_loss: 0.0048\n"
     ]
    }
   ],
   "source": [
    "# Entrenamiento conm 100 epocas\n",
    "history = model.fit(X_train_seq, y_train_seq, epochs=100, batch_size=32, validation_data=(X_test_seq, y_test_seq))"
   ]
  },
  {
   "cell_type": "markdown",
   "metadata": {},
   "source": [
    "### IV.IV. Evaluacion del Modelo"
   ]
  },
  {
   "cell_type": "code",
   "execution_count": 43,
   "metadata": {},
   "outputs": [
    {
     "name": "stdout",
     "output_type": "stream",
     "text": [
      "\u001b[1m7/7\u001b[0m \u001b[32m━━━━━━━━━━━━━━━━━━━━\u001b[0m\u001b[37m\u001b[0m \u001b[1m0s\u001b[0m 1ms/step - loss: 0.0026     \n",
      "Loss: 0.0048009431920945644\n"
     ]
    }
   ],
   "source": [
    "# Evaluar el modelo en el conjunto de prueba\n",
    "loss = model.evaluate(X_test_seq, y_test_seq)\n",
    "print(f'Loss: {loss}')"
   ]
  },
  {
   "cell_type": "code",
   "execution_count": 44,
   "metadata": {},
   "outputs": [
    {
     "name": "stdout",
     "output_type": "stream",
     "text": [
      "\u001b[1m7/7\u001b[0m \u001b[32m━━━━━━━━━━━━━━━━━━━━\u001b[0m\u001b[37m\u001b[0m \u001b[1m0s\u001b[0m 40ms/step\n",
      "Predicciones: [5383503.5 5382742.5 5217272.5 5170677.  5310596. ]\n",
      "Valores reales: [4790260. 4851235. 5131862. 5068795. 5045937.]\n"
     ]
    }
   ],
   "source": [
    "#Comprobar la prediccion\n",
    "# Predecir los valores de prueba\n",
    "y_pred_scaled = model.predict(X_test_seq)\n",
    "# Desescalar las predicciones y los valores reales para comparar\n",
    "y_pred = scaler_y.inverse_transform(y_pred_scaled)\n",
    "y_test_true = scaler_y.inverse_transform(y_test_seq)\n",
    "# Comparar las primeras predicciones con los valores reales\n",
    "print(f\"Predicciones: {y_pred[:5].flatten()}\")\n",
    "print(f\"Valores reales: {y_test_true[:5].flatten()}\")"
   ]
  },
  {
   "cell_type": "code",
   "execution_count": 46,
   "metadata": {},
   "outputs": [
    {
     "data": {
      "text/plain": [
       "0.608205542699096"
      ]
     },
     "execution_count": 46,
     "metadata": {},
     "output_type": "execute_result"
    }
   ],
   "source": [
    "r2_score(y_test_true,y_pred)"
   ]
  },
  {
   "cell_type": "code",
   "execution_count": 47,
   "metadata": {},
   "outputs": [
    {
     "data": {
      "image/png": "[encoded data removed]",
      "text/plain": [
       "<Figure size 640x480 with 1 Axes>"
      ]
     },
     "metadata": {},
     "output_type": "display_data"
    }
   ],
   "source": [
    "# Visualizar la pérdida durante el entrenamiento\n",
    "plt.plot(history.history['loss'], label='Pérdida en entrenamiento')\n",
    "plt.plot(history.history['val_loss'], label='Pérdida en validación')\n",
    "plt.title('Pérdida durante el entrenamiento')\n",
    "plt.xlabel('Épocas')\n",
    "plt.ylabel('Pérdida')\n",
    "plt.legend()\n",
    "plt.show()"
   ]
  },
  {
   "cell_type": "markdown",
   "metadata": {},
   "source": [
    "## V. Guardar modelo y la escala no vaya a ser que se nos borre "
   ]
  },
  {
   "cell_type": "code",
   "execution_count": 48,
   "metadata": {},
   "outputs": [
    {
     "name": "stderr",
     "output_type": "stream",
     "text": [
      "WARNING:absl:You are saving your model as an HDF5 file via `model.save()` or `keras.saving.save_model(model)`. This file format is considered legacy. We recommend using instead the native Keras format, e.g. `model.save('my_model.keras')` or `keras.saving.save_model(model, 'my_model.keras')`. \n"
     ]
    }
   ],
   "source": [
    "#Extraccion del modelo en la carpeta modelos\n",
    "model.save('../models/modelo_residencial_Def.h5')"
   ]
  },
  {
   "cell_type": "code",
   "execution_count": 51,
   "metadata": {},
   "outputs": [],
   "source": [
    "# Guardamos el objeto escalador x con pickle\n",
    "with open('scaler_X_res.pkl', 'wb') as f:\n",
    "    pickle.dump(scaler_X, f)"
   ]
  },
  {
   "cell_type": "code",
   "execution_count": 52,
   "metadata": {},
   "outputs": [],
   "source": [
    "#Guardamos el objeto escalador y con pickle\n",
    "with open('scaler_y_res.pkl', 'wb') as f:\n",
    "    pickle.dump(scaler_y, f)"
   ]
  }
 ],
 "metadata": {
  "kernelspec": {
   "display_name": "Python 3",
   "language": "python",
   "name": "python3"
  },
  "language_info": {
   "codemirror_mode": {
    "name": "ipython",
    "version": 3
   },
   "file_extension": ".py",
   "mimetype": "text/x-python",
   "name": "python",
   "nbconvert_exporter": "python",
   "pygments_lexer": "ipython3",
   "version": "3.11.9"
  }
 },
 "nbformat": 4,
 "nbformat_minor": 2
}
